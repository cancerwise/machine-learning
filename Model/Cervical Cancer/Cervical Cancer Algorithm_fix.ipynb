{
  "cells": [
    {
      "cell_type": "code",
      "execution_count": null,
      "metadata": {
        "id": "IZO-Q4xgQbxE"
      },
      "outputs": [],
      "source": [
        "import numpy as np\n",
        "import matplotlib.pyplot as plt\n",
        "import pandas as pd\n",
        "import tensorflow as tf\n",
        "\n",
        "from tensorflow import keras\n",
        "from tensorflow.keras import layers\n",
        "from tensorflow.keras.models import Sequential\n",
        "from tensorflow.keras.layers import Dense, Dropout\n",
        "\n",
        "from imblearn.over_sampling import RandomOverSampler\n",
        "\n",
        "from collections import Counter\n",
        "from sklearn.model_selection import train_test_split\n",
        "from sklearn.linear_model import LogisticRegression\n",
        "from sklearn.preprocessing import MinMaxScaler, StandardScaler\n",
        "from sklearn.model_selection import cross_val_score\n",
        "from sklearn.metrics import confusion_matrix, accuracy_score, classification_report, precision_recall_fscore_support"
      ]
    },
    {
      "cell_type": "code",
      "execution_count": null,
      "metadata": {
        "colab": {
          "base_uri": "https://localhost:8080/",
          "height": 386
        },
        "id": "9PueFjQ-XagE",
        "outputId": "9b559391-9772-4c96-ffc1-650ce82769d7"
      },
      "outputs": [
        {
          "name": "stdout",
          "output_type": "stream",
          "text": [
            "Drive already mounted at /drive; to attempt to forcibly remount, call drive.mount(\"/drive\", force_remount=True).\n"
          ]
        },
        {
          "data": {
            "text/html": [
              "\n",
              "  <div id=\"df-bf6e63c5-45f1-465c-a00b-8e45766d9b9d\">\n",
              "    <div class=\"colab-df-container\">\n",
              "      <div>\n",
              "<style scoped>\n",
              "    .dataframe tbody tr th:only-of-type {\n",
              "        vertical-align: middle;\n",
              "    }\n",
              "\n",
              "    .dataframe tbody tr th {\n",
              "        vertical-align: top;\n",
              "    }\n",
              "\n",
              "    .dataframe thead th {\n",
              "        text-align: right;\n",
              "    }\n",
              "</style>\n",
              "<table border=\"1\" class=\"dataframe\">\n",
              "  <thead>\n",
              "    <tr style=\"text-align: right;\">\n",
              "      <th></th>\n",
              "      <th>Age</th>\n",
              "      <th>Number of sexual partners</th>\n",
              "      <th>First sexual intercourse</th>\n",
              "      <th>Num of pregnancies</th>\n",
              "      <th>Smokes</th>\n",
              "      <th>Smokes (years)</th>\n",
              "      <th>Smokes (packs/year)</th>\n",
              "      <th>Hormonal Contraceptives</th>\n",
              "      <th>Hormonal Contraceptives (years)</th>\n",
              "      <th>IUD</th>\n",
              "      <th>...</th>\n",
              "      <th>STDs: Time since first diagnosis</th>\n",
              "      <th>STDs: Time since last diagnosis</th>\n",
              "      <th>Dx:Cancer</th>\n",
              "      <th>Dx:CIN</th>\n",
              "      <th>Dx:HPV</th>\n",
              "      <th>Dx</th>\n",
              "      <th>Hinselmann</th>\n",
              "      <th>Schiller</th>\n",
              "      <th>Citology</th>\n",
              "      <th>Biopsy</th>\n",
              "    </tr>\n",
              "  </thead>\n",
              "  <tbody>\n",
              "    <tr>\n",
              "      <th>0</th>\n",
              "      <td>18</td>\n",
              "      <td>4.0</td>\n",
              "      <td>15.0</td>\n",
              "      <td>1.0</td>\n",
              "      <td>0.0</td>\n",
              "      <td>0.0</td>\n",
              "      <td>0.0</td>\n",
              "      <td>0.0</td>\n",
              "      <td>0.0</td>\n",
              "      <td>0.0</td>\n",
              "      <td>...</td>\n",
              "      <td>?</td>\n",
              "      <td>?</td>\n",
              "      <td>0</td>\n",
              "      <td>0</td>\n",
              "      <td>0</td>\n",
              "      <td>0</td>\n",
              "      <td>0</td>\n",
              "      <td>0</td>\n",
              "      <td>0</td>\n",
              "      <td>0</td>\n",
              "    </tr>\n",
              "    <tr>\n",
              "      <th>1</th>\n",
              "      <td>15</td>\n",
              "      <td>1.0</td>\n",
              "      <td>14.0</td>\n",
              "      <td>1.0</td>\n",
              "      <td>0.0</td>\n",
              "      <td>0.0</td>\n",
              "      <td>0.0</td>\n",
              "      <td>0.0</td>\n",
              "      <td>0.0</td>\n",
              "      <td>0.0</td>\n",
              "      <td>...</td>\n",
              "      <td>?</td>\n",
              "      <td>?</td>\n",
              "      <td>0</td>\n",
              "      <td>0</td>\n",
              "      <td>0</td>\n",
              "      <td>0</td>\n",
              "      <td>0</td>\n",
              "      <td>0</td>\n",
              "      <td>0</td>\n",
              "      <td>0</td>\n",
              "    </tr>\n",
              "    <tr>\n",
              "      <th>2</th>\n",
              "      <td>34</td>\n",
              "      <td>1.0</td>\n",
              "      <td>?</td>\n",
              "      <td>1.0</td>\n",
              "      <td>0.0</td>\n",
              "      <td>0.0</td>\n",
              "      <td>0.0</td>\n",
              "      <td>0.0</td>\n",
              "      <td>0.0</td>\n",
              "      <td>0.0</td>\n",
              "      <td>...</td>\n",
              "      <td>?</td>\n",
              "      <td>?</td>\n",
              "      <td>0</td>\n",
              "      <td>0</td>\n",
              "      <td>0</td>\n",
              "      <td>0</td>\n",
              "      <td>0</td>\n",
              "      <td>0</td>\n",
              "      <td>0</td>\n",
              "      <td>0</td>\n",
              "    </tr>\n",
              "    <tr>\n",
              "      <th>3</th>\n",
              "      <td>52</td>\n",
              "      <td>5.0</td>\n",
              "      <td>16.0</td>\n",
              "      <td>4.0</td>\n",
              "      <td>1.0</td>\n",
              "      <td>37.0</td>\n",
              "      <td>37.0</td>\n",
              "      <td>1.0</td>\n",
              "      <td>3.0</td>\n",
              "      <td>0.0</td>\n",
              "      <td>...</td>\n",
              "      <td>?</td>\n",
              "      <td>?</td>\n",
              "      <td>1</td>\n",
              "      <td>0</td>\n",
              "      <td>1</td>\n",
              "      <td>0</td>\n",
              "      <td>0</td>\n",
              "      <td>0</td>\n",
              "      <td>0</td>\n",
              "      <td>0</td>\n",
              "    </tr>\n",
              "    <tr>\n",
              "      <th>4</th>\n",
              "      <td>46</td>\n",
              "      <td>3.0</td>\n",
              "      <td>21.0</td>\n",
              "      <td>4.0</td>\n",
              "      <td>0.0</td>\n",
              "      <td>0.0</td>\n",
              "      <td>0.0</td>\n",
              "      <td>1.0</td>\n",
              "      <td>15.0</td>\n",
              "      <td>0.0</td>\n",
              "      <td>...</td>\n",
              "      <td>?</td>\n",
              "      <td>?</td>\n",
              "      <td>0</td>\n",
              "      <td>0</td>\n",
              "      <td>0</td>\n",
              "      <td>0</td>\n",
              "      <td>0</td>\n",
              "      <td>0</td>\n",
              "      <td>0</td>\n",
              "      <td>0</td>\n",
              "    </tr>\n",
              "  </tbody>\n",
              "</table>\n",
              "<p>5 rows × 36 columns</p>\n",
              "</div>\n",
              "      <button class=\"colab-df-convert\" onclick=\"convertToInteractive('df-bf6e63c5-45f1-465c-a00b-8e45766d9b9d')\"\n",
              "              title=\"Convert this dataframe to an interactive table.\"\n",
              "              style=\"display:none;\">\n",
              "        \n",
              "  <svg xmlns=\"http://www.w3.org/2000/svg\" height=\"24px\"viewBox=\"0 0 24 24\"\n",
              "       width=\"24px\">\n",
              "    <path d=\"M0 0h24v24H0V0z\" fill=\"none\"/>\n",
              "    <path d=\"M18.56 5.44l.94 2.06.94-2.06 2.06-.94-2.06-.94-.94-2.06-.94 2.06-2.06.94zm-11 1L8.5 8.5l.94-2.06 2.06-.94-2.06-.94L8.5 2.5l-.94 2.06-2.06.94zm10 10l.94 2.06.94-2.06 2.06-.94-2.06-.94-.94-2.06-.94 2.06-2.06.94z\"/><path d=\"M17.41 7.96l-1.37-1.37c-.4-.4-.92-.59-1.43-.59-.52 0-1.04.2-1.43.59L10.3 9.45l-7.72 7.72c-.78.78-.78 2.05 0 2.83L4 21.41c.39.39.9.59 1.41.59.51 0 1.02-.2 1.41-.59l7.78-7.78 2.81-2.81c.8-.78.8-2.07 0-2.86zM5.41 20L4 18.59l7.72-7.72 1.47 1.35L5.41 20z\"/>\n",
              "  </svg>\n",
              "      </button>\n",
              "      \n",
              "  <style>\n",
              "    .colab-df-container {\n",
              "      display:flex;\n",
              "      flex-wrap:wrap;\n",
              "      gap: 12px;\n",
              "    }\n",
              "\n",
              "    .colab-df-convert {\n",
              "      background-color: #E8F0FE;\n",
              "      border: none;\n",
              "      border-radius: 50%;\n",
              "      cursor: pointer;\n",
              "      display: none;\n",
              "      fill: #1967D2;\n",
              "      height: 32px;\n",
              "      padding: 0 0 0 0;\n",
              "      width: 32px;\n",
              "    }\n",
              "\n",
              "    .colab-df-convert:hover {\n",
              "      background-color: #E2EBFA;\n",
              "      box-shadow: 0px 1px 2px rgba(60, 64, 67, 0.3), 0px 1px 3px 1px rgba(60, 64, 67, 0.15);\n",
              "      fill: #174EA6;\n",
              "    }\n",
              "\n",
              "    [theme=dark] .colab-df-convert {\n",
              "      background-color: #3B4455;\n",
              "      fill: #D2E3FC;\n",
              "    }\n",
              "\n",
              "    [theme=dark] .colab-df-convert:hover {\n",
              "      background-color: #434B5C;\n",
              "      box-shadow: 0px 1px 3px 1px rgba(0, 0, 0, 0.15);\n",
              "      filter: drop-shadow(0px 1px 2px rgba(0, 0, 0, 0.3));\n",
              "      fill: #FFFFFF;\n",
              "    }\n",
              "  </style>\n",
              "\n",
              "      <script>\n",
              "        const buttonEl =\n",
              "          document.querySelector('#df-bf6e63c5-45f1-465c-a00b-8e45766d9b9d button.colab-df-convert');\n",
              "        buttonEl.style.display =\n",
              "          google.colab.kernel.accessAllowed ? 'block' : 'none';\n",
              "\n",
              "        async function convertToInteractive(key) {\n",
              "          const element = document.querySelector('#df-bf6e63c5-45f1-465c-a00b-8e45766d9b9d');\n",
              "          const dataTable =\n",
              "            await google.colab.kernel.invokeFunction('convertToInteractive',\n",
              "                                                     [key], {});\n",
              "          if (!dataTable) return;\n",
              "\n",
              "          const docLinkHtml = 'Like what you see? Visit the ' +\n",
              "            '<a target=\"_blank\" href=https://colab.research.google.com/notebooks/data_table.ipynb>data table notebook</a>'\n",
              "            + ' to learn more about interactive tables.';\n",
              "          element.innerHTML = '';\n",
              "          dataTable['output_type'] = 'display_data';\n",
              "          await google.colab.output.renderOutput(dataTable, element);\n",
              "          const docLink = document.createElement('div');\n",
              "          docLink.innerHTML = docLinkHtml;\n",
              "          element.appendChild(docLink);\n",
              "        }\n",
              "      </script>\n",
              "    </div>\n",
              "  </div>\n",
              "  "
            ],
            "text/plain": [
              "   Age Number of sexual partners First sexual intercourse Num of pregnancies  \\\n",
              "0   18                       4.0                     15.0                1.0   \n",
              "1   15                       1.0                     14.0                1.0   \n",
              "2   34                       1.0                        ?                1.0   \n",
              "3   52                       5.0                     16.0                4.0   \n",
              "4   46                       3.0                     21.0                4.0   \n",
              "\n",
              "  Smokes Smokes (years) Smokes (packs/year) Hormonal Contraceptives  \\\n",
              "0    0.0            0.0                 0.0                     0.0   \n",
              "1    0.0            0.0                 0.0                     0.0   \n",
              "2    0.0            0.0                 0.0                     0.0   \n",
              "3    1.0           37.0                37.0                     1.0   \n",
              "4    0.0            0.0                 0.0                     1.0   \n",
              "\n",
              "  Hormonal Contraceptives (years)  IUD  ... STDs: Time since first diagnosis  \\\n",
              "0                             0.0  0.0  ...                                ?   \n",
              "1                             0.0  0.0  ...                                ?   \n",
              "2                             0.0  0.0  ...                                ?   \n",
              "3                             3.0  0.0  ...                                ?   \n",
              "4                            15.0  0.0  ...                                ?   \n",
              "\n",
              "  STDs: Time since last diagnosis Dx:Cancer Dx:CIN Dx:HPV Dx Hinselmann  \\\n",
              "0                               ?         0      0      0  0          0   \n",
              "1                               ?         0      0      0  0          0   \n",
              "2                               ?         0      0      0  0          0   \n",
              "3                               ?         1      0      1  0          0   \n",
              "4                               ?         0      0      0  0          0   \n",
              "\n",
              "  Schiller Citology Biopsy  \n",
              "0        0        0      0  \n",
              "1        0        0      0  \n",
              "2        0        0      0  \n",
              "3        0        0      0  \n",
              "4        0        0      0  \n",
              "\n",
              "[5 rows x 36 columns]"
            ]
          },
          "execution_count": 279,
          "metadata": {},
          "output_type": "execute_result"
        }
      ],
      "source": [
        "# load dataset\n",
        "from google.colab import drive\n",
        "\n",
        "drive.mount('/drive')\n",
        "data = pd.read_csv('/drive/My Drive/Colab Notebooks/Cervical Cancer.csv')\n",
        "data.head()"
      ]
    },
    {
      "cell_type": "code",
      "execution_count": null,
      "metadata": {
        "colab": {
          "base_uri": "https://localhost:8080/",
          "height": 305
        },
        "id": "WvA7mJHk5JWV",
        "outputId": "0d6ccb85-e99d-4d29-8cef-5eba5f14dada"
      },
      "outputs": [
        {
          "data": {
            "text/html": [
              "\n",
              "  <div id=\"df-eee4e295-0dc2-4d7a-a541-5d00a89c0f66\">\n",
              "    <div class=\"colab-df-container\">\n",
              "      <div>\n",
              "<style scoped>\n",
              "    .dataframe tbody tr th:only-of-type {\n",
              "        vertical-align: middle;\n",
              "    }\n",
              "\n",
              "    .dataframe tbody tr th {\n",
              "        vertical-align: top;\n",
              "    }\n",
              "\n",
              "    .dataframe thead th {\n",
              "        text-align: right;\n",
              "    }\n",
              "</style>\n",
              "<table border=\"1\" class=\"dataframe\">\n",
              "  <thead>\n",
              "    <tr style=\"text-align: right;\">\n",
              "      <th></th>\n",
              "      <th>Age</th>\n",
              "      <th>Hormonal Contraceptives (years)</th>\n",
              "      <th>STDs (number)</th>\n",
              "      <th>STDs:condylomatosis</th>\n",
              "      <th>STDs:vulvo-perineal condylomatosis</th>\n",
              "      <th>STDs:genital herpes</th>\n",
              "      <th>STDs:HIV</th>\n",
              "      <th>STDs: Number of diagnosis</th>\n",
              "      <th>Dx:Cancer</th>\n",
              "      <th>Dx:CIN</th>\n",
              "      <th>Dx:HPV</th>\n",
              "      <th>Dx</th>\n",
              "      <th>Hinselmann</th>\n",
              "      <th>Schiller</th>\n",
              "      <th>Citology</th>\n",
              "      <th>Biopsy</th>\n",
              "    </tr>\n",
              "  </thead>\n",
              "  <tbody>\n",
              "    <tr>\n",
              "      <th>0</th>\n",
              "      <td>18</td>\n",
              "      <td>0.0</td>\n",
              "      <td>0.0</td>\n",
              "      <td>0.0</td>\n",
              "      <td>0.0</td>\n",
              "      <td>0.0</td>\n",
              "      <td>0.0</td>\n",
              "      <td>0</td>\n",
              "      <td>0</td>\n",
              "      <td>0</td>\n",
              "      <td>0</td>\n",
              "      <td>0</td>\n",
              "      <td>0</td>\n",
              "      <td>0</td>\n",
              "      <td>0</td>\n",
              "      <td>0</td>\n",
              "    </tr>\n",
              "    <tr>\n",
              "      <th>1</th>\n",
              "      <td>15</td>\n",
              "      <td>0.0</td>\n",
              "      <td>0.0</td>\n",
              "      <td>0.0</td>\n",
              "      <td>0.0</td>\n",
              "      <td>0.0</td>\n",
              "      <td>0.0</td>\n",
              "      <td>0</td>\n",
              "      <td>0</td>\n",
              "      <td>0</td>\n",
              "      <td>0</td>\n",
              "      <td>0</td>\n",
              "      <td>0</td>\n",
              "      <td>0</td>\n",
              "      <td>0</td>\n",
              "      <td>0</td>\n",
              "    </tr>\n",
              "    <tr>\n",
              "      <th>2</th>\n",
              "      <td>34</td>\n",
              "      <td>0.0</td>\n",
              "      <td>0.0</td>\n",
              "      <td>0.0</td>\n",
              "      <td>0.0</td>\n",
              "      <td>0.0</td>\n",
              "      <td>0.0</td>\n",
              "      <td>0</td>\n",
              "      <td>0</td>\n",
              "      <td>0</td>\n",
              "      <td>0</td>\n",
              "      <td>0</td>\n",
              "      <td>0</td>\n",
              "      <td>0</td>\n",
              "      <td>0</td>\n",
              "      <td>0</td>\n",
              "    </tr>\n",
              "    <tr>\n",
              "      <th>3</th>\n",
              "      <td>52</td>\n",
              "      <td>3.0</td>\n",
              "      <td>0.0</td>\n",
              "      <td>0.0</td>\n",
              "      <td>0.0</td>\n",
              "      <td>0.0</td>\n",
              "      <td>0.0</td>\n",
              "      <td>0</td>\n",
              "      <td>1</td>\n",
              "      <td>0</td>\n",
              "      <td>1</td>\n",
              "      <td>0</td>\n",
              "      <td>0</td>\n",
              "      <td>0</td>\n",
              "      <td>0</td>\n",
              "      <td>0</td>\n",
              "    </tr>\n",
              "    <tr>\n",
              "      <th>4</th>\n",
              "      <td>46</td>\n",
              "      <td>15.0</td>\n",
              "      <td>0.0</td>\n",
              "      <td>0.0</td>\n",
              "      <td>0.0</td>\n",
              "      <td>0.0</td>\n",
              "      <td>0.0</td>\n",
              "      <td>0</td>\n",
              "      <td>0</td>\n",
              "      <td>0</td>\n",
              "      <td>0</td>\n",
              "      <td>0</td>\n",
              "      <td>0</td>\n",
              "      <td>0</td>\n",
              "      <td>0</td>\n",
              "      <td>0</td>\n",
              "    </tr>\n",
              "  </tbody>\n",
              "</table>\n",
              "</div>\n",
              "      <button class=\"colab-df-convert\" onclick=\"convertToInteractive('df-eee4e295-0dc2-4d7a-a541-5d00a89c0f66')\"\n",
              "              title=\"Convert this dataframe to an interactive table.\"\n",
              "              style=\"display:none;\">\n",
              "        \n",
              "  <svg xmlns=\"http://www.w3.org/2000/svg\" height=\"24px\"viewBox=\"0 0 24 24\"\n",
              "       width=\"24px\">\n",
              "    <path d=\"M0 0h24v24H0V0z\" fill=\"none\"/>\n",
              "    <path d=\"M18.56 5.44l.94 2.06.94-2.06 2.06-.94-2.06-.94-.94-2.06-.94 2.06-2.06.94zm-11 1L8.5 8.5l.94-2.06 2.06-.94-2.06-.94L8.5 2.5l-.94 2.06-2.06.94zm10 10l.94 2.06.94-2.06 2.06-.94-2.06-.94-.94-2.06-.94 2.06-2.06.94z\"/><path d=\"M17.41 7.96l-1.37-1.37c-.4-.4-.92-.59-1.43-.59-.52 0-1.04.2-1.43.59L10.3 9.45l-7.72 7.72c-.78.78-.78 2.05 0 2.83L4 21.41c.39.39.9.59 1.41.59.51 0 1.02-.2 1.41-.59l7.78-7.78 2.81-2.81c.8-.78.8-2.07 0-2.86zM5.41 20L4 18.59l7.72-7.72 1.47 1.35L5.41 20z\"/>\n",
              "  </svg>\n",
              "      </button>\n",
              "      \n",
              "  <style>\n",
              "    .colab-df-container {\n",
              "      display:flex;\n",
              "      flex-wrap:wrap;\n",
              "      gap: 12px;\n",
              "    }\n",
              "\n",
              "    .colab-df-convert {\n",
              "      background-color: #E8F0FE;\n",
              "      border: none;\n",
              "      border-radius: 50%;\n",
              "      cursor: pointer;\n",
              "      display: none;\n",
              "      fill: #1967D2;\n",
              "      height: 32px;\n",
              "      padding: 0 0 0 0;\n",
              "      width: 32px;\n",
              "    }\n",
              "\n",
              "    .colab-df-convert:hover {\n",
              "      background-color: #E2EBFA;\n",
              "      box-shadow: 0px 1px 2px rgba(60, 64, 67, 0.3), 0px 1px 3px 1px rgba(60, 64, 67, 0.15);\n",
              "      fill: #174EA6;\n",
              "    }\n",
              "\n",
              "    [theme=dark] .colab-df-convert {\n",
              "      background-color: #3B4455;\n",
              "      fill: #D2E3FC;\n",
              "    }\n",
              "\n",
              "    [theme=dark] .colab-df-convert:hover {\n",
              "      background-color: #434B5C;\n",
              "      box-shadow: 0px 1px 3px 1px rgba(0, 0, 0, 0.15);\n",
              "      filter: drop-shadow(0px 1px 2px rgba(0, 0, 0, 0.3));\n",
              "      fill: #FFFFFF;\n",
              "    }\n",
              "  </style>\n",
              "\n",
              "      <script>\n",
              "        const buttonEl =\n",
              "          document.querySelector('#df-eee4e295-0dc2-4d7a-a541-5d00a89c0f66 button.colab-df-convert');\n",
              "        buttonEl.style.display =\n",
              "          google.colab.kernel.accessAllowed ? 'block' : 'none';\n",
              "\n",
              "        async function convertToInteractive(key) {\n",
              "          const element = document.querySelector('#df-eee4e295-0dc2-4d7a-a541-5d00a89c0f66');\n",
              "          const dataTable =\n",
              "            await google.colab.kernel.invokeFunction('convertToInteractive',\n",
              "                                                     [key], {});\n",
              "          if (!dataTable) return;\n",
              "\n",
              "          const docLinkHtml = 'Like what you see? Visit the ' +\n",
              "            '<a target=\"_blank\" href=https://colab.research.google.com/notebooks/data_table.ipynb>data table notebook</a>'\n",
              "            + ' to learn more about interactive tables.';\n",
              "          element.innerHTML = '';\n",
              "          dataTable['output_type'] = 'display_data';\n",
              "          await google.colab.output.renderOutput(dataTable, element);\n",
              "          const docLink = document.createElement('div');\n",
              "          docLink.innerHTML = docLinkHtml;\n",
              "          element.appendChild(docLink);\n",
              "        }\n",
              "      </script>\n",
              "    </div>\n",
              "  </div>\n",
              "  "
            ],
            "text/plain": [
              "   Age Hormonal Contraceptives (years) STDs (number) STDs:condylomatosis  \\\n",
              "0   18                             0.0           0.0                 0.0   \n",
              "1   15                             0.0           0.0                 0.0   \n",
              "2   34                             0.0           0.0                 0.0   \n",
              "3   52                             3.0           0.0                 0.0   \n",
              "4   46                            15.0           0.0                 0.0   \n",
              "\n",
              "  STDs:vulvo-perineal condylomatosis STDs:genital herpes STDs:HIV  \\\n",
              "0                                0.0                 0.0      0.0   \n",
              "1                                0.0                 0.0      0.0   \n",
              "2                                0.0                 0.0      0.0   \n",
              "3                                0.0                 0.0      0.0   \n",
              "4                                0.0                 0.0      0.0   \n",
              "\n",
              "   STDs: Number of diagnosis  Dx:Cancer  Dx:CIN  Dx:HPV  Dx  Hinselmann  \\\n",
              "0                          0          0       0       0   0           0   \n",
              "1                          0          0       0       0   0           0   \n",
              "2                          0          0       0       0   0           0   \n",
              "3                          0          1       0       1   0           0   \n",
              "4                          0          0       0       0   0           0   \n",
              "\n",
              "   Schiller  Citology  Biopsy  \n",
              "0         0         0       0  \n",
              "1         0         0       0  \n",
              "2         0         0       0  \n",
              "3         0         0       0  \n",
              "4         0         0       0  "
            ]
          },
          "execution_count": 280,
          "metadata": {},
          "output_type": "execute_result"
        }
      ],
      "source": [
        "data = data.drop(['Number of sexual partners', 'First sexual intercourse', 'Num of pregnancies', 'Smokes'], axis=1)\n",
        "data = data.drop(['Smokes (years)', 'Smokes (packs/year)', 'Hormonal Contraceptives', 'IUD'], axis=1)\n",
        "data = data.drop(['IUD (years)', 'STDs', 'STDs: Time since first diagnosis', 'STDs: Time since last diagnosis'], axis=1)\n",
        "data = data.drop(['STDs:cervical condylomatosis', 'STDs:vaginal condylomatosis', 'STDs:syphilis', 'STDs:pelvic inflammatory disease'], axis=1)\n",
        "data = data.drop(['STDs:molluscum contagiosum', 'STDs:AIDS', 'STDs:Hepatitis B', 'STDs:HPV'], axis=1)\n",
        "data.head()"
      ]
    },
    {
      "cell_type": "code",
      "execution_count": null,
      "metadata": {
        "id": "yq-TBFwKosLY"
      },
      "outputs": [],
      "source": [
        "data = data.replace('?', np.nan)"
      ]
    },
    {
      "cell_type": "code",
      "execution_count": null,
      "metadata": {
        "id": "2_rqlLKHs52h"
      },
      "outputs": [],
      "source": [
        "data = data.apply(pd.to_numeric, axis=0)"
      ]
    },
    {
      "cell_type": "code",
      "execution_count": null,
      "metadata": {
        "id": "50OxAyrToDIg"
      },
      "outputs": [],
      "source": [
        "# Generating list of categorical factors:\n",
        "temp=data.drop(columns=['Biopsy']).nunique()\n",
        "cat=temp.loc[temp.values < 4].index.to_list()\n",
        "\n",
        "# Updating null values to the least dominant category:\n",
        "for factor in cat:\n",
        "    data[factor] = data[factor].fillna(1)"
      ]
    },
    {
      "cell_type": "code",
      "execution_count": null,
      "metadata": {
        "id": "_Laze_Hsrmsl"
      },
      "outputs": [],
      "source": [
        "# Generating list of non-categorical factors:\n",
        "temp=data.drop(columns=['Biopsy']).nunique()\n",
        "non_cat=temp.loc[temp.values > 3].index.to_list()\n",
        "\n",
        "# Implementing interpolation (with linear method), on known data for null values:\n",
        "for factor in non_cat:\n",
        "    data[factor] = data[factor].fillna(data[factor].median())"
      ]
    },
    {
      "cell_type": "code",
      "execution_count": null,
      "metadata": {
        "colab": {
          "base_uri": "https://localhost:8080/"
        },
        "id": "7t6tGqwbyG5G",
        "outputId": "90293563-e111-4432-9ab8-2d1044fea6d7"
      },
      "outputs": [
        {
          "data": {
            "text/plain": [
              "858"
            ]
          },
          "execution_count": 153,
          "metadata": {},
          "output_type": "execute_result"
        }
      ],
      "source": [
        "len(data)"
      ]
    },
    {
      "cell_type": "code",
      "execution_count": null,
      "metadata": {
        "colab": {
          "base_uri": "https://localhost:8080/"
        },
        "id": "FAMw4Wnix3Es",
        "outputId": "67f44592-b469-459f-f7a3-158038638fc9"
      },
      "outputs": [
        {
          "data": {
            "text/plain": [
              "480"
            ]
          },
          "execution_count": 285,
          "metadata": {},
          "output_type": "execute_result"
        }
      ],
      "source": [
        "data.drop_duplicates(inplace=True)\n",
        "len(data)"
      ]
    },
    {
      "cell_type": "code",
      "execution_count": null,
      "metadata": {
        "colab": {
          "base_uri": "https://localhost:8080/",
          "height": 551
        },
        "id": "9VBah6PSYW5r",
        "outputId": "db226ccd-4332-4e0d-d8e7-4bb9485232c2"
      },
      "outputs": [
        {
          "data": {
            "text/html": [
              "\n",
              "  <div id=\"df-fa222216-70e0-4e13-bccb-f94ef4966a2a\">\n",
              "    <div class=\"colab-df-container\">\n",
              "      <div>\n",
              "<style scoped>\n",
              "    .dataframe tbody tr th:only-of-type {\n",
              "        vertical-align: middle;\n",
              "    }\n",
              "\n",
              "    .dataframe tbody tr th {\n",
              "        vertical-align: top;\n",
              "    }\n",
              "\n",
              "    .dataframe thead th {\n",
              "        text-align: right;\n",
              "    }\n",
              "</style>\n",
              "<table border=\"1\" class=\"dataframe\">\n",
              "  <thead>\n",
              "    <tr style=\"text-align: right;\">\n",
              "      <th></th>\n",
              "      <th>Null counts</th>\n",
              "      <th>Null %</th>\n",
              "      <th>Cardinality</th>\n",
              "    </tr>\n",
              "  </thead>\n",
              "  <tbody>\n",
              "    <tr>\n",
              "      <th>Age</th>\n",
              "      <td>0</td>\n",
              "      <td>0.0</td>\n",
              "      <td>44</td>\n",
              "    </tr>\n",
              "    <tr>\n",
              "      <th>Hormonal Contraceptives (years)</th>\n",
              "      <td>0</td>\n",
              "      <td>0.0</td>\n",
              "      <td>40</td>\n",
              "    </tr>\n",
              "    <tr>\n",
              "      <th>STDs (number)</th>\n",
              "      <td>0</td>\n",
              "      <td>0.0</td>\n",
              "      <td>5</td>\n",
              "    </tr>\n",
              "    <tr>\n",
              "      <th>STDs:condylomatosis</th>\n",
              "      <td>0</td>\n",
              "      <td>0.0</td>\n",
              "      <td>2</td>\n",
              "    </tr>\n",
              "    <tr>\n",
              "      <th>STDs:vulvo-perineal condylomatosis</th>\n",
              "      <td>0</td>\n",
              "      <td>0.0</td>\n",
              "      <td>2</td>\n",
              "    </tr>\n",
              "    <tr>\n",
              "      <th>STDs:genital herpes</th>\n",
              "      <td>0</td>\n",
              "      <td>0.0</td>\n",
              "      <td>2</td>\n",
              "    </tr>\n",
              "    <tr>\n",
              "      <th>STDs:HIV</th>\n",
              "      <td>0</td>\n",
              "      <td>0.0</td>\n",
              "      <td>2</td>\n",
              "    </tr>\n",
              "    <tr>\n",
              "      <th>STDs: Number of diagnosis</th>\n",
              "      <td>0</td>\n",
              "      <td>0.0</td>\n",
              "      <td>4</td>\n",
              "    </tr>\n",
              "    <tr>\n",
              "      <th>Dx:Cancer</th>\n",
              "      <td>0</td>\n",
              "      <td>0.0</td>\n",
              "      <td>2</td>\n",
              "    </tr>\n",
              "    <tr>\n",
              "      <th>Dx:CIN</th>\n",
              "      <td>0</td>\n",
              "      <td>0.0</td>\n",
              "      <td>2</td>\n",
              "    </tr>\n",
              "    <tr>\n",
              "      <th>Dx:HPV</th>\n",
              "      <td>0</td>\n",
              "      <td>0.0</td>\n",
              "      <td>2</td>\n",
              "    </tr>\n",
              "    <tr>\n",
              "      <th>Dx</th>\n",
              "      <td>0</td>\n",
              "      <td>0.0</td>\n",
              "      <td>2</td>\n",
              "    </tr>\n",
              "    <tr>\n",
              "      <th>Hinselmann</th>\n",
              "      <td>0</td>\n",
              "      <td>0.0</td>\n",
              "      <td>2</td>\n",
              "    </tr>\n",
              "    <tr>\n",
              "      <th>Schiller</th>\n",
              "      <td>0</td>\n",
              "      <td>0.0</td>\n",
              "      <td>2</td>\n",
              "    </tr>\n",
              "    <tr>\n",
              "      <th>Citology</th>\n",
              "      <td>0</td>\n",
              "      <td>0.0</td>\n",
              "      <td>2</td>\n",
              "    </tr>\n",
              "    <tr>\n",
              "      <th>Biopsy</th>\n",
              "      <td>0</td>\n",
              "      <td>0.0</td>\n",
              "      <td>2</td>\n",
              "    </tr>\n",
              "  </tbody>\n",
              "</table>\n",
              "</div>\n",
              "      <button class=\"colab-df-convert\" onclick=\"convertToInteractive('df-fa222216-70e0-4e13-bccb-f94ef4966a2a')\"\n",
              "              title=\"Convert this dataframe to an interactive table.\"\n",
              "              style=\"display:none;\">\n",
              "        \n",
              "  <svg xmlns=\"http://www.w3.org/2000/svg\" height=\"24px\"viewBox=\"0 0 24 24\"\n",
              "       width=\"24px\">\n",
              "    <path d=\"M0 0h24v24H0V0z\" fill=\"none\"/>\n",
              "    <path d=\"M18.56 5.44l.94 2.06.94-2.06 2.06-.94-2.06-.94-.94-2.06-.94 2.06-2.06.94zm-11 1L8.5 8.5l.94-2.06 2.06-.94-2.06-.94L8.5 2.5l-.94 2.06-2.06.94zm10 10l.94 2.06.94-2.06 2.06-.94-2.06-.94-.94-2.06-.94 2.06-2.06.94z\"/><path d=\"M17.41 7.96l-1.37-1.37c-.4-.4-.92-.59-1.43-.59-.52 0-1.04.2-1.43.59L10.3 9.45l-7.72 7.72c-.78.78-.78 2.05 0 2.83L4 21.41c.39.39.9.59 1.41.59.51 0 1.02-.2 1.41-.59l7.78-7.78 2.81-2.81c.8-.78.8-2.07 0-2.86zM5.41 20L4 18.59l7.72-7.72 1.47 1.35L5.41 20z\"/>\n",
              "  </svg>\n",
              "      </button>\n",
              "      \n",
              "  <style>\n",
              "    .colab-df-container {\n",
              "      display:flex;\n",
              "      flex-wrap:wrap;\n",
              "      gap: 12px;\n",
              "    }\n",
              "\n",
              "    .colab-df-convert {\n",
              "      background-color: #E8F0FE;\n",
              "      border: none;\n",
              "      border-radius: 50%;\n",
              "      cursor: pointer;\n",
              "      display: none;\n",
              "      fill: #1967D2;\n",
              "      height: 32px;\n",
              "      padding: 0 0 0 0;\n",
              "      width: 32px;\n",
              "    }\n",
              "\n",
              "    .colab-df-convert:hover {\n",
              "      background-color: #E2EBFA;\n",
              "      box-shadow: 0px 1px 2px rgba(60, 64, 67, 0.3), 0px 1px 3px 1px rgba(60, 64, 67, 0.15);\n",
              "      fill: #174EA6;\n",
              "    }\n",
              "\n",
              "    [theme=dark] .colab-df-convert {\n",
              "      background-color: #3B4455;\n",
              "      fill: #D2E3FC;\n",
              "    }\n",
              "\n",
              "    [theme=dark] .colab-df-convert:hover {\n",
              "      background-color: #434B5C;\n",
              "      box-shadow: 0px 1px 3px 1px rgba(0, 0, 0, 0.15);\n",
              "      filter: drop-shadow(0px 1px 2px rgba(0, 0, 0, 0.3));\n",
              "      fill: #FFFFFF;\n",
              "    }\n",
              "  </style>\n",
              "\n",
              "      <script>\n",
              "        const buttonEl =\n",
              "          document.querySelector('#df-fa222216-70e0-4e13-bccb-f94ef4966a2a button.colab-df-convert');\n",
              "        buttonEl.style.display =\n",
              "          google.colab.kernel.accessAllowed ? 'block' : 'none';\n",
              "\n",
              "        async function convertToInteractive(key) {\n",
              "          const element = document.querySelector('#df-fa222216-70e0-4e13-bccb-f94ef4966a2a');\n",
              "          const dataTable =\n",
              "            await google.colab.kernel.invokeFunction('convertToInteractive',\n",
              "                                                     [key], {});\n",
              "          if (!dataTable) return;\n",
              "\n",
              "          const docLinkHtml = 'Like what you see? Visit the ' +\n",
              "            '<a target=\"_blank\" href=https://colab.research.google.com/notebooks/data_table.ipynb>data table notebook</a>'\n",
              "            + ' to learn more about interactive tables.';\n",
              "          element.innerHTML = '';\n",
              "          dataTable['output_type'] = 'display_data';\n",
              "          await google.colab.output.renderOutput(dataTable, element);\n",
              "          const docLink = document.createElement('div');\n",
              "          docLink.innerHTML = docLinkHtml;\n",
              "          element.appendChild(docLink);\n",
              "        }\n",
              "      </script>\n",
              "    </div>\n",
              "  </div>\n",
              "  "
            ],
            "text/plain": [
              "                                    Null counts  Null %  Cardinality\n",
              "Age                                           0     0.0           44\n",
              "Hormonal Contraceptives (years)               0     0.0           40\n",
              "STDs (number)                                 0     0.0            5\n",
              "STDs:condylomatosis                           0     0.0            2\n",
              "STDs:vulvo-perineal condylomatosis            0     0.0            2\n",
              "STDs:genital herpes                           0     0.0            2\n",
              "STDs:HIV                                      0     0.0            2\n",
              "STDs: Number of diagnosis                     0     0.0            4\n",
              "Dx:Cancer                                     0     0.0            2\n",
              "Dx:CIN                                        0     0.0            2\n",
              "Dx:HPV                                        0     0.0            2\n",
              "Dx                                            0     0.0            2\n",
              "Hinselmann                                    0     0.0            2\n",
              "Schiller                                      0     0.0            2\n",
              "Citology                                      0     0.0            2\n",
              "Biopsy                                        0     0.0            2"
            ]
          },
          "execution_count": 187,
          "metadata": {},
          "output_type": "execute_result"
        }
      ],
      "source": [
        "null_perc=data.isnull().sum()/len(data)*100\n",
        "null=data.isnull().sum()\n",
        "overview=pd.concat((null,null_perc,data.nunique()),axis=1, keys=['Null counts','Null %','Cardinality'])\n",
        "overview"
      ]
    },
    {
      "cell_type": "code",
      "execution_count": null,
      "metadata": {
        "colab": {
          "base_uri": "https://localhost:8080/"
        },
        "id": "lf94mWJRY5kB",
        "outputId": "c631fb17-c967-4438-f4f9-0c456ea3b927"
      },
      "outputs": [
        {
          "name": "stdout",
          "output_type": "stream",
          "text": [
            "Old Shape:  (480, 16)\n",
            "New Shape:  (438, 16)\n"
          ]
        }
      ],
      "source": [
        "import numpy as np\n",
        "\n",
        "print(\"Old Shape: \", data.shape)\n",
        "\n",
        "Q1_age = data['Age'].quantile(0.25)\n",
        "Q3_age = data['Age'].quantile(0.75)\n",
        "IQR_age = Q3_age - Q1_age\n",
        "lower_age = Q1_age - 1.5 * IQR_age\n",
        "upper_age = Q3_age + 1.5 * IQR_age\n",
        "\n",
        "Q1_hormonal = data['Hormonal Contraceptives (years)'].quantile(0.25)\n",
        "Q3_hormonal = data['Hormonal Contraceptives (years)'].quantile(0.75)\n",
        "IQR_hormonal = Q3_hormonal - Q1_hormonal\n",
        "lower_hormonal = Q1_hormonal - 1.5 * IQR_hormonal\n",
        "upper_hormonal = Q3_hormonal + 1.5 * IQR_hormonal\n",
        "\n",
        "# Create Boolean masks for outlier rows based on the specified conditions\n",
        "age_mask = (data['Age'] >= lower_age) & (data['Age'] <= upper_age)\n",
        "hormonal_mask = (data['Hormonal Contraceptives (years)'] >= lower_hormonal) & (data['Hormonal Contraceptives (years)'] <= upper_hormonal)\n",
        "\n",
        "# Apply the masks to filter out the outliers\n",
        "filtered_data = data[age_mask & hormonal_mask]\n",
        "\n",
        "print(\"New Shape: \", filtered_data.shape)"
      ]
    },
    {
      "cell_type": "code",
      "execution_count": null,
      "metadata": {
        "colab": {
          "base_uri": "https://localhost:8080/",
          "height": 1000
        },
        "id": "lZwqOd3XXlaw",
        "outputId": "be668b66-03ae-4b9f-e5de-ef3f665fb865"
      },
      "outputs": [
        {
          "data": {
            "image/png": "[encoded data removed]",
            "text/plain": [
              "<Figure size 1000x600 with 2 Axes>"
            ]
          },
          "metadata": {},
          "output_type": "display_data"
        },
        {
          "data": {
            "image/png": "[encoded data removed]",
            "text/plain": [
              "<Figure size 1000x600 with 2 Axes>"
            ]
          },
          "metadata": {},
          "output_type": "display_data"
        }
      ],
      "source": [
        "import matplotlib.pyplot as plt\n",
        "\n",
        "# Box plot before removing outliers\n",
        "plt.figure(figsize=(10, 6))\n",
        "plt.subplot(1, 2, 1)\n",
        "plt.boxplot(data['Age'])\n",
        "plt.title('Box Plot of Age (Before)')\n",
        "plt.xlabel('Age')\n",
        "\n",
        "plt.subplot(1, 2, 2)\n",
        "plt.boxplot(data['Hormonal Contraceptives (years)'])\n",
        "plt.title('Box Plot of Hormonal Contraceptives (years) (Before)')\n",
        "plt.xlabel('Hormonal Contraceptives (years)')\n",
        "\n",
        "plt.tight_layout()\n",
        "plt.show()\n",
        "\n",
        "# Box plot after removing outliers\n",
        "plt.figure(figsize=(10, 6))\n",
        "plt.subplot(1, 2, 1)\n",
        "plt.boxplot(filtered_data['Age'])\n",
        "plt.title('Box Plot of Age (After)')\n",
        "plt.xlabel('Age')\n",
        "\n",
        "plt.subplot(1, 2, 2)\n",
        "plt.boxplot(filtered_data['Hormonal Contraceptives (years)'])\n",
        "plt.title('Box Plot of Hormonal Contraceptives (years) (After)')\n",
        "plt.xlabel('Hormonal Contraceptives (years)')\n",
        "\n",
        "plt.tight_layout()\n",
        "plt.show()"
      ]
    },
    {
      "cell_type": "code",
      "execution_count": null,
      "metadata": {
        "colab": {
          "base_uri": "https://localhost:8080/",
          "height": 399
        },
        "id": "DrxJKHCPcjgF",
        "outputId": "4d9a9caa-9882-4ed1-bdf4-0d741d727f42"
      },
      "outputs": [
        {
          "data": {
            "text/html": [
              "\n",
              "  <div id=\"df-2932ad7d-80d4-4020-98f4-0e6cec0b1d4d\">\n",
              "    <div class=\"colab-df-container\">\n",
              "      <div>\n",
              "<style scoped>\n",
              "    .dataframe tbody tr th:only-of-type {\n",
              "        vertical-align: middle;\n",
              "    }\n",
              "\n",
              "    .dataframe tbody tr th {\n",
              "        vertical-align: top;\n",
              "    }\n",
              "\n",
              "    .dataframe thead th {\n",
              "        text-align: right;\n",
              "    }\n",
              "</style>\n",
              "<table border=\"1\" class=\"dataframe\">\n",
              "  <thead>\n",
              "    <tr style=\"text-align: right;\">\n",
              "      <th></th>\n",
              "      <th>Age</th>\n",
              "      <th>Hormonal Contraceptives (years)</th>\n",
              "      <th>STDs (number)</th>\n",
              "      <th>STDs:condylomatosis</th>\n",
              "      <th>STDs:vulvo-perineal condylomatosis</th>\n",
              "      <th>STDs:genital herpes</th>\n",
              "      <th>STDs:HIV</th>\n",
              "      <th>STDs: Number of diagnosis</th>\n",
              "      <th>Dx:Cancer</th>\n",
              "      <th>Dx:CIN</th>\n",
              "      <th>Dx:HPV</th>\n",
              "      <th>Dx</th>\n",
              "      <th>Hinselmann</th>\n",
              "      <th>Schiller</th>\n",
              "      <th>Citology</th>\n",
              "      <th>Biopsy</th>\n",
              "    </tr>\n",
              "  </thead>\n",
              "  <tbody>\n",
              "    <tr>\n",
              "      <th>count</th>\n",
              "      <td>438.000000</td>\n",
              "      <td>438.000000</td>\n",
              "      <td>438.000000</td>\n",
              "      <td>438.000000</td>\n",
              "      <td>438.000000</td>\n",
              "      <td>438.000000</td>\n",
              "      <td>438.000000</td>\n",
              "      <td>438.000000</td>\n",
              "      <td>438.000000</td>\n",
              "      <td>438.000000</td>\n",
              "      <td>438.000000</td>\n",
              "      <td>438.000000</td>\n",
              "      <td>438.000000</td>\n",
              "      <td>438.000000</td>\n",
              "      <td>438.000000</td>\n",
              "      <td>438.000000</td>\n",
              "    </tr>\n",
              "    <tr>\n",
              "      <th>mean</th>\n",
              "      <td>27.315068</td>\n",
              "      <td>1.904348</td>\n",
              "      <td>0.283105</td>\n",
              "      <td>0.178082</td>\n",
              "      <td>0.175799</td>\n",
              "      <td>0.086758</td>\n",
              "      <td>0.125571</td>\n",
              "      <td>0.164384</td>\n",
              "      <td>0.036530</td>\n",
              "      <td>0.018265</td>\n",
              "      <td>0.036530</td>\n",
              "      <td>0.052511</td>\n",
              "      <td>0.070776</td>\n",
              "      <td>0.141553</td>\n",
              "      <td>0.077626</td>\n",
              "      <td>0.102740</td>\n",
              "    </tr>\n",
              "    <tr>\n",
              "      <th>std</th>\n",
              "      <td>7.993779</td>\n",
              "      <td>2.521401</td>\n",
              "      <td>0.688073</td>\n",
              "      <td>0.383019</td>\n",
              "      <td>0.381084</td>\n",
              "      <td>0.281802</td>\n",
              "      <td>0.331744</td>\n",
              "      <td>0.400698</td>\n",
              "      <td>0.187819</td>\n",
              "      <td>0.134061</td>\n",
              "      <td>0.187819</td>\n",
              "      <td>0.223311</td>\n",
              "      <td>0.256744</td>\n",
              "      <td>0.348989</td>\n",
              "      <td>0.267887</td>\n",
              "      <td>0.303966</td>\n",
              "    </tr>\n",
              "    <tr>\n",
              "      <th>min</th>\n",
              "      <td>13.000000</td>\n",
              "      <td>0.000000</td>\n",
              "      <td>0.000000</td>\n",
              "      <td>0.000000</td>\n",
              "      <td>0.000000</td>\n",
              "      <td>0.000000</td>\n",
              "      <td>0.000000</td>\n",
              "      <td>0.000000</td>\n",
              "      <td>0.000000</td>\n",
              "      <td>0.000000</td>\n",
              "      <td>0.000000</td>\n",
              "      <td>0.000000</td>\n",
              "      <td>0.000000</td>\n",
              "      <td>0.000000</td>\n",
              "      <td>0.000000</td>\n",
              "      <td>0.000000</td>\n",
              "    </tr>\n",
              "    <tr>\n",
              "      <th>25%</th>\n",
              "      <td>21.000000</td>\n",
              "      <td>0.160000</td>\n",
              "      <td>0.000000</td>\n",
              "      <td>0.000000</td>\n",
              "      <td>0.000000</td>\n",
              "      <td>0.000000</td>\n",
              "      <td>0.000000</td>\n",
              "      <td>0.000000</td>\n",
              "      <td>0.000000</td>\n",
              "      <td>0.000000</td>\n",
              "      <td>0.000000</td>\n",
              "      <td>0.000000</td>\n",
              "      <td>0.000000</td>\n",
              "      <td>0.000000</td>\n",
              "      <td>0.000000</td>\n",
              "      <td>0.000000</td>\n",
              "    </tr>\n",
              "    <tr>\n",
              "      <th>50%</th>\n",
              "      <td>26.000000</td>\n",
              "      <td>0.500000</td>\n",
              "      <td>0.000000</td>\n",
              "      <td>0.000000</td>\n",
              "      <td>0.000000</td>\n",
              "      <td>0.000000</td>\n",
              "      <td>0.000000</td>\n",
              "      <td>0.000000</td>\n",
              "      <td>0.000000</td>\n",
              "      <td>0.000000</td>\n",
              "      <td>0.000000</td>\n",
              "      <td>0.000000</td>\n",
              "      <td>0.000000</td>\n",
              "      <td>0.000000</td>\n",
              "      <td>0.000000</td>\n",
              "      <td>0.000000</td>\n",
              "    </tr>\n",
              "    <tr>\n",
              "      <th>75%</th>\n",
              "      <td>33.000000</td>\n",
              "      <td>3.000000</td>\n",
              "      <td>0.000000</td>\n",
              "      <td>0.000000</td>\n",
              "      <td>0.000000</td>\n",
              "      <td>0.000000</td>\n",
              "      <td>0.000000</td>\n",
              "      <td>0.000000</td>\n",
              "      <td>0.000000</td>\n",
              "      <td>0.000000</td>\n",
              "      <td>0.000000</td>\n",
              "      <td>0.000000</td>\n",
              "      <td>0.000000</td>\n",
              "      <td>0.000000</td>\n",
              "      <td>0.000000</td>\n",
              "      <td>0.000000</td>\n",
              "    </tr>\n",
              "    <tr>\n",
              "      <th>max</th>\n",
              "      <td>52.000000</td>\n",
              "      <td>9.000000</td>\n",
              "      <td>4.000000</td>\n",
              "      <td>1.000000</td>\n",
              "      <td>1.000000</td>\n",
              "      <td>1.000000</td>\n",
              "      <td>1.000000</td>\n",
              "      <td>3.000000</td>\n",
              "      <td>1.000000</td>\n",
              "      <td>1.000000</td>\n",
              "      <td>1.000000</td>\n",
              "      <td>1.000000</td>\n",
              "      <td>1.000000</td>\n",
              "      <td>1.000000</td>\n",
              "      <td>1.000000</td>\n",
              "      <td>1.000000</td>\n",
              "    </tr>\n",
              "  </tbody>\n",
              "</table>\n",
              "</div>\n",
              "      <button class=\"colab-df-convert\" onclick=\"convertToInteractive('df-2932ad7d-80d4-4020-98f4-0e6cec0b1d4d')\"\n",
              "              title=\"Convert this dataframe to an interactive table.\"\n",
              "              style=\"display:none;\">\n",
              "        \n",
              "  <svg xmlns=\"http://www.w3.org/2000/svg\" height=\"24px\"viewBox=\"0 0 24 24\"\n",
              "       width=\"24px\">\n",
              "    <path d=\"M0 0h24v24H0V0z\" fill=\"none\"/>\n",
              "    <path d=\"M18.56 5.44l.94 2.06.94-2.06 2.06-.94-2.06-.94-.94-2.06-.94 2.06-2.06.94zm-11 1L8.5 8.5l.94-2.06 2.06-.94-2.06-.94L8.5 2.5l-.94 2.06-2.06.94zm10 10l.94 2.06.94-2.06 2.06-.94-2.06-.94-.94-2.06-.94 2.06-2.06.94z\"/><path d=\"M17.41 7.96l-1.37-1.37c-.4-.4-.92-.59-1.43-.59-.52 0-1.04.2-1.43.59L10.3 9.45l-7.72 7.72c-.78.78-.78 2.05 0 2.83L4 21.41c.39.39.9.59 1.41.59.51 0 1.02-.2 1.41-.59l7.78-7.78 2.81-2.81c.8-.78.8-2.07 0-2.86zM5.41 20L4 18.59l7.72-7.72 1.47 1.35L5.41 20z\"/>\n",
              "  </svg>\n",
              "      </button>\n",
              "      \n",
              "  <style>\n",
              "    .colab-df-container {\n",
              "      display:flex;\n",
              "      flex-wrap:wrap;\n",
              "      gap: 12px;\n",
              "    }\n",
              "\n",
              "    .colab-df-convert {\n",
              "      background-color: #E8F0FE;\n",
              "      border: none;\n",
              "      border-radius: 50%;\n",
              "      cursor: pointer;\n",
              "      display: none;\n",
              "      fill: #1967D2;\n",
              "      height: 32px;\n",
              "      padding: 0 0 0 0;\n",
              "      width: 32px;\n",
              "    }\n",
              "\n",
              "    .colab-df-convert:hover {\n",
              "      background-color: #E2EBFA;\n",
              "      box-shadow: 0px 1px 2px rgba(60, 64, 67, 0.3), 0px 1px 3px 1px rgba(60, 64, 67, 0.15);\n",
              "      fill: #174EA6;\n",
              "    }\n",
              "\n",
              "    [theme=dark] .colab-df-convert {\n",
              "      background-color: #3B4455;\n",
              "      fill: #D2E3FC;\n",
              "    }\n",
              "\n",
              "    [theme=dark] .colab-df-convert:hover {\n",
              "      background-color: #434B5C;\n",
              "      box-shadow: 0px 1px 3px 1px rgba(0, 0, 0, 0.15);\n",
              "      filter: drop-shadow(0px 1px 2px rgba(0, 0, 0, 0.3));\n",
              "      fill: #FFFFFF;\n",
              "    }\n",
              "  </style>\n",
              "\n",
              "      <script>\n",
              "        const buttonEl =\n",
              "          document.querySelector('#df-2932ad7d-80d4-4020-98f4-0e6cec0b1d4d button.colab-df-convert');\n",
              "        buttonEl.style.display =\n",
              "          google.colab.kernel.accessAllowed ? 'block' : 'none';\n",
              "\n",
              "        async function convertToInteractive(key) {\n",
              "          const element = document.querySelector('#df-2932ad7d-80d4-4020-98f4-0e6cec0b1d4d');\n",
              "          const dataTable =\n",
              "            await google.colab.kernel.invokeFunction('convertToInteractive',\n",
              "                                                     [key], {});\n",
              "          if (!dataTable) return;\n",
              "\n",
              "          const docLinkHtml = 'Like what you see? Visit the ' +\n",
              "            '<a target=\"_blank\" href=https://colab.research.google.com/notebooks/data_table.ipynb>data table notebook</a>'\n",
              "            + ' to learn more about interactive tables.';\n",
              "          element.innerHTML = '';\n",
              "          dataTable['output_type'] = 'display_data';\n",
              "          await google.colab.output.renderOutput(dataTable, element);\n",
              "          const docLink = document.createElement('div');\n",
              "          docLink.innerHTML = docLinkHtml;\n",
              "          element.appendChild(docLink);\n",
              "        }\n",
              "      </script>\n",
              "    </div>\n",
              "  </div>\n",
              "  "
            ],
            "text/plain": [
              "              Age  Hormonal Contraceptives (years)  STDs (number)  \\\n",
              "count  438.000000                       438.000000     438.000000   \n",
              "mean    27.315068                         1.904348       0.283105   \n",
              "std      7.993779                         2.521401       0.688073   \n",
              "min     13.000000                         0.000000       0.000000   \n",
              "25%     21.000000                         0.160000       0.000000   \n",
              "50%     26.000000                         0.500000       0.000000   \n",
              "75%     33.000000                         3.000000       0.000000   \n",
              "max     52.000000                         9.000000       4.000000   \n",
              "\n",
              "       STDs:condylomatosis  STDs:vulvo-perineal condylomatosis  \\\n",
              "count           438.000000                          438.000000   \n",
              "mean              0.178082                            0.175799   \n",
              "std               0.383019                            0.381084   \n",
              "min               0.000000                            0.000000   \n",
              "25%               0.000000                            0.000000   \n",
              "50%               0.000000                            0.000000   \n",
              "75%               0.000000                            0.000000   \n",
              "max               1.000000                            1.000000   \n",
              "\n",
              "       STDs:genital herpes    STDs:HIV  STDs: Number of diagnosis   Dx:Cancer  \\\n",
              "count           438.000000  438.000000                 438.000000  438.000000   \n",
              "mean              0.086758    0.125571                   0.164384    0.036530   \n",
              "std               0.281802    0.331744                   0.400698    0.187819   \n",
              "min               0.000000    0.000000                   0.000000    0.000000   \n",
              "25%               0.000000    0.000000                   0.000000    0.000000   \n",
              "50%               0.000000    0.000000                   0.000000    0.000000   \n",
              "75%               0.000000    0.000000                   0.000000    0.000000   \n",
              "max               1.000000    1.000000                   3.000000    1.000000   \n",
              "\n",
              "           Dx:CIN      Dx:HPV          Dx  Hinselmann    Schiller    Citology  \\\n",
              "count  438.000000  438.000000  438.000000  438.000000  438.000000  438.000000   \n",
              "mean     0.018265    0.036530    0.052511    0.070776    0.141553    0.077626   \n",
              "std      0.134061    0.187819    0.223311    0.256744    0.348989    0.267887   \n",
              "min      0.000000    0.000000    0.000000    0.000000    0.000000    0.000000   \n",
              "25%      0.000000    0.000000    0.000000    0.000000    0.000000    0.000000   \n",
              "50%      0.000000    0.000000    0.000000    0.000000    0.000000    0.000000   \n",
              "75%      0.000000    0.000000    0.000000    0.000000    0.000000    0.000000   \n",
              "max      1.000000    1.000000    1.000000    1.000000    1.000000    1.000000   \n",
              "\n",
              "           Biopsy  \n",
              "count  438.000000  \n",
              "mean     0.102740  \n",
              "std      0.303966  \n",
              "min      0.000000  \n",
              "25%      0.000000  \n",
              "50%      0.000000  \n",
              "75%      0.000000  \n",
              "max      1.000000  "
            ]
          },
          "execution_count": 277,
          "metadata": {},
          "output_type": "execute_result"
        }
      ],
      "source": [
        "filtered_data.describe()"
      ]
    },
    {
      "cell_type": "code",
      "execution_count": null,
      "metadata": {
        "id": "61xGvfwZxvUL"
      },
      "outputs": [],
      "source": [
        "y = filtered_data['Biopsy']\n",
        "X = filtered_data.drop('Biopsy',axis=1)"
      ]
    },
    {
      "cell_type": "code",
      "execution_count": null,
      "metadata": {
        "id": "fgzitZg10LU6"
      },
      "outputs": [],
      "source": [
        "X_train, X_test, y_train, y_test = train_test_split(X, y, random_state = 42, test_size=0.2)\n",
        "X_train, X_val, y_train, y_val = train_test_split(X_train, y_train, test_size=0.25, random_state = 42)"
      ]
    },
    {
      "cell_type": "code",
      "execution_count": null,
      "metadata": {
        "colab": {
          "base_uri": "https://localhost:8080/"
        },
        "id": "tt4VWv3t3N6Y",
        "outputId": "a0ed8b32-8660-4cd6-a25f-02421d66d94f"
      },
      "outputs": [
        {
          "name": "stdout",
          "output_type": "stream",
          "text": [
            "[52.  9.  4.  1.  1.  1.  1.  3.  1.  1.  1.  1.  1.  1.  1.]\n",
            "[14.  0.  0.  0.  0.  0.  0.  0.  0.  0.  0.  0.  0.  0.  0.]\n",
            "[0.02631579 0.11111111 0.25       1.         1.         1.\n",
            " 1.         0.33333333 1.         1.         1.         1.\n",
            " 1.         1.         1.        ]\n"
          ]
        }
      ],
      "source": [
        "minmax_scale = MinMaxScaler(feature_range=(0, 1))\n",
        "#scaler = StandardScaler()\n",
        "X_train = minmax_scale.fit_transform(X_train)\n",
        "X_val = minmax_scale.transform(X_val)\n",
        "X_test = minmax_scale.transform(X_test)\n",
        "\n",
        "#print(scaler.mean_)\n",
        "#print(scaler.var_)\n",
        "print(minmax_scale.data_max_)\n",
        "print(minmax_scale.data_min_)\n",
        "print(minmax_scale.scale_)"
      ]
    },
    {
      "cell_type": "code",
      "execution_count": null,
      "metadata": {
        "colab": {
          "base_uri": "https://localhost:8080/"
        },
        "id": "4Z2uhMYbJMYk",
        "outputId": "604f7dd3-3270-4e8a-c6ab-53044b1ca6f9"
      },
      "outputs": [
        {
          "data": {
            "text/plain": [
              "96"
            ]
          },
          "execution_count": 98,
          "metadata": {},
          "output_type": "execute_result"
        }
      ],
      "source": [
        "len(X_val)"
      ]
    },
    {
      "cell_type": "code",
      "execution_count": null,
      "metadata": {
        "id": "m47OLLtI5ssR"
      },
      "outputs": [],
      "source": [
        "from imblearn.over_sampling import RandomOverSampler\n",
        "X_train,y_train=RandomOverSampler(sampling_strategy='minority').fit_resample(X_train,y_train)"
      ]
    },
    {
      "cell_type": "code",
      "execution_count": null,
      "metadata": {
        "id": "fbeS84ca6t8E"
      },
      "outputs": [],
      "source": [
        "from tensorflow.keras import initializers\n",
        "\n",
        "model = Sequential(\n",
        "    [\n",
        "        Dense(8, activation = 'relu', input_shape=[15]),\n",
        "        Dense(4, activation = 'relu'),\n",
        "        Dense(1, activation = 'sigmoid'),\n",
        "    ]\n",
        ")"
      ]
    },
    {
      "cell_type": "code",
      "execution_count": null,
      "metadata": {
        "id": "5Xjtmx_-KbXC"
      },
      "outputs": [],
      "source": [
        "model.build()"
      ]
    },
    {
      "cell_type": "code",
      "execution_count": null,
      "metadata": {
        "colab": {
          "base_uri": "https://localhost:8080/"
        },
        "id": "hv3aSG8fKvSW",
        "outputId": "a930254f-309c-4900-b7ff-bf1ac274405e"
      },
      "outputs": [
        {
          "name": "stdout",
          "output_type": "stream",
          "text": [
            "Model: \"sequential_17\"\n",
            "_________________________________________________________________\n",
            " Layer (type)                Output Shape              Param #   \n",
            "=================================================================\n",
            " dense_56 (Dense)            (None, 8)                 128       \n",
            "                                                                 \n",
            " dense_57 (Dense)            (None, 4)                 36        \n",
            "                                                                 \n",
            " dense_58 (Dense)            (None, 1)                 5         \n",
            "                                                                 \n",
            "=================================================================\n",
            "Total params: 169\n",
            "Trainable params: 169\n",
            "Non-trainable params: 0\n",
            "_________________________________________________________________\n"
          ]
        }
      ],
      "source": [
        "model.summary()"
      ]
    },
    {
      "cell_type": "code",
      "execution_count": null,
      "metadata": {
        "colab": {
          "base_uri": "https://localhost:8080/"
        },
        "id": "CDDbRDHsKwcB",
        "outputId": "1a04c824-7dd5-4ba6-9506-6ee5470fe73b"
      },
      "outputs": [
        {
          "name": "stdout",
          "output_type": "stream",
          "text": [
            "Epoch 1/75\n",
            "29/29 [==============================] - 1s 9ms/step - loss: 0.6634 - accuracy: 0.5218 - val_loss: 0.7072 - val_accuracy: 0.2045\n",
            "Epoch 2/75\n",
            "29/29 [==============================] - 0s 4ms/step - loss: 0.6566 - accuracy: 0.5939 - val_loss: 0.7035 - val_accuracy: 0.3636\n",
            "Epoch 3/75\n",
            "29/29 [==============================] - 0s 3ms/step - loss: 0.6498 - accuracy: 0.6769 - val_loss: 0.7011 - val_accuracy: 0.4773\n",
            "Epoch 4/75\n",
            "29/29 [==============================] - 0s 4ms/step - loss: 0.6425 - accuracy: 0.7140 - val_loss: 0.6965 - val_accuracy: 0.6364\n",
            "Epoch 5/75\n",
            "29/29 [==============================] - 0s 3ms/step - loss: 0.6350 - accuracy: 0.7773 - val_loss: 0.6903 - val_accuracy: 0.7386\n",
            "Epoch 6/75\n",
            "29/29 [==============================] - 0s 3ms/step - loss: 0.6272 - accuracy: 0.8275 - val_loss: 0.6845 - val_accuracy: 0.8068\n",
            "Epoch 7/75\n",
            "29/29 [==============================] - 0s 3ms/step - loss: 0.6187 - accuracy: 0.8472 - val_loss: 0.6792 - val_accuracy: 0.8182\n",
            "Epoch 8/75\n",
            "29/29 [==============================] - 0s 3ms/step - loss: 0.6097 - accuracy: 0.8537 - val_loss: 0.6721 - val_accuracy: 0.8182\n",
            "Epoch 9/75\n",
            "29/29 [==============================] - 0s 4ms/step - loss: 0.6003 - accuracy: 0.8537 - val_loss: 0.6626 - val_accuracy: 0.8182\n",
            "Epoch 10/75\n",
            "29/29 [==============================] - 0s 4ms/step - loss: 0.5899 - accuracy: 0.8537 - val_loss: 0.6562 - val_accuracy: 0.8182\n",
            "Epoch 11/75\n",
            "29/29 [==============================] - 0s 3ms/step - loss: 0.5787 - accuracy: 0.8559 - val_loss: 0.6441 - val_accuracy: 0.8182\n",
            "Epoch 12/75\n",
            "29/29 [==============================] - 0s 4ms/step - loss: 0.5668 - accuracy: 0.8624 - val_loss: 0.6354 - val_accuracy: 0.8182\n",
            "Epoch 13/75\n",
            "29/29 [==============================] - 0s 3ms/step - loss: 0.5539 - accuracy: 0.8690 - val_loss: 0.6198 - val_accuracy: 0.8295\n",
            "Epoch 14/75\n",
            "29/29 [==============================] - 0s 4ms/step - loss: 0.5405 - accuracy: 0.8799 - val_loss: 0.6023 - val_accuracy: 0.8864\n",
            "Epoch 15/75\n",
            "29/29 [==============================] - 0s 3ms/step - loss: 0.5257 - accuracy: 0.8908 - val_loss: 0.5876 - val_accuracy: 0.8864\n",
            "Epoch 16/75\n",
            "29/29 [==============================] - 0s 4ms/step - loss: 0.5109 - accuracy: 0.8908 - val_loss: 0.5709 - val_accuracy: 0.8864\n",
            "Epoch 17/75\n",
            "29/29 [==============================] - 0s 4ms/step - loss: 0.4954 - accuracy: 0.8908 - val_loss: 0.5518 - val_accuracy: 0.8864\n",
            "Epoch 18/75\n",
            "29/29 [==============================] - 0s 4ms/step - loss: 0.4797 - accuracy: 0.8908 - val_loss: 0.5330 - val_accuracy: 0.8864\n",
            "Epoch 19/75\n",
            "29/29 [==============================] - 0s 4ms/step - loss: 0.4636 - accuracy: 0.8908 - val_loss: 0.5165 - val_accuracy: 0.8864\n",
            "Epoch 20/75\n",
            "29/29 [==============================] - 0s 3ms/step - loss: 0.4473 - accuracy: 0.8908 - val_loss: 0.4963 - val_accuracy: 0.8864\n",
            "Epoch 21/75\n",
            "29/29 [==============================] - 0s 3ms/step - loss: 0.4320 - accuracy: 0.8908 - val_loss: 0.4777 - val_accuracy: 0.8977\n",
            "Epoch 22/75\n",
            "29/29 [==============================] - 0s 4ms/step - loss: 0.4168 - accuracy: 0.8930 - val_loss: 0.4597 - val_accuracy: 0.8977\n",
            "Epoch 23/75\n",
            "29/29 [==============================] - 0s 3ms/step - loss: 0.4028 - accuracy: 0.8952 - val_loss: 0.4422 - val_accuracy: 0.8977\n",
            "Epoch 24/75\n",
            "29/29 [==============================] - 0s 3ms/step - loss: 0.3896 - accuracy: 0.8930 - val_loss: 0.4248 - val_accuracy: 0.9091\n",
            "Epoch 25/75\n",
            "29/29 [==============================] - 0s 3ms/step - loss: 0.3769 - accuracy: 0.8974 - val_loss: 0.4126 - val_accuracy: 0.9091\n",
            "Epoch 26/75\n",
            "29/29 [==============================] - 0s 3ms/step - loss: 0.3659 - accuracy: 0.8974 - val_loss: 0.3985 - val_accuracy: 0.9091\n",
            "Epoch 27/75\n",
            "29/29 [==============================] - 0s 4ms/step - loss: 0.3553 - accuracy: 0.8886 - val_loss: 0.3842 - val_accuracy: 0.9091\n",
            "Epoch 28/75\n",
            "29/29 [==============================] - 0s 3ms/step - loss: 0.3454 - accuracy: 0.8996 - val_loss: 0.3737 - val_accuracy: 0.9091\n",
            "Epoch 29/75\n",
            "29/29 [==============================] - 0s 3ms/step - loss: 0.3369 - accuracy: 0.9017 - val_loss: 0.3641 - val_accuracy: 0.9091\n",
            "Epoch 30/75\n",
            "29/29 [==============================] - 0s 4ms/step - loss: 0.3289 - accuracy: 0.8996 - val_loss: 0.3519 - val_accuracy: 0.9205\n",
            "Epoch 31/75\n",
            "29/29 [==============================] - 0s 3ms/step - loss: 0.3220 - accuracy: 0.8996 - val_loss: 0.3446 - val_accuracy: 0.9318\n",
            "Epoch 32/75\n",
            "29/29 [==============================] - 0s 3ms/step - loss: 0.3153 - accuracy: 0.8996 - val_loss: 0.3367 - val_accuracy: 0.9318\n",
            "Epoch 33/75\n",
            "29/29 [==============================] - 0s 3ms/step - loss: 0.3094 - accuracy: 0.8996 - val_loss: 0.3277 - val_accuracy: 0.9318\n",
            "Epoch 34/75\n",
            "29/29 [==============================] - 0s 3ms/step - loss: 0.3037 - accuracy: 0.9017 - val_loss: 0.3207 - val_accuracy: 0.9318\n",
            "Epoch 35/75\n",
            "29/29 [==============================] - 0s 3ms/step - loss: 0.2988 - accuracy: 0.9017 - val_loss: 0.3160 - val_accuracy: 0.9318\n",
            "Epoch 36/75\n",
            "29/29 [==============================] - 0s 3ms/step - loss: 0.2943 - accuracy: 0.9039 - val_loss: 0.3119 - val_accuracy: 0.9318\n",
            "Epoch 37/75\n",
            "29/29 [==============================] - 0s 4ms/step - loss: 0.2904 - accuracy: 0.9039 - val_loss: 0.3077 - val_accuracy: 0.9318\n",
            "Epoch 38/75\n",
            "29/29 [==============================] - 0s 3ms/step - loss: 0.2862 - accuracy: 0.9061 - val_loss: 0.3028 - val_accuracy: 0.9318\n",
            "Epoch 39/75\n",
            "29/29 [==============================] - 0s 4ms/step - loss: 0.2828 - accuracy: 0.9083 - val_loss: 0.2984 - val_accuracy: 0.9318\n",
            "Epoch 40/75\n",
            "29/29 [==============================] - 0s 4ms/step - loss: 0.2796 - accuracy: 0.8952 - val_loss: 0.2923 - val_accuracy: 0.9318\n",
            "Epoch 41/75\n",
            "29/29 [==============================] - 0s 3ms/step - loss: 0.2767 - accuracy: 0.8952 - val_loss: 0.2891 - val_accuracy: 0.9318\n",
            "Epoch 42/75\n",
            "29/29 [==============================] - 0s 4ms/step - loss: 0.2742 - accuracy: 0.8952 - val_loss: 0.2852 - val_accuracy: 0.9318\n",
            "Epoch 43/75\n",
            "29/29 [==============================] - 0s 3ms/step - loss: 0.2716 - accuracy: 0.8974 - val_loss: 0.2863 - val_accuracy: 0.9318\n",
            "Epoch 44/75\n",
            "29/29 [==============================] - 0s 3ms/step - loss: 0.2693 - accuracy: 0.8974 - val_loss: 0.2813 - val_accuracy: 0.9318\n",
            "Epoch 45/75\n",
            "29/29 [==============================] - 0s 3ms/step - loss: 0.2672 - accuracy: 0.8974 - val_loss: 0.2801 - val_accuracy: 0.9318\n",
            "Epoch 46/75\n",
            "29/29 [==============================] - 0s 3ms/step - loss: 0.2652 - accuracy: 0.8996 - val_loss: 0.2757 - val_accuracy: 0.9318\n",
            "Epoch 47/75\n",
            "29/29 [==============================] - 0s 4ms/step - loss: 0.2635 - accuracy: 0.8996 - val_loss: 0.2753 - val_accuracy: 0.9318\n",
            "Epoch 48/75\n",
            "29/29 [==============================] - 0s 3ms/step - loss: 0.2616 - accuracy: 0.9017 - val_loss: 0.2727 - val_accuracy: 0.9318\n",
            "Epoch 49/75\n",
            "29/29 [==============================] - 0s 3ms/step - loss: 0.2602 - accuracy: 0.9017 - val_loss: 0.2714 - val_accuracy: 0.9318\n",
            "Epoch 50/75\n",
            "29/29 [==============================] - 0s 3ms/step - loss: 0.2588 - accuracy: 0.9017 - val_loss: 0.2703 - val_accuracy: 0.9318\n",
            "Epoch 51/75\n",
            "29/29 [==============================] - 0s 3ms/step - loss: 0.2573 - accuracy: 0.9017 - val_loss: 0.2668 - val_accuracy: 0.9318\n",
            "Epoch 52/75\n",
            "29/29 [==============================] - 0s 3ms/step - loss: 0.2560 - accuracy: 0.9148 - val_loss: 0.2682 - val_accuracy: 0.9318\n",
            "Epoch 53/75\n",
            "29/29 [==============================] - 0s 3ms/step - loss: 0.2546 - accuracy: 0.9170 - val_loss: 0.2645 - val_accuracy: 0.9318\n",
            "Epoch 54/75\n",
            "29/29 [==============================] - 0s 3ms/step - loss: 0.2535 - accuracy: 0.9170 - val_loss: 0.2656 - val_accuracy: 0.9318\n",
            "Epoch 55/75\n",
            "29/29 [==============================] - 0s 3ms/step - loss: 0.2524 - accuracy: 0.9170 - val_loss: 0.2614 - val_accuracy: 0.9318\n",
            "Epoch 56/75\n",
            "29/29 [==============================] - 0s 3ms/step - loss: 0.2514 - accuracy: 0.9170 - val_loss: 0.2611 - val_accuracy: 0.9318\n",
            "Epoch 57/75\n",
            "29/29 [==============================] - 0s 3ms/step - loss: 0.2504 - accuracy: 0.9170 - val_loss: 0.2611 - val_accuracy: 0.9318\n",
            "Epoch 58/75\n",
            "29/29 [==============================] - 0s 3ms/step - loss: 0.2493 - accuracy: 0.9170 - val_loss: 0.2616 - val_accuracy: 0.9318\n",
            "Epoch 59/75\n",
            "29/29 [==============================] - 0s 3ms/step - loss: 0.2486 - accuracy: 0.9170 - val_loss: 0.2597 - val_accuracy: 0.9318\n",
            "Epoch 60/75\n",
            "29/29 [==============================] - 0s 3ms/step - loss: 0.2478 - accuracy: 0.9170 - val_loss: 0.2570 - val_accuracy: 0.9318\n",
            "Epoch 61/75\n",
            "29/29 [==============================] - 0s 3ms/step - loss: 0.2470 - accuracy: 0.9170 - val_loss: 0.2577 - val_accuracy: 0.9318\n",
            "Epoch 62/75\n",
            "29/29 [==============================] - 0s 3ms/step - loss: 0.2459 - accuracy: 0.9170 - val_loss: 0.2570 - val_accuracy: 0.9318\n",
            "Epoch 63/75\n",
            "29/29 [==============================] - 0s 3ms/step - loss: 0.2450 - accuracy: 0.9170 - val_loss: 0.2561 - val_accuracy: 0.9318\n",
            "Epoch 64/75\n",
            "29/29 [==============================] - 0s 3ms/step - loss: 0.2442 - accuracy: 0.9170 - val_loss: 0.2558 - val_accuracy: 0.9318\n",
            "Epoch 65/75\n",
            "29/29 [==============================] - 0s 3ms/step - loss: 0.2437 - accuracy: 0.9170 - val_loss: 0.2540 - val_accuracy: 0.9318\n",
            "Epoch 66/75\n",
            "29/29 [==============================] - 0s 3ms/step - loss: 0.2432 - accuracy: 0.9192 - val_loss: 0.2567 - val_accuracy: 0.9318\n",
            "Epoch 67/75\n",
            "29/29 [==============================] - 0s 4ms/step - loss: 0.2423 - accuracy: 0.9345 - val_loss: 0.2527 - val_accuracy: 0.9318\n",
            "Epoch 68/75\n",
            "29/29 [==============================] - 0s 3ms/step - loss: 0.2417 - accuracy: 0.9236 - val_loss: 0.2531 - val_accuracy: 0.9318\n",
            "Epoch 69/75\n",
            "29/29 [==============================] - 0s 4ms/step - loss: 0.2411 - accuracy: 0.9345 - val_loss: 0.2525 - val_accuracy: 0.9318\n",
            "Epoch 70/75\n",
            "29/29 [==============================] - 0s 3ms/step - loss: 0.2404 - accuracy: 0.9345 - val_loss: 0.2511 - val_accuracy: 0.9318\n",
            "Epoch 71/75\n",
            "29/29 [==============================] - 0s 3ms/step - loss: 0.2400 - accuracy: 0.9345 - val_loss: 0.2517 - val_accuracy: 0.9318\n",
            "Epoch 72/75\n",
            "29/29 [==============================] - 0s 3ms/step - loss: 0.2392 - accuracy: 0.9345 - val_loss: 0.2495 - val_accuracy: 0.9318\n",
            "Epoch 73/75\n",
            "29/29 [==============================] - 0s 3ms/step - loss: 0.2384 - accuracy: 0.9345 - val_loss: 0.2497 - val_accuracy: 0.9318\n",
            "Epoch 74/75\n",
            "29/29 [==============================] - 0s 3ms/step - loss: 0.2380 - accuracy: 0.9345 - val_loss: 0.2501 - val_accuracy: 0.9318\n",
            "Epoch 75/75\n",
            "29/29 [==============================] - 0s 3ms/step - loss: 0.2376 - accuracy: 0.9345 - val_loss: 0.2486 - val_accuracy: 0.9318\n"
          ]
        }
      ],
      "source": [
        "model.compile(\n",
        "    loss=tf.keras.losses.BinaryCrossentropy(),\n",
        "    optimizer=tf.keras.optimizers.Adam(learning_rate=0.0004),\n",
        "    metrics=['accuracy']\n",
        ")\n",
        "\n",
        "history = model.fit(X_train, y_train, \n",
        "                        epochs=75, batch_size=16,\n",
        "                        validation_data=(X_val, y_val), \n",
        "                        shuffle=True)"
      ]
    },
    {
      "cell_type": "code",
      "execution_count": null,
      "metadata": {
        "colab": {
          "base_uri": "https://localhost:8080/",
          "height": 489
        },
        "id": "98OiyIXfMscl",
        "outputId": "92ffd5f8-99fc-4605-ce6b-f00f84747d88"
      },
      "outputs": [
        {
          "data": {
            "text/plain": [
              "<matplotlib.legend.Legend at 0x7fef12658100>"
            ]
          },
          "execution_count": 297,
          "metadata": {},
          "output_type": "execute_result"
        },
        {
          "data": {
            "image/png": "[encoded data removed]",
            "text/plain": [
              "<Figure size 640x480 with 1 Axes>"
            ]
          },
          "metadata": {},
          "output_type": "display_data"
        }
      ],
      "source": [
        "plt.plot(history.history['accuracy'], label='Train')\n",
        "plt.plot(history.history['val_accuracy'], label='Validation')\n",
        "plt.ylabel('Accuracy')\n",
        "plt.xlabel('Epoch')\n",
        "plt.title('Model Accuracy')\n",
        "plt.legend(loc='upper left')"
      ]
    },
    {
      "cell_type": "code",
      "execution_count": null,
      "metadata": {
        "colab": {
          "base_uri": "https://localhost:8080/",
          "height": 489
        },
        "id": "1-jQ2D1_MvuP",
        "outputId": "ea4cf0a0-4c02-4ff3-ae21-8c5c0d938b01"
      },
      "outputs": [
        {
          "data": {
            "text/plain": [
              "<matplotlib.legend.Legend at 0x7fef1267e260>"
            ]
          },
          "execution_count": 298,
          "metadata": {},
          "output_type": "execute_result"
        },
        {
          "data": {
            "image/png": "[encoded data removed]",
            "text/plain": [
              "<Figure size 640x480 with 1 Axes>"
            ]
          },
          "metadata": {},
          "output_type": "display_data"
        }
      ],
      "source": [
        "plt.plot(history.history['loss'], label='Train')\n",
        "plt.plot(history.history['val_loss'], label='Validation')\n",
        "plt.ylabel('Loss')\n",
        "plt.xlabel('Epoch')\n",
        "plt.title('Model Loss')\n",
        "plt.legend(loc='upper right')"
      ]
    },
    {
      "cell_type": "code",
      "execution_count": null,
      "metadata": {
        "colab": {
          "base_uri": "https://localhost:8080/"
        },
        "id": "zvQEZe_pMyNM",
        "outputId": "74170ef2-1035-4c75-af89-3b8b789b0905"
      },
      "outputs": [
        {
          "name": "stdout",
          "output_type": "stream",
          "text": [
            "3/3 [==============================] - 0s 4ms/step - loss: 0.1619 - accuracy: 0.9432\n",
            "Test loss: 0.1619315892457962\n",
            "Test accuracy: 0.9431818127632141\n"
          ]
        }
      ],
      "source": [
        "test_loss, test_acc = model.evaluate(X_test, y_test)\n",
        "print(\"Test loss:\", test_loss)\n",
        "print(\"Test accuracy:\", test_acc)"
      ]
    },
    {
      "cell_type": "code",
      "execution_count": null,
      "metadata": {
        "colab": {
          "base_uri": "https://localhost:8080/",
          "height": 522
        },
        "id": "j3YH8eYHM1No",
        "outputId": "2a5a8ccc-e524-478b-8700-8623d4370d82"
      },
      "outputs": [
        {
          "name": "stdout",
          "output_type": "stream",
          "text": [
            "3/3 [==============================] - 0s 4ms/step\n",
            "\n",
            "Confusion Matrix\n"
          ]
        },
        {
          "data": {
            "text/plain": [
              "Text(50.722222222222214, 0.5, 'True')"
            ]
          },
          "execution_count": 300,
          "metadata": {},
          "output_type": "execute_result"
        },
        {
          "data": {
            "image/png": "[encoded data removed]",
            "text/plain": [
              "<Figure size 640x480 with 2 Axes>"
            ]
          },
          "metadata": {},
          "output_type": "display_data"
        }
      ],
      "source": [
        "from sklearn.metrics import precision_recall_fscore_support\n",
        "y_true = y_test\n",
        "y_pred = model.predict(X_test)\n",
        "\n",
        "# Make the confusion matrix\n",
        "import seaborn as sns\n",
        "import matplotlib.pyplot as plt\n",
        "from sklearn.metrics import confusion_matrix\n",
        "cf_matrix = confusion_matrix(np.round_(y_true), np.round_(y_pred))\n",
        "print(\"\\nConfusion Matrix\")\n",
        "sns.heatmap(cf_matrix, annot=True, cmap='Blues', fmt = \".1f\" )\n",
        "plt.xlabel('Predicted', fontsize=12)\n",
        "plt.ylabel('True', fontsize=12)"
      ]
    },
    {
      "cell_type": "code",
      "execution_count": null,
      "metadata": {
        "colab": {
          "base_uri": "https://localhost:8080/"
        },
        "id": "MxE0sdIIOH13",
        "outputId": "4bea7e57-c622-444c-8202-06dde24f4d2e"
      },
      "outputs": [
        {
          "name": "stdout",
          "output_type": "stream",
          "text": [
            "              precision    recall  f1-score   support\n",
            "\n",
            "           0       0.99      0.95      0.97        83\n",
            "           1       0.50      0.80      0.62         5\n",
            "\n",
            "    accuracy                           0.94        88\n",
            "   macro avg       0.74      0.88      0.79        88\n",
            "weighted avg       0.96      0.94      0.95        88\n",
            "\n"
          ]
        }
      ],
      "source": [
        "print(classification_report(np.round_(y_true),np.round_(y_pred)))"
      ]
    },
    {
      "cell_type": "code",
      "execution_count": 341,
      "metadata": {
        "colab": {
          "base_uri": "https://localhost:8080/"
        },
        "id": "jY4Z25QZ_bD3",
        "outputId": "1fddf723-1521-4c0c-bba0-111bd38bd77e"
      },
      "outputs": [
        {
          "name": "stdout",
          "output_type": "stream",
          "text": [
            "[<tf.Variable 'dense_59/kernel:0' shape=(15, 8) dtype=float32, numpy=\n",
            "array([[-0.14042377, -0.33765906,  0.39984262,  0.4442842 ,  0.59582806,\n",
            "         0.5886223 ,  0.17347717,  0.4298    ],\n",
            "       [ 0.5364404 , -0.166997  ,  0.59978217, -0.03684927,  0.1965916 ,\n",
            "         0.02831785,  0.781248  , -0.11027024],\n",
            "       [-0.47630176, -0.52078193,  0.3915488 ,  0.51122946,  0.11435711,\n",
            "         0.22297244,  0.40085116, -0.19522946],\n",
            "       [ 0.03866155,  0.3538852 , -0.08274988,  0.19309503,  0.31362587,\n",
            "         0.13103087,  0.5487577 ,  0.46847874],\n",
            "       [ 0.33878478,  0.3346225 ,  0.04664175, -0.34140646, -0.23825786,\n",
            "         0.06979623, -0.3889009 , -0.0887088 ],\n",
            "       [-0.03814982, -0.2829262 , -0.41494313, -0.42984644, -0.24873817,\n",
            "         0.14549069, -0.5780815 , -0.12369459],\n",
            "       [ 0.03552629,  0.10232487,  0.3140369 ,  0.3927455 ,  0.41332388,\n",
            "         0.03752651, -0.08545879, -0.48276618],\n",
            "       [ 0.447913  , -0.06914486, -0.34107298, -0.23064268, -0.31934908,\n",
            "         0.32240337, -0.09987686, -0.39309835],\n",
            "       [ 0.35322002, -0.0220413 ,  0.12697327,  0.00340135,  0.23751648,\n",
            "         0.06007899,  0.13164112,  0.12461487],\n",
            "       [-0.27627647,  0.5210056 ,  0.5080176 ,  0.04130306,  0.43243796,\n",
            "        -0.148984  , -0.46529177,  0.09467176],\n",
            "       [ 0.2691553 ,  0.03515654, -0.2648613 ,  0.32682955,  0.18997861,\n",
            "         0.07987043,  0.16519976, -0.33025873],\n",
            "       [ 0.28731257,  0.39645967, -0.3541619 ,  0.10499302,  0.3110429 ,\n",
            "         0.35365158,  0.06358907, -0.2905566 ],\n",
            "       [-0.12831153,  0.35511807, -0.57974285,  0.06499675,  0.19453858,\n",
            "        -0.13284759,  0.35165316,  0.18178678],\n",
            "       [ 0.61801106,  0.4045178 , -0.5425379 , -0.5001599 ,  0.9161901 ,\n",
            "        -0.6639643 , -0.41630864,  0.37899807],\n",
            "       [ 0.37789202, -0.40468776, -0.23062404,  0.02622529,  0.17461462,\n",
            "        -0.2604604 , -0.11049703,  0.29841605]], dtype=float32)>, <tf.Variable 'dense_59/bias:0' shape=(8,) dtype=float32, numpy=\n",
            "array([ 0.01363971,  0.01331072,  0.35041535,  0.30989978, -0.00384722,\n",
            "        0.3260209 ,  0.46293658,  0.23719105], dtype=float32)>, <tf.Variable 'dense_60/kernel:0' shape=(8, 4) dtype=float32, numpy=\n",
            "array([[ 0.45464855,  0.31458408,  0.1912076 ,  0.48252887],\n",
            "       [-0.09293275,  0.24883257, -0.82252973,  0.51432514],\n",
            "       [-0.31862387,  1.0015552 ,  0.65082484,  0.06562831],\n",
            "       [-0.16915274,  1.106566  ,  0.71530336, -0.6799601 ],\n",
            "       [ 0.58780104, -0.32833156, -0.3012396 , -0.70907265],\n",
            "       [-0.97842145,  0.57935697,  0.29614732, -0.62313974],\n",
            "       [ 0.33294848,  0.02333918,  0.9864872 , -0.49294943],\n",
            "       [ 0.78285205, -0.19059908,  0.3121884 , -0.6987947 ]],\n",
            "      dtype=float32)>, <tf.Variable 'dense_60/bias:0' shape=(4,) dtype=float32, numpy=array([ 0.15412627,  0.04364649,  0.1180181 , -0.03190494], dtype=float32)>, <tf.Variable 'dense_61/kernel:0' shape=(4, 1) dtype=float32, numpy=\n",
            "array([[ 1.4293424 ],\n",
            "       [-0.21037897],\n",
            "       [-1.3352265 ],\n",
            "       [-0.9542698 ]], dtype=float32)>, <tf.Variable 'dense_61/bias:0' shape=(1,) dtype=float32, numpy=array([0.03650627], dtype=float32)>]\n"
          ]
        }
      ],
      "source": [
        "print(model.trainable_variables) "
      ]
    },
    {
      "cell_type": "code",
      "execution_count": null,
      "metadata": {
        "colab": {
          "base_uri": "https://localhost:8080/"
        },
        "id": "iQgq37FL_fQh",
        "outputId": "87df0f4b-05b4-4e2d-c357-e6c90c0d730e"
      },
      "outputs": [
        {
          "name": "stderr",
          "output_type": "stream",
          "text": [
            "WARNING:absl:Found untraced functions such as _update_step_xla while saving (showing 1 of 1). These functions will not be directly callable after loading.\n"
          ]
        }
      ],
      "source": [
        "!mkdir -p saved_model\n",
        "model.save('saved_model/my_model')"
      ]
    },
    {
      "cell_type": "code",
      "execution_count": null,
      "metadata": {
        "id": "Bh2oWtGS_heV"
      },
      "outputs": [],
      "source": [
        "model.save('my_model.h5')"
      ]
    },
    {
      "cell_type": "code",
      "execution_count": null,
      "metadata": {
        "colab": {
          "base_uri": "https://localhost:8080/",
          "height": 17
        },
        "id": "JS8BJeLl_j0H",
        "outputId": "0cd2f1b4-453d-4569-8145-89af7c6c4fb3"
      },
      "outputs": [
        {
          "data": {
            "application/javascript": "\n    async function download(id, filename, size) {\n      if (!google.colab.kernel.accessAllowed) {\n        return;\n      }\n      const div = document.createElement('div');\n      const label = document.createElement('label');\n      label.textContent = `Downloading \"${filename}\": `;\n      div.appendChild(label);\n      const progress = document.createElement('progress');\n      progress.max = size;\n      div.appendChild(progress);\n      document.body.appendChild(div);\n\n      const buffers = [];\n      let downloaded = 0;\n\n      const channel = await google.colab.kernel.comms.open(id);\n      // Send a message to notify the kernel that we're ready.\n      channel.send({})\n\n      for await (const message of channel.messages) {\n        // Send a message to notify the kernel that we're ready.\n        channel.send({})\n        if (message.buffers) {\n          for (const buffer of message.buffers) {\n            buffers.push(buffer);\n            downloaded += buffer.byteLength;\n            progress.value = downloaded;\n          }\n        }\n      }\n      const blob = new Blob(buffers, {type: 'application/binary'});\n      const a = document.createElement('a');\n      a.href = window.URL.createObjectURL(blob);\n      a.download = filename;\n      div.appendChild(a);\n      a.click();\n      div.remove();\n    }\n  ",
            "text/plain": [
              "<IPython.core.display.Javascript object>"
            ]
          },
          "metadata": {},
          "output_type": "display_data"
        },
        {
          "data": {
            "application/javascript": "download(\"download_bec54c2b-3c6b-4197-ab59-f2fea7841f48\", \"variables.data-00000-of-00001\", 22656)",
            "text/plain": [
              "<IPython.core.display.Javascript object>"
            ]
          },
          "metadata": {},
          "output_type": "display_data"
        },
        {
          "data": {
            "application/javascript": "\n    async function download(id, filename, size) {\n      if (!google.colab.kernel.accessAllowed) {\n        return;\n      }\n      const div = document.createElement('div');\n      const label = document.createElement('label');\n      label.textContent = `Downloading \"${filename}\": `;\n      div.appendChild(label);\n      const progress = document.createElement('progress');\n      progress.max = size;\n      div.appendChild(progress);\n      document.body.appendChild(div);\n\n      const buffers = [];\n      let downloaded = 0;\n\n      const channel = await google.colab.kernel.comms.open(id);\n      // Send a message to notify the kernel that we're ready.\n      channel.send({})\n\n      for await (const message of channel.messages) {\n        // Send a message to notify the kernel that we're ready.\n        channel.send({})\n        if (message.buffers) {\n          for (const buffer of message.buffers) {\n            buffers.push(buffer);\n            downloaded += buffer.byteLength;\n            progress.value = downloaded;\n          }\n        }\n      }\n      const blob = new Blob(buffers, {type: 'application/binary'});\n      const a = document.createElement('a');\n      a.href = window.URL.createObjectURL(blob);\n      a.download = filename;\n      div.appendChild(a);\n      a.click();\n      div.remove();\n    }\n  ",
            "text/plain": [
              "<IPython.core.display.Javascript object>"
            ]
          },
          "metadata": {},
          "output_type": "display_data"
        },
        {
          "data": {
            "application/javascript": "download(\"download_8ba75198-28ea-42b7-876a-0a5a67bdea06\", \"variables.index\", 2139)",
            "text/plain": [
              "<IPython.core.display.Javascript object>"
            ]
          },
          "metadata": {},
          "output_type": "display_data"
        },
        {
          "data": {
            "application/javascript": "\n    async function download(id, filename, size) {\n      if (!google.colab.kernel.accessAllowed) {\n        return;\n      }\n      const div = document.createElement('div');\n      const label = document.createElement('label');\n      label.textContent = `Downloading \"${filename}\": `;\n      div.appendChild(label);\n      const progress = document.createElement('progress');\n      progress.max = size;\n      div.appendChild(progress);\n      document.body.appendChild(div);\n\n      const buffers = [];\n      let downloaded = 0;\n\n      const channel = await google.colab.kernel.comms.open(id);\n      // Send a message to notify the kernel that we're ready.\n      channel.send({})\n\n      for await (const message of channel.messages) {\n        // Send a message to notify the kernel that we're ready.\n        channel.send({})\n        if (message.buffers) {\n          for (const buffer of message.buffers) {\n            buffers.push(buffer);\n            downloaded += buffer.byteLength;\n            progress.value = downloaded;\n          }\n        }\n      }\n      const blob = new Blob(buffers, {type: 'application/binary'});\n      const a = document.createElement('a');\n      a.href = window.URL.createObjectURL(blob);\n      a.download = filename;\n      div.appendChild(a);\n      a.click();\n      div.remove();\n    }\n  ",
            "text/plain": [
              "<IPython.core.display.Javascript object>"
            ]
          },
          "metadata": {},
          "output_type": "display_data"
        },
        {
          "data": {
            "application/javascript": "download(\"download_c453c8b4-f615-47ce-a6c9-bbdd9bce455b\", \"fingerprint.pb\", 58)",
            "text/plain": [
              "<IPython.core.display.Javascript object>"
            ]
          },
          "metadata": {},
          "output_type": "display_data"
        },
        {
          "data": {
            "application/javascript": "\n    async function download(id, filename, size) {\n      if (!google.colab.kernel.accessAllowed) {\n        return;\n      }\n      const div = document.createElement('div');\n      const label = document.createElement('label');\n      label.textContent = `Downloading \"${filename}\": `;\n      div.appendChild(label);\n      const progress = document.createElement('progress');\n      progress.max = size;\n      div.appendChild(progress);\n      document.body.appendChild(div);\n\n      const buffers = [];\n      let downloaded = 0;\n\n      const channel = await google.colab.kernel.comms.open(id);\n      // Send a message to notify the kernel that we're ready.\n      channel.send({})\n\n      for await (const message of channel.messages) {\n        // Send a message to notify the kernel that we're ready.\n        channel.send({})\n        if (message.buffers) {\n          for (const buffer of message.buffers) {\n            buffers.push(buffer);\n            downloaded += buffer.byteLength;\n            progress.value = downloaded;\n          }\n        }\n      }\n      const blob = new Blob(buffers, {type: 'application/binary'});\n      const a = document.createElement('a');\n      a.href = window.URL.createObjectURL(blob);\n      a.download = filename;\n      div.appendChild(a);\n      a.click();\n      div.remove();\n    }\n  ",
            "text/plain": [
              "<IPython.core.display.Javascript object>"
            ]
          },
          "metadata": {},
          "output_type": "display_data"
        },
        {
          "data": {
            "application/javascript": "download(\"download_06c25342-f090-48d4-9ee4-e16d11a4a54f\", \"keras_metadata.pb\", 12828)",
            "text/plain": [
              "<IPython.core.display.Javascript object>"
            ]
          },
          "metadata": {},
          "output_type": "display_data"
        },
        {
          "data": {
            "application/javascript": "\n    async function download(id, filename, size) {\n      if (!google.colab.kernel.accessAllowed) {\n        return;\n      }\n      const div = document.createElement('div');\n      const label = document.createElement('label');\n      label.textContent = `Downloading \"${filename}\": `;\n      div.appendChild(label);\n      const progress = document.createElement('progress');\n      progress.max = size;\n      div.appendChild(progress);\n      document.body.appendChild(div);\n\n      const buffers = [];\n      let downloaded = 0;\n\n      const channel = await google.colab.kernel.comms.open(id);\n      // Send a message to notify the kernel that we're ready.\n      channel.send({})\n\n      for await (const message of channel.messages) {\n        // Send a message to notify the kernel that we're ready.\n        channel.send({})\n        if (message.buffers) {\n          for (const buffer of message.buffers) {\n            buffers.push(buffer);\n            downloaded += buffer.byteLength;\n            progress.value = downloaded;\n          }\n        }\n      }\n      const blob = new Blob(buffers, {type: 'application/binary'});\n      const a = document.createElement('a');\n      a.href = window.URL.createObjectURL(blob);\n      a.download = filename;\n      div.appendChild(a);\n      a.click();\n      div.remove();\n    }\n  ",
            "text/plain": [
              "<IPython.core.display.Javascript object>"
            ]
          },
          "metadata": {},
          "output_type": "display_data"
        },
        {
          "data": {
            "application/javascript": "download(\"download_cc803c1f-6b2e-47f2-b8d2-88b51384c5d8\", \"saved_model.pb\", 150881)",
            "text/plain": [
              "<IPython.core.display.Javascript object>"
            ]
          },
          "metadata": {},
          "output_type": "display_data"
        }
      ],
      "source": [
        "from google.colab import files\n",
        "\n",
        "files.download('saved_model/my_model/variables/variables.data-00000-of-00001')\n",
        "files.download('saved_model/my_model/variables/variables.index')\n",
        "files.download('saved_model/my_model/fingerprint.pb')\n",
        "files.download('saved_model/my_model/keras_metadata.pb')\n",
        "files.download('saved_model/my_model/saved_model.pb')"
      ]
    },
    {
      "cell_type": "code",
      "execution_count": null,
      "metadata": {
        "colab": {
          "base_uri": "https://localhost:8080/",
          "height": 17
        },
        "id": "bMoMghTqAa41",
        "outputId": "6e3277c9-3de2-4f94-f01c-cc6cbefa5d99"
      },
      "outputs": [
        {
          "data": {
            "application/javascript": "\n    async function download(id, filename, size) {\n      if (!google.colab.kernel.accessAllowed) {\n        return;\n      }\n      const div = document.createElement('div');\n      const label = document.createElement('label');\n      label.textContent = `Downloading \"${filename}\": `;\n      div.appendChild(label);\n      const progress = document.createElement('progress');\n      progress.max = size;\n      div.appendChild(progress);\n      document.body.appendChild(div);\n\n      const buffers = [];\n      let downloaded = 0;\n\n      const channel = await google.colab.kernel.comms.open(id);\n      // Send a message to notify the kernel that we're ready.\n      channel.send({})\n\n      for await (const message of channel.messages) {\n        // Send a message to notify the kernel that we're ready.\n        channel.send({})\n        if (message.buffers) {\n          for (const buffer of message.buffers) {\n            buffers.push(buffer);\n            downloaded += buffer.byteLength;\n            progress.value = downloaded;\n          }\n        }\n      }\n      const blob = new Blob(buffers, {type: 'application/binary'});\n      const a = document.createElement('a');\n      a.href = window.URL.createObjectURL(blob);\n      a.download = filename;\n      div.appendChild(a);\n      a.click();\n      div.remove();\n    }\n  ",
            "text/plain": [
              "<IPython.core.display.Javascript object>"
            ]
          },
          "metadata": {},
          "output_type": "display_data"
        },
        {
          "data": {
            "application/javascript": "download(\"download_1db9709f-3e48-4f59-beb0-973604ae6739\", \"my_model.h5\", 62712)",
            "text/plain": [
              "<IPython.core.display.Javascript object>"
            ]
          },
          "metadata": {},
          "output_type": "display_data"
        }
      ],
      "source": [
        "files.download('my_model.h5')"
      ]
    }
  ],
  "metadata": {
    "colab": {
      "provenance": []
    },
    "kernelspec": {
      "display_name": "Python 3",
      "name": "python3"
    },
    "language_info": {
      "name": "python"
    }
  },
  "nbformat": 4,
  "nbformat_minor": 0
}
