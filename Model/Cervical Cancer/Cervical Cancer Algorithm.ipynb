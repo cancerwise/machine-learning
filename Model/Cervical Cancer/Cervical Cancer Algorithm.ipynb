{
  "nbformat": 4,
  "nbformat_minor": 0,
  "metadata": {
    "colab": {
      "provenance": []
    },
    "kernelspec": {
      "name": "python3",
      "display_name": "Python 3"
    },
    "language_info": {
      "name": "python"
    }
  },
  "cells": [
    {
      "cell_type": "code",
      "execution_count": 2,
      "metadata": {
        "id": "IZO-Q4xgQbxE"
      },
      "outputs": [],
      "source": [
        "import numpy as np\n",
        "import matplotlib.pyplot as plt\n",
        "import pandas as pd\n",
        "import tensorflow as tf\n",
        "\n",
        "from tensorflow import keras\n",
        "from tensorflow.keras import layers\n",
        "from tensorflow.keras.models import Sequential\n",
        "from tensorflow.keras.layers import Dense\n",
        "\n",
        "from imblearn.over_sampling import RandomOverSampler\n",
        "\n",
        "from collections import Counter\n",
        "from sklearn.model_selection import train_test_split\n",
        "from sklearn.linear_model import LogisticRegression\n",
        "from sklearn.preprocessing import MinMaxScaler\n",
        "from sklearn.metrics import confusion_matrix, accuracy_score, classification_report, precision_recall_fscore_support"
      ]
    },
    {
      "cell_type": "code",
      "source": [
        "# load dataset\n",
        "from google.colab import drive\n",
        "\n",
        "drive.mount('/drive')\n",
        "data = pd.read_csv('/drive/My Drive/Colab Notebooks/Cervical Cancer.csv')\n",
        "data.head()"
      ],
      "metadata": {
        "colab": {
          "base_uri": "https://localhost:8080/",
          "height": 386
        },
        "id": "9PueFjQ-XagE",
        "outputId": "99f1653c-0d40-4a31-e971-9dcf3f7ed4e9"
      },
      "execution_count": 3,
      "outputs": [
        {
          "output_type": "stream",
          "name": "stdout",
          "text": [
            "Mounted at /drive\n"
          ]
        },
        {
          "output_type": "execute_result",
          "data": {
            "text/plain": [
              "   Age Number of sexual partners First sexual intercourse Num of pregnancies  \\\n",
              "0   18                       4.0                     15.0                1.0   \n",
              "1   15                       1.0                     14.0                1.0   \n",
              "2   34                       1.0                        ?                1.0   \n",
              "3   52                       5.0                     16.0                4.0   \n",
              "4   46                       3.0                     21.0                4.0   \n",
              "\n",
              "  Smokes Smokes (years) Smokes (packs/year) Hormonal Contraceptives  \\\n",
              "0    0.0            0.0                 0.0                     0.0   \n",
              "1    0.0            0.0                 0.0                     0.0   \n",
              "2    0.0            0.0                 0.0                     0.0   \n",
              "3    1.0           37.0                37.0                     1.0   \n",
              "4    0.0            0.0                 0.0                     1.0   \n",
              "\n",
              "  Hormonal Contraceptives (years)  IUD  ... STDs: Time since first diagnosis  \\\n",
              "0                             0.0  0.0  ...                                ?   \n",
              "1                             0.0  0.0  ...                                ?   \n",
              "2                             0.0  0.0  ...                                ?   \n",
              "3                             3.0  0.0  ...                                ?   \n",
              "4                            15.0  0.0  ...                                ?   \n",
              "\n",
              "  STDs: Time since last diagnosis Dx:Cancer Dx:CIN Dx:HPV Dx Hinselmann  \\\n",
              "0                               ?         0      0      0  0          0   \n",
              "1                               ?         0      0      0  0          0   \n",
              "2                               ?         0      0      0  0          0   \n",
              "3                               ?         1      0      1  0          0   \n",
              "4                               ?         0      0      0  0          0   \n",
              "\n",
              "  Schiller Citology Biopsy  \n",
              "0        0        0      0  \n",
              "1        0        0      0  \n",
              "2        0        0      0  \n",
              "3        0        0      0  \n",
              "4        0        0      0  \n",
              "\n",
              "[5 rows x 36 columns]"
            ],
            "text/html": [
              "\n",
              "  <div id=\"df-e25dd64e-6eef-4ee2-bce9-296cb2bfdb36\">\n",
              "    <div class=\"colab-df-container\">\n",
              "      <div>\n",
              "<style scoped>\n",
              "    .dataframe tbody tr th:only-of-type {\n",
              "        vertical-align: middle;\n",
              "    }\n",
              "\n",
              "    .dataframe tbody tr th {\n",
              "        vertical-align: top;\n",
              "    }\n",
              "\n",
              "    .dataframe thead th {\n",
              "        text-align: right;\n",
              "    }\n",
              "</style>\n",
              "<table border=\"1\" class=\"dataframe\">\n",
              "  <thead>\n",
              "    <tr style=\"text-align: right;\">\n",
              "      <th></th>\n",
              "      <th>Age</th>\n",
              "      <th>Number of sexual partners</th>\n",
              "      <th>First sexual intercourse</th>\n",
              "      <th>Num of pregnancies</th>\n",
              "      <th>Smokes</th>\n",
              "      <th>Smokes (years)</th>\n",
              "      <th>Smokes (packs/year)</th>\n",
              "      <th>Hormonal Contraceptives</th>\n",
              "      <th>Hormonal Contraceptives (years)</th>\n",
              "      <th>IUD</th>\n",
              "      <th>...</th>\n",
              "      <th>STDs: Time since first diagnosis</th>\n",
              "      <th>STDs: Time since last diagnosis</th>\n",
              "      <th>Dx:Cancer</th>\n",
              "      <th>Dx:CIN</th>\n",
              "      <th>Dx:HPV</th>\n",
              "      <th>Dx</th>\n",
              "      <th>Hinselmann</th>\n",
              "      <th>Schiller</th>\n",
              "      <th>Citology</th>\n",
              "      <th>Biopsy</th>\n",
              "    </tr>\n",
              "  </thead>\n",
              "  <tbody>\n",
              "    <tr>\n",
              "      <th>0</th>\n",
              "      <td>18</td>\n",
              "      <td>4.0</td>\n",
              "      <td>15.0</td>\n",
              "      <td>1.0</td>\n",
              "      <td>0.0</td>\n",
              "      <td>0.0</td>\n",
              "      <td>0.0</td>\n",
              "      <td>0.0</td>\n",
              "      <td>0.0</td>\n",
              "      <td>0.0</td>\n",
              "      <td>...</td>\n",
              "      <td>?</td>\n",
              "      <td>?</td>\n",
              "      <td>0</td>\n",
              "      <td>0</td>\n",
              "      <td>0</td>\n",
              "      <td>0</td>\n",
              "      <td>0</td>\n",
              "      <td>0</td>\n",
              "      <td>0</td>\n",
              "      <td>0</td>\n",
              "    </tr>\n",
              "    <tr>\n",
              "      <th>1</th>\n",
              "      <td>15</td>\n",
              "      <td>1.0</td>\n",
              "      <td>14.0</td>\n",
              "      <td>1.0</td>\n",
              "      <td>0.0</td>\n",
              "      <td>0.0</td>\n",
              "      <td>0.0</td>\n",
              "      <td>0.0</td>\n",
              "      <td>0.0</td>\n",
              "      <td>0.0</td>\n",
              "      <td>...</td>\n",
              "      <td>?</td>\n",
              "      <td>?</td>\n",
              "      <td>0</td>\n",
              "      <td>0</td>\n",
              "      <td>0</td>\n",
              "      <td>0</td>\n",
              "      <td>0</td>\n",
              "      <td>0</td>\n",
              "      <td>0</td>\n",
              "      <td>0</td>\n",
              "    </tr>\n",
              "    <tr>\n",
              "      <th>2</th>\n",
              "      <td>34</td>\n",
              "      <td>1.0</td>\n",
              "      <td>?</td>\n",
              "      <td>1.0</td>\n",
              "      <td>0.0</td>\n",
              "      <td>0.0</td>\n",
              "      <td>0.0</td>\n",
              "      <td>0.0</td>\n",
              "      <td>0.0</td>\n",
              "      <td>0.0</td>\n",
              "      <td>...</td>\n",
              "      <td>?</td>\n",
              "      <td>?</td>\n",
              "      <td>0</td>\n",
              "      <td>0</td>\n",
              "      <td>0</td>\n",
              "      <td>0</td>\n",
              "      <td>0</td>\n",
              "      <td>0</td>\n",
              "      <td>0</td>\n",
              "      <td>0</td>\n",
              "    </tr>\n",
              "    <tr>\n",
              "      <th>3</th>\n",
              "      <td>52</td>\n",
              "      <td>5.0</td>\n",
              "      <td>16.0</td>\n",
              "      <td>4.0</td>\n",
              "      <td>1.0</td>\n",
              "      <td>37.0</td>\n",
              "      <td>37.0</td>\n",
              "      <td>1.0</td>\n",
              "      <td>3.0</td>\n",
              "      <td>0.0</td>\n",
              "      <td>...</td>\n",
              "      <td>?</td>\n",
              "      <td>?</td>\n",
              "      <td>1</td>\n",
              "      <td>0</td>\n",
              "      <td>1</td>\n",
              "      <td>0</td>\n",
              "      <td>0</td>\n",
              "      <td>0</td>\n",
              "      <td>0</td>\n",
              "      <td>0</td>\n",
              "    </tr>\n",
              "    <tr>\n",
              "      <th>4</th>\n",
              "      <td>46</td>\n",
              "      <td>3.0</td>\n",
              "      <td>21.0</td>\n",
              "      <td>4.0</td>\n",
              "      <td>0.0</td>\n",
              "      <td>0.0</td>\n",
              "      <td>0.0</td>\n",
              "      <td>1.0</td>\n",
              "      <td>15.0</td>\n",
              "      <td>0.0</td>\n",
              "      <td>...</td>\n",
              "      <td>?</td>\n",
              "      <td>?</td>\n",
              "      <td>0</td>\n",
              "      <td>0</td>\n",
              "      <td>0</td>\n",
              "      <td>0</td>\n",
              "      <td>0</td>\n",
              "      <td>0</td>\n",
              "      <td>0</td>\n",
              "      <td>0</td>\n",
              "    </tr>\n",
              "  </tbody>\n",
              "</table>\n",
              "<p>5 rows × 36 columns</p>\n",
              "</div>\n",
              "      <button class=\"colab-df-convert\" onclick=\"convertToInteractive('df-e25dd64e-6eef-4ee2-bce9-296cb2bfdb36')\"\n",
              "              title=\"Convert this dataframe to an interactive table.\"\n",
              "              style=\"display:none;\">\n",
              "        \n",
              "  <svg xmlns=\"http://www.w3.org/2000/svg\" height=\"24px\"viewBox=\"0 0 24 24\"\n",
              "       width=\"24px\">\n",
              "    <path d=\"M0 0h24v24H0V0z\" fill=\"none\"/>\n",
              "    <path d=\"M18.56 5.44l.94 2.06.94-2.06 2.06-.94-2.06-.94-.94-2.06-.94 2.06-2.06.94zm-11 1L8.5 8.5l.94-2.06 2.06-.94-2.06-.94L8.5 2.5l-.94 2.06-2.06.94zm10 10l.94 2.06.94-2.06 2.06-.94-2.06-.94-.94-2.06-.94 2.06-2.06.94z\"/><path d=\"M17.41 7.96l-1.37-1.37c-.4-.4-.92-.59-1.43-.59-.52 0-1.04.2-1.43.59L10.3 9.45l-7.72 7.72c-.78.78-.78 2.05 0 2.83L4 21.41c.39.39.9.59 1.41.59.51 0 1.02-.2 1.41-.59l7.78-7.78 2.81-2.81c.8-.78.8-2.07 0-2.86zM5.41 20L4 18.59l7.72-7.72 1.47 1.35L5.41 20z\"/>\n",
              "  </svg>\n",
              "      </button>\n",
              "      \n",
              "  <style>\n",
              "    .colab-df-container {\n",
              "      display:flex;\n",
              "      flex-wrap:wrap;\n",
              "      gap: 12px;\n",
              "    }\n",
              "\n",
              "    .colab-df-convert {\n",
              "      background-color: #E8F0FE;\n",
              "      border: none;\n",
              "      border-radius: 50%;\n",
              "      cursor: pointer;\n",
              "      display: none;\n",
              "      fill: #1967D2;\n",
              "      height: 32px;\n",
              "      padding: 0 0 0 0;\n",
              "      width: 32px;\n",
              "    }\n",
              "\n",
              "    .colab-df-convert:hover {\n",
              "      background-color: #E2EBFA;\n",
              "      box-shadow: 0px 1px 2px rgba(60, 64, 67, 0.3), 0px 1px 3px 1px rgba(60, 64, 67, 0.15);\n",
              "      fill: #174EA6;\n",
              "    }\n",
              "\n",
              "    [theme=dark] .colab-df-convert {\n",
              "      background-color: #3B4455;\n",
              "      fill: #D2E3FC;\n",
              "    }\n",
              "\n",
              "    [theme=dark] .colab-df-convert:hover {\n",
              "      background-color: #434B5C;\n",
              "      box-shadow: 0px 1px 3px 1px rgba(0, 0, 0, 0.15);\n",
              "      filter: drop-shadow(0px 1px 2px rgba(0, 0, 0, 0.3));\n",
              "      fill: #FFFFFF;\n",
              "    }\n",
              "  </style>\n",
              "\n",
              "      <script>\n",
              "        const buttonEl =\n",
              "          document.querySelector('#df-e25dd64e-6eef-4ee2-bce9-296cb2bfdb36 button.colab-df-convert');\n",
              "        buttonEl.style.display =\n",
              "          google.colab.kernel.accessAllowed ? 'block' : 'none';\n",
              "\n",
              "        async function convertToInteractive(key) {\n",
              "          const element = document.querySelector('#df-e25dd64e-6eef-4ee2-bce9-296cb2bfdb36');\n",
              "          const dataTable =\n",
              "            await google.colab.kernel.invokeFunction('convertToInteractive',\n",
              "                                                     [key], {});\n",
              "          if (!dataTable) return;\n",
              "\n",
              "          const docLinkHtml = 'Like what you see? Visit the ' +\n",
              "            '<a target=\"_blank\" href=https://colab.research.google.com/notebooks/data_table.ipynb>data table notebook</a>'\n",
              "            + ' to learn more about interactive tables.';\n",
              "          element.innerHTML = '';\n",
              "          dataTable['output_type'] = 'display_data';\n",
              "          await google.colab.output.renderOutput(dataTable, element);\n",
              "          const docLink = document.createElement('div');\n",
              "          docLink.innerHTML = docLinkHtml;\n",
              "          element.appendChild(docLink);\n",
              "        }\n",
              "      </script>\n",
              "    </div>\n",
              "  </div>\n",
              "  "
            ]
          },
          "metadata": {},
          "execution_count": 3
        }
      ]
    },
    {
      "cell_type": "code",
      "source": [
        "data.drop_duplicates(inplace=True)\n",
        "len(data)"
      ],
      "metadata": {
        "colab": {
          "base_uri": "https://localhost:8080/"
        },
        "id": "_j27BMOMS-S4",
        "outputId": "eb9f1b3f-3229-4918-a23b-40a820b6ff7e"
      },
      "execution_count": 4,
      "outputs": [
        {
          "output_type": "execute_result",
          "data": {
            "text/plain": [
              "835"
            ]
          },
          "metadata": {},
          "execution_count": 4
        }
      ]
    },
    {
      "cell_type": "code",
      "source": [
        "data = data.replace('?', np.nan)"
      ],
      "metadata": {
        "id": "yq-TBFwKosLY"
      },
      "execution_count": 5,
      "outputs": []
    },
    {
      "cell_type": "code",
      "source": [
        "data = data.apply(pd.to_numeric, axis=0)"
      ],
      "metadata": {
        "id": "2_rqlLKHs52h"
      },
      "execution_count": 6,
      "outputs": []
    },
    {
      "cell_type": "code",
      "source": [
        "# Generating list of categorical factors:\n",
        "temp=data.drop(columns=['Biopsy']).nunique()\n",
        "cat=temp.loc[temp.values < 4].index.to_list()\n",
        "\n",
        "# Updating null values to the most dominant category:\n",
        "for factor in cat:\n",
        "    data[factor] = data[factor].fillna(1)"
      ],
      "metadata": {
        "id": "50OxAyrToDIg"
      },
      "execution_count": 7,
      "outputs": []
    },
    {
      "cell_type": "code",
      "source": [
        "# Generating list of non-categorical factors:\n",
        "temp=data.drop(columns=['Biopsy']).nunique()\n",
        "non_cat=temp.loc[temp.values > 3].index.to_list()\n",
        "\n",
        "# Implementing interpolation (with linear method), on known data for null values:\n",
        "for factor in non_cat:\n",
        "  if (factor == ('STDs: Time since first diagnosis') or factor == ('STDs: Time since last diagnosis')):\n",
        "    data[factor] = data[factor].fillna(data[factor].median())\n",
        "  else:\n",
        "    data[factor]=data[factor].interpolate(method='linear')"
      ],
      "metadata": {
        "id": "_Laze_Hsrmsl"
      },
      "execution_count": 8,
      "outputs": []
    },
    {
      "cell_type": "code",
      "source": [
        "y = data['Biopsy']\n",
        "X = data.drop('Biopsy',axis=1)"
      ],
      "metadata": {
        "id": "61xGvfwZxvUL"
      },
      "execution_count": 9,
      "outputs": []
    },
    {
      "cell_type": "code",
      "source": [
        "X_train, X_test, y_train, y_test = train_test_split(X, y, random_state = 42, test_size=0.2)\n",
        "X_train, X_val, y_train, y_val = train_test_split(X_train, y_train, test_size=0.25, random_state = 42)"
      ],
      "metadata": {
        "id": "fgzitZg10LU6"
      },
      "execution_count": 10,
      "outputs": []
    },
    {
      "cell_type": "code",
      "source": [
        "minmax_scale = MinMaxScaler(feature_range=(0, 1))\n",
        "X_train = minmax_scale.fit_transform(X_train)\n",
        "X_val = minmax_scale.fit_transform(X_val)\n",
        "X_test = minmax_scale.fit_transform(X_test)"
      ],
      "metadata": {
        "id": "tt4VWv3t3N6Y"
      },
      "execution_count": 11,
      "outputs": []
    },
    {
      "cell_type": "code",
      "source": [
        "from tensorflow.keras import initializers\n",
        "initializer = tf.keras.initializers.HeNormal(seed=0)\n",
        "\n",
        "model = Sequential(\n",
        "    [\n",
        "        Dense(32, activation = 'relu', input_shape=[35], kernel_initializer=initializer),\n",
        "        Dense(16, activation = 'relu', kernel_initializer=initializer),\n",
        "        Dense(8, activation = 'relu', kernel_initializer=initializer),\n",
        "        Dense(4, activation = 'relu', kernel_initializer=initializer),\n",
        "        Dense(1, activation = 'sigmoid', kernel_initializer=tf.keras.initializers.GlorotUniform(seed=0)),\n",
        "    ]\n",
        ")"
      ],
      "metadata": {
        "id": "fbeS84ca6t8E"
      },
      "execution_count": 12,
      "outputs": []
    },
    {
      "cell_type": "code",
      "source": [
        "model.build()"
      ],
      "metadata": {
        "id": "5Xjtmx_-KbXC"
      },
      "execution_count": 13,
      "outputs": []
    },
    {
      "cell_type": "code",
      "source": [
        "model.summary()"
      ],
      "metadata": {
        "colab": {
          "base_uri": "https://localhost:8080/"
        },
        "id": "hv3aSG8fKvSW",
        "outputId": "4f226b0b-2a78-48d0-ad17-e008fd1d59b9"
      },
      "execution_count": 14,
      "outputs": [
        {
          "output_type": "stream",
          "name": "stdout",
          "text": [
            "Model: \"sequential\"\n",
            "_________________________________________________________________\n",
            " Layer (type)                Output Shape              Param #   \n",
            "=================================================================\n",
            " dense (Dense)               (None, 32)                1152      \n",
            "                                                                 \n",
            " dense_1 (Dense)             (None, 16)                528       \n",
            "                                                                 \n",
            " dense_2 (Dense)             (None, 8)                 136       \n",
            "                                                                 \n",
            " dense_3 (Dense)             (None, 4)                 36        \n",
            "                                                                 \n",
            " dense_4 (Dense)             (None, 1)                 5         \n",
            "                                                                 \n",
            "=================================================================\n",
            "Total params: 1,857\n",
            "Trainable params: 1,857\n",
            "Non-trainable params: 0\n",
            "_________________________________________________________________\n"
          ]
        }
      ]
    },
    {
      "cell_type": "code",
      "source": [
        "model.compile(\n",
        "    loss=tf.keras.losses.BinaryCrossentropy(),\n",
        "    optimizer=tf.keras.optimizers.Adam(learning_rate=0.0001),\n",
        "    metrics=['accuracy']\n",
        ")\n",
        "\n",
        "history = model.fit(X_train, y_train, \n",
        "                        epochs=150, batch_size=32,\n",
        "                        validation_data=(X_val, y_val), \n",
        "                        shuffle=True)"
      ],
      "metadata": {
        "colab": {
          "base_uri": "https://localhost:8080/"
        },
        "id": "CDDbRDHsKwcB",
        "outputId": "7599e83a-8bb7-4c30-eada-a04167d91b73"
      },
      "execution_count": 15,
      "outputs": [
        {
          "output_type": "stream",
          "name": "stdout",
          "text": [
            "Epoch 1/150\n",
            "16/16 [==============================] - 2s 18ms/step - loss: 0.8234 - accuracy: 0.0918 - val_loss: 0.7919 - val_accuracy: 0.2275\n",
            "Epoch 2/150\n",
            "16/16 [==============================] - 0s 5ms/step - loss: 0.8062 - accuracy: 0.1337 - val_loss: 0.7775 - val_accuracy: 0.3114\n",
            "Epoch 3/150\n",
            "16/16 [==============================] - 0s 4ms/step - loss: 0.7906 - accuracy: 0.2475 - val_loss: 0.7643 - val_accuracy: 0.4371\n",
            "Epoch 4/150\n",
            "16/16 [==============================] - 0s 4ms/step - loss: 0.7763 - accuracy: 0.3473 - val_loss: 0.7526 - val_accuracy: 0.5689\n",
            "Epoch 5/150\n",
            "16/16 [==============================] - 0s 5ms/step - loss: 0.7638 - accuracy: 0.4451 - val_loss: 0.7423 - val_accuracy: 0.6228\n",
            "Epoch 6/150\n",
            "16/16 [==============================] - 0s 4ms/step - loss: 0.7527 - accuracy: 0.5110 - val_loss: 0.7331 - val_accuracy: 0.6587\n",
            "Epoch 7/150\n",
            "16/16 [==============================] - 0s 6ms/step - loss: 0.7424 - accuracy: 0.5629 - val_loss: 0.7247 - val_accuracy: 0.7246\n",
            "Epoch 8/150\n",
            "16/16 [==============================] - 0s 4ms/step - loss: 0.7330 - accuracy: 0.6208 - val_loss: 0.7169 - val_accuracy: 0.7425\n",
            "Epoch 9/150\n",
            "16/16 [==============================] - 0s 5ms/step - loss: 0.7243 - accuracy: 0.6786 - val_loss: 0.7092 - val_accuracy: 0.7545\n",
            "Epoch 10/150\n",
            "16/16 [==============================] - 0s 4ms/step - loss: 0.7155 - accuracy: 0.7026 - val_loss: 0.7016 - val_accuracy: 0.7784\n",
            "Epoch 11/150\n",
            "16/16 [==============================] - 0s 5ms/step - loss: 0.7069 - accuracy: 0.7265 - val_loss: 0.6940 - val_accuracy: 0.7844\n",
            "Epoch 12/150\n",
            "16/16 [==============================] - 0s 5ms/step - loss: 0.6986 - accuracy: 0.7385 - val_loss: 0.6867 - val_accuracy: 0.7844\n",
            "Epoch 13/150\n",
            "16/16 [==============================] - 0s 4ms/step - loss: 0.6910 - accuracy: 0.7465 - val_loss: 0.6797 - val_accuracy: 0.7784\n",
            "Epoch 14/150\n",
            "16/16 [==============================] - 0s 5ms/step - loss: 0.6839 - accuracy: 0.7525 - val_loss: 0.6732 - val_accuracy: 0.7844\n",
            "Epoch 15/150\n",
            "16/16 [==============================] - 0s 5ms/step - loss: 0.6774 - accuracy: 0.7605 - val_loss: 0.6673 - val_accuracy: 0.8024\n",
            "Epoch 16/150\n",
            "16/16 [==============================] - 0s 6ms/step - loss: 0.6717 - accuracy: 0.7665 - val_loss: 0.6615 - val_accuracy: 0.8383\n",
            "Epoch 17/150\n",
            "16/16 [==============================] - 0s 6ms/step - loss: 0.6661 - accuracy: 0.8403 - val_loss: 0.6554 - val_accuracy: 0.8802\n",
            "Epoch 18/150\n",
            "16/16 [==============================] - 0s 5ms/step - loss: 0.6599 - accuracy: 0.8942 - val_loss: 0.6490 - val_accuracy: 0.8922\n",
            "Epoch 19/150\n",
            "16/16 [==============================] - 0s 5ms/step - loss: 0.6539 - accuracy: 0.9122 - val_loss: 0.6429 - val_accuracy: 0.9042\n",
            "Epoch 20/150\n",
            "16/16 [==============================] - 0s 5ms/step - loss: 0.6484 - accuracy: 0.9202 - val_loss: 0.6368 - val_accuracy: 0.9222\n",
            "Epoch 21/150\n",
            "16/16 [==============================] - 0s 5ms/step - loss: 0.6426 - accuracy: 0.9261 - val_loss: 0.6307 - val_accuracy: 0.9281\n",
            "Epoch 22/150\n",
            "16/16 [==============================] - 0s 4ms/step - loss: 0.6369 - accuracy: 0.9281 - val_loss: 0.6243 - val_accuracy: 0.9401\n",
            "Epoch 23/150\n",
            "16/16 [==============================] - 0s 5ms/step - loss: 0.6308 - accuracy: 0.9341 - val_loss: 0.6180 - val_accuracy: 0.9401\n",
            "Epoch 24/150\n",
            "16/16 [==============================] - 0s 5ms/step - loss: 0.6248 - accuracy: 0.9381 - val_loss: 0.6115 - val_accuracy: 0.9401\n",
            "Epoch 25/150\n",
            "16/16 [==============================] - 0s 5ms/step - loss: 0.6186 - accuracy: 0.9381 - val_loss: 0.6048 - val_accuracy: 0.9401\n",
            "Epoch 26/150\n",
            "16/16 [==============================] - 0s 5ms/step - loss: 0.6124 - accuracy: 0.9401 - val_loss: 0.5976 - val_accuracy: 0.9401\n",
            "Epoch 27/150\n",
            "16/16 [==============================] - 0s 5ms/step - loss: 0.6059 - accuracy: 0.9381 - val_loss: 0.5904 - val_accuracy: 0.9401\n",
            "Epoch 28/150\n",
            "16/16 [==============================] - 0s 6ms/step - loss: 0.5991 - accuracy: 0.9381 - val_loss: 0.5828 - val_accuracy: 0.9401\n",
            "Epoch 29/150\n",
            "16/16 [==============================] - 0s 6ms/step - loss: 0.5920 - accuracy: 0.9381 - val_loss: 0.5745 - val_accuracy: 0.9401\n",
            "Epoch 30/150\n",
            "16/16 [==============================] - 0s 5ms/step - loss: 0.5840 - accuracy: 0.9381 - val_loss: 0.5653 - val_accuracy: 0.9401\n",
            "Epoch 31/150\n",
            "16/16 [==============================] - 0s 5ms/step - loss: 0.5750 - accuracy: 0.9341 - val_loss: 0.5544 - val_accuracy: 0.9401\n",
            "Epoch 32/150\n",
            "16/16 [==============================] - 0s 5ms/step - loss: 0.5641 - accuracy: 0.9341 - val_loss: 0.5411 - val_accuracy: 0.9401\n",
            "Epoch 33/150\n",
            "16/16 [==============================] - 0s 5ms/step - loss: 0.5515 - accuracy: 0.9361 - val_loss: 0.5258 - val_accuracy: 0.9401\n",
            "Epoch 34/150\n",
            "16/16 [==============================] - 0s 5ms/step - loss: 0.5372 - accuracy: 0.9341 - val_loss: 0.5091 - val_accuracy: 0.9401\n",
            "Epoch 35/150\n",
            "16/16 [==============================] - 0s 5ms/step - loss: 0.5212 - accuracy: 0.9341 - val_loss: 0.4913 - val_accuracy: 0.9401\n",
            "Epoch 36/150\n",
            "16/16 [==============================] - 0s 5ms/step - loss: 0.5041 - accuracy: 0.9361 - val_loss: 0.4730 - val_accuracy: 0.9461\n",
            "Epoch 37/150\n",
            "16/16 [==============================] - 0s 6ms/step - loss: 0.4870 - accuracy: 0.9381 - val_loss: 0.4545 - val_accuracy: 0.9461\n",
            "Epoch 38/150\n",
            "16/16 [==============================] - 0s 5ms/step - loss: 0.4697 - accuracy: 0.9381 - val_loss: 0.4360 - val_accuracy: 0.9461\n",
            "Epoch 39/150\n",
            "16/16 [==============================] - 0s 5ms/step - loss: 0.4506 - accuracy: 0.9381 - val_loss: 0.4144 - val_accuracy: 0.9461\n",
            "Epoch 40/150\n",
            "16/16 [==============================] - 0s 6ms/step - loss: 0.4297 - accuracy: 0.9341 - val_loss: 0.3928 - val_accuracy: 0.9461\n",
            "Epoch 41/150\n",
            "16/16 [==============================] - 0s 4ms/step - loss: 0.4097 - accuracy: 0.9361 - val_loss: 0.3751 - val_accuracy: 0.9461\n",
            "Epoch 42/150\n",
            "16/16 [==============================] - 0s 4ms/step - loss: 0.3933 - accuracy: 0.9361 - val_loss: 0.3589 - val_accuracy: 0.9461\n",
            "Epoch 43/150\n",
            "16/16 [==============================] - 0s 5ms/step - loss: 0.3784 - accuracy: 0.9361 - val_loss: 0.3437 - val_accuracy: 0.9461\n",
            "Epoch 44/150\n",
            "16/16 [==============================] - 0s 5ms/step - loss: 0.3646 - accuracy: 0.9361 - val_loss: 0.3302 - val_accuracy: 0.9461\n",
            "Epoch 45/150\n",
            "16/16 [==============================] - 0s 5ms/step - loss: 0.3522 - accuracy: 0.9361 - val_loss: 0.3179 - val_accuracy: 0.9461\n",
            "Epoch 46/150\n",
            "16/16 [==============================] - 0s 5ms/step - loss: 0.3406 - accuracy: 0.9361 - val_loss: 0.3067 - val_accuracy: 0.9461\n",
            "Epoch 47/150\n",
            "16/16 [==============================] - 0s 5ms/step - loss: 0.3300 - accuracy: 0.9361 - val_loss: 0.2962 - val_accuracy: 0.9461\n",
            "Epoch 48/150\n",
            "16/16 [==============================] - 0s 5ms/step - loss: 0.3206 - accuracy: 0.9361 - val_loss: 0.2861 - val_accuracy: 0.9461\n",
            "Epoch 49/150\n",
            "16/16 [==============================] - 0s 5ms/step - loss: 0.3111 - accuracy: 0.9361 - val_loss: 0.2776 - val_accuracy: 0.9461\n",
            "Epoch 50/150\n",
            "16/16 [==============================] - 0s 6ms/step - loss: 0.3030 - accuracy: 0.9361 - val_loss: 0.2690 - val_accuracy: 0.9461\n",
            "Epoch 51/150\n",
            "16/16 [==============================] - 0s 5ms/step - loss: 0.2950 - accuracy: 0.9361 - val_loss: 0.2616 - val_accuracy: 0.9461\n",
            "Epoch 52/150\n",
            "16/16 [==============================] - 0s 4ms/step - loss: 0.2877 - accuracy: 0.9361 - val_loss: 0.2545 - val_accuracy: 0.9461\n",
            "Epoch 53/150\n",
            "16/16 [==============================] - 0s 5ms/step - loss: 0.2809 - accuracy: 0.9361 - val_loss: 0.2477 - val_accuracy: 0.9461\n",
            "Epoch 54/150\n",
            "16/16 [==============================] - 0s 5ms/step - loss: 0.2745 - accuracy: 0.9361 - val_loss: 0.2415 - val_accuracy: 0.9461\n",
            "Epoch 55/150\n",
            "16/16 [==============================] - 0s 5ms/step - loss: 0.2685 - accuracy: 0.9361 - val_loss: 0.2358 - val_accuracy: 0.9461\n",
            "Epoch 56/150\n",
            "16/16 [==============================] - 0s 5ms/step - loss: 0.2630 - accuracy: 0.9361 - val_loss: 0.2306 - val_accuracy: 0.9461\n",
            "Epoch 57/150\n",
            "16/16 [==============================] - 0s 4ms/step - loss: 0.2578 - accuracy: 0.9361 - val_loss: 0.2256 - val_accuracy: 0.9461\n",
            "Epoch 58/150\n",
            "16/16 [==============================] - 0s 5ms/step - loss: 0.2529 - accuracy: 0.9361 - val_loss: 0.2209 - val_accuracy: 0.9461\n",
            "Epoch 59/150\n",
            "16/16 [==============================] - 0s 6ms/step - loss: 0.2482 - accuracy: 0.9361 - val_loss: 0.2166 - val_accuracy: 0.9461\n",
            "Epoch 60/150\n",
            "16/16 [==============================] - 0s 5ms/step - loss: 0.2437 - accuracy: 0.9361 - val_loss: 0.2126 - val_accuracy: 0.9461\n",
            "Epoch 61/150\n",
            "16/16 [==============================] - 0s 6ms/step - loss: 0.2394 - accuracy: 0.9361 - val_loss: 0.2085 - val_accuracy: 0.9461\n",
            "Epoch 62/150\n",
            "16/16 [==============================] - 0s 5ms/step - loss: 0.2353 - accuracy: 0.9361 - val_loss: 0.2045 - val_accuracy: 0.9461\n",
            "Epoch 63/150\n",
            "16/16 [==============================] - 0s 6ms/step - loss: 0.2312 - accuracy: 0.9361 - val_loss: 0.2009 - val_accuracy: 0.9461\n",
            "Epoch 64/150\n",
            "16/16 [==============================] - 0s 4ms/step - loss: 0.2275 - accuracy: 0.9361 - val_loss: 0.1973 - val_accuracy: 0.9461\n",
            "Epoch 65/150\n",
            "16/16 [==============================] - 0s 6ms/step - loss: 0.2238 - accuracy: 0.9361 - val_loss: 0.1940 - val_accuracy: 0.9461\n",
            "Epoch 66/150\n",
            "16/16 [==============================] - 0s 5ms/step - loss: 0.2203 - accuracy: 0.9361 - val_loss: 0.1908 - val_accuracy: 0.9461\n",
            "Epoch 67/150\n",
            "16/16 [==============================] - 0s 5ms/step - loss: 0.2169 - accuracy: 0.9361 - val_loss: 0.1877 - val_accuracy: 0.9461\n",
            "Epoch 68/150\n",
            "16/16 [==============================] - 0s 5ms/step - loss: 0.2137 - accuracy: 0.9361 - val_loss: 0.1849 - val_accuracy: 0.9461\n",
            "Epoch 69/150\n",
            "16/16 [==============================] - 0s 5ms/step - loss: 0.2106 - accuracy: 0.9361 - val_loss: 0.1819 - val_accuracy: 0.9461\n",
            "Epoch 70/150\n",
            "16/16 [==============================] - 0s 5ms/step - loss: 0.2075 - accuracy: 0.9381 - val_loss: 0.1792 - val_accuracy: 0.9461\n",
            "Epoch 71/150\n",
            "16/16 [==============================] - 0s 5ms/step - loss: 0.2044 - accuracy: 0.9381 - val_loss: 0.1768 - val_accuracy: 0.9461\n",
            "Epoch 72/150\n",
            "16/16 [==============================] - 0s 5ms/step - loss: 0.2016 - accuracy: 0.9381 - val_loss: 0.1742 - val_accuracy: 0.9461\n",
            "Epoch 73/150\n",
            "16/16 [==============================] - 0s 5ms/step - loss: 0.1986 - accuracy: 0.9361 - val_loss: 0.1716 - val_accuracy: 0.9461\n",
            "Epoch 74/150\n",
            "16/16 [==============================] - 0s 5ms/step - loss: 0.1957 - accuracy: 0.9381 - val_loss: 0.1692 - val_accuracy: 0.9461\n",
            "Epoch 75/150\n",
            "16/16 [==============================] - 0s 5ms/step - loss: 0.1931 - accuracy: 0.9381 - val_loss: 0.1669 - val_accuracy: 0.9461\n",
            "Epoch 76/150\n",
            "16/16 [==============================] - 0s 5ms/step - loss: 0.1904 - accuracy: 0.9401 - val_loss: 0.1646 - val_accuracy: 0.9461\n",
            "Epoch 77/150\n",
            "16/16 [==============================] - 0s 5ms/step - loss: 0.1877 - accuracy: 0.9421 - val_loss: 0.1624 - val_accuracy: 0.9461\n",
            "Epoch 78/150\n",
            "16/16 [==============================] - 0s 4ms/step - loss: 0.1853 - accuracy: 0.9401 - val_loss: 0.1602 - val_accuracy: 0.9461\n",
            "Epoch 79/150\n",
            "16/16 [==============================] - 0s 5ms/step - loss: 0.1829 - accuracy: 0.9401 - val_loss: 0.1579 - val_accuracy: 0.9461\n",
            "Epoch 80/150\n",
            "16/16 [==============================] - 0s 4ms/step - loss: 0.1805 - accuracy: 0.9421 - val_loss: 0.1560 - val_accuracy: 0.9461\n",
            "Epoch 81/150\n",
            "16/16 [==============================] - 0s 5ms/step - loss: 0.1783 - accuracy: 0.9441 - val_loss: 0.1539 - val_accuracy: 0.9461\n",
            "Epoch 82/150\n",
            "16/16 [==============================] - 0s 7ms/step - loss: 0.1760 - accuracy: 0.9441 - val_loss: 0.1518 - val_accuracy: 0.9461\n",
            "Epoch 83/150\n",
            "16/16 [==============================] - 0s 7ms/step - loss: 0.1738 - accuracy: 0.9441 - val_loss: 0.1497 - val_accuracy: 0.9461\n",
            "Epoch 84/150\n",
            "16/16 [==============================] - 0s 7ms/step - loss: 0.1717 - accuracy: 0.9441 - val_loss: 0.1476 - val_accuracy: 0.9461\n",
            "Epoch 85/150\n",
            "16/16 [==============================] - 0s 9ms/step - loss: 0.1694 - accuracy: 0.9421 - val_loss: 0.1457 - val_accuracy: 0.9461\n",
            "Epoch 86/150\n",
            "16/16 [==============================] - 0s 7ms/step - loss: 0.1673 - accuracy: 0.9461 - val_loss: 0.1438 - val_accuracy: 0.9461\n",
            "Epoch 87/150\n",
            "16/16 [==============================] - 0s 6ms/step - loss: 0.1651 - accuracy: 0.9501 - val_loss: 0.1420 - val_accuracy: 0.9521\n",
            "Epoch 88/150\n",
            "16/16 [==============================] - 0s 6ms/step - loss: 0.1632 - accuracy: 0.9561 - val_loss: 0.1402 - val_accuracy: 0.9521\n",
            "Epoch 89/150\n",
            "16/16 [==============================] - 0s 6ms/step - loss: 0.1614 - accuracy: 0.9581 - val_loss: 0.1387 - val_accuracy: 0.9521\n",
            "Epoch 90/150\n",
            "16/16 [==============================] - 0s 7ms/step - loss: 0.1596 - accuracy: 0.9601 - val_loss: 0.1373 - val_accuracy: 0.9521\n",
            "Epoch 91/150\n",
            "16/16 [==============================] - 0s 8ms/step - loss: 0.1580 - accuracy: 0.9601 - val_loss: 0.1359 - val_accuracy: 0.9521\n",
            "Epoch 92/150\n",
            "16/16 [==============================] - 0s 7ms/step - loss: 0.1563 - accuracy: 0.9601 - val_loss: 0.1347 - val_accuracy: 0.9521\n",
            "Epoch 93/150\n",
            "16/16 [==============================] - 0s 6ms/step - loss: 0.1548 - accuracy: 0.9601 - val_loss: 0.1337 - val_accuracy: 0.9521\n",
            "Epoch 94/150\n",
            "16/16 [==============================] - 0s 8ms/step - loss: 0.1533 - accuracy: 0.9601 - val_loss: 0.1323 - val_accuracy: 0.9521\n",
            "Epoch 95/150\n",
            "16/16 [==============================] - 0s 6ms/step - loss: 0.1518 - accuracy: 0.9581 - val_loss: 0.1313 - val_accuracy: 0.9521\n",
            "Epoch 96/150\n",
            "16/16 [==============================] - 0s 6ms/step - loss: 0.1504 - accuracy: 0.9581 - val_loss: 0.1302 - val_accuracy: 0.9521\n",
            "Epoch 97/150\n",
            "16/16 [==============================] - 0s 6ms/step - loss: 0.1490 - accuracy: 0.9581 - val_loss: 0.1291 - val_accuracy: 0.9521\n",
            "Epoch 98/150\n",
            "16/16 [==============================] - 0s 6ms/step - loss: 0.1476 - accuracy: 0.9581 - val_loss: 0.1280 - val_accuracy: 0.9521\n",
            "Epoch 99/150\n",
            "16/16 [==============================] - 0s 7ms/step - loss: 0.1462 - accuracy: 0.9581 - val_loss: 0.1269 - val_accuracy: 0.9581\n",
            "Epoch 100/150\n",
            "16/16 [==============================] - 0s 7ms/step - loss: 0.1449 - accuracy: 0.9581 - val_loss: 0.1256 - val_accuracy: 0.9581\n",
            "Epoch 101/150\n",
            "16/16 [==============================] - 0s 7ms/step - loss: 0.1434 - accuracy: 0.9581 - val_loss: 0.1246 - val_accuracy: 0.9581\n",
            "Epoch 102/150\n",
            "16/16 [==============================] - 0s 6ms/step - loss: 0.1421 - accuracy: 0.9581 - val_loss: 0.1233 - val_accuracy: 0.9581\n",
            "Epoch 103/150\n",
            "16/16 [==============================] - 0s 6ms/step - loss: 0.1407 - accuracy: 0.9601 - val_loss: 0.1223 - val_accuracy: 0.9581\n",
            "Epoch 104/150\n",
            "16/16 [==============================] - 0s 7ms/step - loss: 0.1393 - accuracy: 0.9601 - val_loss: 0.1211 - val_accuracy: 0.9641\n",
            "Epoch 105/150\n",
            "16/16 [==============================] - 0s 6ms/step - loss: 0.1378 - accuracy: 0.9601 - val_loss: 0.1200 - val_accuracy: 0.9641\n",
            "Epoch 106/150\n",
            "16/16 [==============================] - 0s 7ms/step - loss: 0.1365 - accuracy: 0.9601 - val_loss: 0.1189 - val_accuracy: 0.9641\n",
            "Epoch 107/150\n",
            "16/16 [==============================] - 0s 7ms/step - loss: 0.1351 - accuracy: 0.9601 - val_loss: 0.1178 - val_accuracy: 0.9641\n",
            "Epoch 108/150\n",
            "16/16 [==============================] - 0s 7ms/step - loss: 0.1337 - accuracy: 0.9601 - val_loss: 0.1169 - val_accuracy: 0.9641\n",
            "Epoch 109/150\n",
            "16/16 [==============================] - 0s 6ms/step - loss: 0.1324 - accuracy: 0.9621 - val_loss: 0.1160 - val_accuracy: 0.9641\n",
            "Epoch 110/150\n",
            "16/16 [==============================] - 0s 6ms/step - loss: 0.1312 - accuracy: 0.9621 - val_loss: 0.1150 - val_accuracy: 0.9641\n",
            "Epoch 111/150\n",
            "16/16 [==============================] - 0s 6ms/step - loss: 0.1299 - accuracy: 0.9621 - val_loss: 0.1141 - val_accuracy: 0.9641\n",
            "Epoch 112/150\n",
            "16/16 [==============================] - 0s 6ms/step - loss: 0.1286 - accuracy: 0.9621 - val_loss: 0.1131 - val_accuracy: 0.9641\n",
            "Epoch 113/150\n",
            "16/16 [==============================] - 0s 6ms/step - loss: 0.1274 - accuracy: 0.9621 - val_loss: 0.1123 - val_accuracy: 0.9641\n",
            "Epoch 114/150\n",
            "16/16 [==============================] - 0s 7ms/step - loss: 0.1262 - accuracy: 0.9621 - val_loss: 0.1115 - val_accuracy: 0.9641\n",
            "Epoch 115/150\n",
            "16/16 [==============================] - 0s 7ms/step - loss: 0.1250 - accuracy: 0.9621 - val_loss: 0.1107 - val_accuracy: 0.9641\n",
            "Epoch 116/150\n",
            "16/16 [==============================] - 0s 6ms/step - loss: 0.1239 - accuracy: 0.9621 - val_loss: 0.1102 - val_accuracy: 0.9641\n",
            "Epoch 117/150\n",
            "16/16 [==============================] - 0s 9ms/step - loss: 0.1228 - accuracy: 0.9621 - val_loss: 0.1095 - val_accuracy: 0.9701\n",
            "Epoch 118/150\n",
            "16/16 [==============================] - 0s 6ms/step - loss: 0.1217 - accuracy: 0.9621 - val_loss: 0.1087 - val_accuracy: 0.9641\n",
            "Epoch 119/150\n",
            "16/16 [==============================] - 0s 7ms/step - loss: 0.1205 - accuracy: 0.9621 - val_loss: 0.1080 - val_accuracy: 0.9641\n",
            "Epoch 120/150\n",
            "16/16 [==============================] - 0s 7ms/step - loss: 0.1193 - accuracy: 0.9641 - val_loss: 0.1075 - val_accuracy: 0.9641\n",
            "Epoch 121/150\n",
            "16/16 [==============================] - 0s 8ms/step - loss: 0.1181 - accuracy: 0.9641 - val_loss: 0.1069 - val_accuracy: 0.9641\n",
            "Epoch 122/150\n",
            "16/16 [==============================] - 0s 7ms/step - loss: 0.1170 - accuracy: 0.9641 - val_loss: 0.1065 - val_accuracy: 0.9701\n",
            "Epoch 123/150\n",
            "16/16 [==============================] - 0s 5ms/step - loss: 0.1160 - accuracy: 0.9641 - val_loss: 0.1058 - val_accuracy: 0.9701\n",
            "Epoch 124/150\n",
            "16/16 [==============================] - 0s 4ms/step - loss: 0.1149 - accuracy: 0.9641 - val_loss: 0.1053 - val_accuracy: 0.9701\n",
            "Epoch 125/150\n",
            "16/16 [==============================] - 0s 5ms/step - loss: 0.1140 - accuracy: 0.9641 - val_loss: 0.1048 - val_accuracy: 0.9701\n",
            "Epoch 126/150\n",
            "16/16 [==============================] - 0s 6ms/step - loss: 0.1129 - accuracy: 0.9641 - val_loss: 0.1042 - val_accuracy: 0.9701\n",
            "Epoch 127/150\n",
            "16/16 [==============================] - 0s 5ms/step - loss: 0.1119 - accuracy: 0.9661 - val_loss: 0.1039 - val_accuracy: 0.9701\n",
            "Epoch 128/150\n",
            "16/16 [==============================] - 0s 5ms/step - loss: 0.1110 - accuracy: 0.9661 - val_loss: 0.1034 - val_accuracy: 0.9701\n",
            "Epoch 129/150\n",
            "16/16 [==============================] - 0s 5ms/step - loss: 0.1101 - accuracy: 0.9661 - val_loss: 0.1029 - val_accuracy: 0.9701\n",
            "Epoch 130/150\n",
            "16/16 [==============================] - 0s 5ms/step - loss: 0.1091 - accuracy: 0.9661 - val_loss: 0.1027 - val_accuracy: 0.9701\n",
            "Epoch 131/150\n",
            "16/16 [==============================] - 0s 5ms/step - loss: 0.1084 - accuracy: 0.9661 - val_loss: 0.1024 - val_accuracy: 0.9641\n",
            "Epoch 132/150\n",
            "16/16 [==============================] - 0s 5ms/step - loss: 0.1075 - accuracy: 0.9661 - val_loss: 0.1022 - val_accuracy: 0.9701\n",
            "Epoch 133/150\n",
            "16/16 [==============================] - 0s 4ms/step - loss: 0.1068 - accuracy: 0.9661 - val_loss: 0.1020 - val_accuracy: 0.9701\n",
            "Epoch 134/150\n",
            "16/16 [==============================] - 0s 5ms/step - loss: 0.1061 - accuracy: 0.9661 - val_loss: 0.1017 - val_accuracy: 0.9701\n",
            "Epoch 135/150\n",
            "16/16 [==============================] - 0s 6ms/step - loss: 0.1054 - accuracy: 0.9661 - val_loss: 0.1015 - val_accuracy: 0.9701\n",
            "Epoch 136/150\n",
            "16/16 [==============================] - 0s 4ms/step - loss: 0.1048 - accuracy: 0.9661 - val_loss: 0.1015 - val_accuracy: 0.9701\n",
            "Epoch 137/150\n",
            "16/16 [==============================] - 0s 5ms/step - loss: 0.1043 - accuracy: 0.9661 - val_loss: 0.1014 - val_accuracy: 0.9701\n",
            "Epoch 138/150\n",
            "16/16 [==============================] - 0s 5ms/step - loss: 0.1036 - accuracy: 0.9661 - val_loss: 0.1012 - val_accuracy: 0.9701\n",
            "Epoch 139/150\n",
            "16/16 [==============================] - 0s 4ms/step - loss: 0.1031 - accuracy: 0.9661 - val_loss: 0.1010 - val_accuracy: 0.9701\n",
            "Epoch 140/150\n",
            "16/16 [==============================] - 0s 5ms/step - loss: 0.1025 - accuracy: 0.9661 - val_loss: 0.1009 - val_accuracy: 0.9701\n",
            "Epoch 141/150\n",
            "16/16 [==============================] - 0s 4ms/step - loss: 0.1018 - accuracy: 0.9661 - val_loss: 0.1008 - val_accuracy: 0.9701\n",
            "Epoch 142/150\n",
            "16/16 [==============================] - 0s 4ms/step - loss: 0.1013 - accuracy: 0.9661 - val_loss: 0.1008 - val_accuracy: 0.9701\n",
            "Epoch 143/150\n",
            "16/16 [==============================] - 0s 4ms/step - loss: 0.1008 - accuracy: 0.9661 - val_loss: 0.1007 - val_accuracy: 0.9701\n",
            "Epoch 144/150\n",
            "16/16 [==============================] - 0s 5ms/step - loss: 0.1003 - accuracy: 0.9661 - val_loss: 0.1006 - val_accuracy: 0.9701\n",
            "Epoch 145/150\n",
            "16/16 [==============================] - 0s 4ms/step - loss: 0.0998 - accuracy: 0.9661 - val_loss: 0.1005 - val_accuracy: 0.9701\n",
            "Epoch 146/150\n",
            "16/16 [==============================] - 0s 5ms/step - loss: 0.0993 - accuracy: 0.9661 - val_loss: 0.1006 - val_accuracy: 0.9701\n",
            "Epoch 147/150\n",
            "16/16 [==============================] - 0s 6ms/step - loss: 0.0988 - accuracy: 0.9661 - val_loss: 0.1005 - val_accuracy: 0.9701\n",
            "Epoch 148/150\n",
            "16/16 [==============================] - 0s 5ms/step - loss: 0.0984 - accuracy: 0.9661 - val_loss: 0.1006 - val_accuracy: 0.9701\n",
            "Epoch 149/150\n",
            "16/16 [==============================] - 0s 6ms/step - loss: 0.0980 - accuracy: 0.9661 - val_loss: 0.1005 - val_accuracy: 0.9701\n",
            "Epoch 150/150\n",
            "16/16 [==============================] - 0s 5ms/step - loss: 0.0975 - accuracy: 0.9661 - val_loss: 0.1004 - val_accuracy: 0.9701\n"
          ]
        }
      ]
    },
    {
      "cell_type": "code",
      "source": [
        "plt.plot(history.history['accuracy'], label='Train')\n",
        "plt.plot(history.history['val_accuracy'], label='Validation')\n",
        "plt.ylabel('Accuracy')\n",
        "plt.xlabel('Epoch')\n",
        "plt.title('Model Accuracy')\n",
        "plt.legend(loc='upper left')"
      ],
      "metadata": {
        "colab": {
          "base_uri": "https://localhost:8080/",
          "height": 489
        },
        "id": "98OiyIXfMscl",
        "outputId": "e19651b1-4026-453b-e58b-37d63f133397"
      },
      "execution_count": 16,
      "outputs": [
        {
          "output_type": "execute_result",
          "data": {
            "text/plain": [
              "<matplotlib.legend.Legend at 0x7f6424ceebf0>"
            ]
          },
          "metadata": {},
          "execution_count": 16
        },
        {
          "output_type": "display_data",
          "data": {
            "text/plain": [
              "<Figure size 640x480 with 1 Axes>"
            ],
            "image/png": "[encoded data removed]"
          },
          "metadata": {}
        }
      ]
    },
    {
      "cell_type": "code",
      "source": [
        "plt.plot(history.history['loss'], label='Train')\n",
        "plt.plot(history.history['val_loss'], label='Validation')\n",
        "plt.ylabel('Loss')\n",
        "plt.xlabel('Epoch')\n",
        "plt.title('Model Loss')\n",
        "plt.legend(loc='upper right')"
      ],
      "metadata": {
        "colab": {
          "base_uri": "https://localhost:8080/",
          "height": 489
        },
        "id": "1-jQ2D1_MvuP",
        "outputId": "7a2e56f6-92c8-430a-aed2-1cf9a37d1318"
      },
      "execution_count": 17,
      "outputs": [
        {
          "output_type": "execute_result",
          "data": {
            "text/plain": [
              "<matplotlib.legend.Legend at 0x7f64241bc580>"
            ]
          },
          "metadata": {},
          "execution_count": 17
        },
        {
          "output_type": "display_data",
          "data": {
            "text/plain": [
              "<Figure size 640x480 with 1 Axes>"
            ],
            "image/png": "[encoded data removed]"
          },
          "metadata": {}
        }
      ]
    },
    {
      "cell_type": "code",
      "source": [
        "test_loss, test_acc = model.evaluate(X_test, y_test)\n",
        "print(\"Test loss:\", test_loss)\n",
        "print(\"Test accuracy:\", test_acc)"
      ],
      "metadata": {
        "colab": {
          "base_uri": "https://localhost:8080/"
        },
        "id": "zvQEZe_pMyNM",
        "outputId": "1e884731-a41c-46fa-e69f-b55be4406f94"
      },
      "execution_count": 18,
      "outputs": [
        {
          "output_type": "stream",
          "name": "stdout",
          "text": [
            "6/6 [==============================] - 0s 3ms/step - loss: 0.0913 - accuracy: 0.9581\n",
            "Test loss: 0.09128160774707794\n",
            "Test accuracy: 0.9580838084220886\n"
          ]
        }
      ]
    },
    {
      "cell_type": "code",
      "source": [
        "prediction = model.predict(X_test)"
      ],
      "metadata": {
        "colab": {
          "base_uri": "https://localhost:8080/"
        },
        "id": "ANvrI_WIOmxp",
        "outputId": "817decdf-f729-4600-d8a2-e54f5d72dd79"
      },
      "execution_count": 19,
      "outputs": [
        {
          "output_type": "stream",
          "name": "stdout",
          "text": [
            "6/6 [==============================] - 0s 2ms/step\n"
          ]
        }
      ]
    },
    {
      "cell_type": "code",
      "source": [
        "data_ans = pd.DataFrame({'Biopsy' :y_test})\n",
        "data_ans['Prediction'] = np.round_(prediction)"
      ],
      "metadata": {
        "id": "wiLxCL_3PDe0"
      },
      "execution_count": 20,
      "outputs": []
    },
    {
      "cell_type": "code",
      "source": [
        "data_ans"
      ],
      "metadata": {
        "colab": {
          "base_uri": "https://localhost:8080/",
          "height": 424
        },
        "id": "Hn0zPIlePIuh",
        "outputId": "99bc106c-a0f6-4dd9-e033-85189ba5f662"
      },
      "execution_count": 21,
      "outputs": [
        {
          "output_type": "execute_result",
          "data": {
            "text/plain": [
              "     Biopsy  Prediction\n",
              "631       0         0.0\n",
              "845       0         0.0\n",
              "293       0         0.0\n",
              "823       0         0.0\n",
              "169       0         0.0\n",
              "..      ...         ...\n",
              "193       0         0.0\n",
              "674       0         0.0\n",
              "470       0         0.0\n",
              "800       0         0.0\n",
              "550       0         0.0\n",
              "\n",
              "[167 rows x 2 columns]"
            ],
            "text/html": [
              "\n",
              "  <div id=\"df-992a4f0f-e350-4d87-8d69-6fbbb38b6588\">\n",
              "    <div class=\"colab-df-container\">\n",
              "      <div>\n",
              "<style scoped>\n",
              "    .dataframe tbody tr th:only-of-type {\n",
              "        vertical-align: middle;\n",
              "    }\n",
              "\n",
              "    .dataframe tbody tr th {\n",
              "        vertical-align: top;\n",
              "    }\n",
              "\n",
              "    .dataframe thead th {\n",
              "        text-align: right;\n",
              "    }\n",
              "</style>\n",
              "<table border=\"1\" class=\"dataframe\">\n",
              "  <thead>\n",
              "    <tr style=\"text-align: right;\">\n",
              "      <th></th>\n",
              "      <th>Biopsy</th>\n",
              "      <th>Prediction</th>\n",
              "    </tr>\n",
              "  </thead>\n",
              "  <tbody>\n",
              "    <tr>\n",
              "      <th>631</th>\n",
              "      <td>0</td>\n",
              "      <td>0.0</td>\n",
              "    </tr>\n",
              "    <tr>\n",
              "      <th>845</th>\n",
              "      <td>0</td>\n",
              "      <td>0.0</td>\n",
              "    </tr>\n",
              "    <tr>\n",
              "      <th>293</th>\n",
              "      <td>0</td>\n",
              "      <td>0.0</td>\n",
              "    </tr>\n",
              "    <tr>\n",
              "      <th>823</th>\n",
              "      <td>0</td>\n",
              "      <td>0.0</td>\n",
              "    </tr>\n",
              "    <tr>\n",
              "      <th>169</th>\n",
              "      <td>0</td>\n",
              "      <td>0.0</td>\n",
              "    </tr>\n",
              "    <tr>\n",
              "      <th>...</th>\n",
              "      <td>...</td>\n",
              "      <td>...</td>\n",
              "    </tr>\n",
              "    <tr>\n",
              "      <th>193</th>\n",
              "      <td>0</td>\n",
              "      <td>0.0</td>\n",
              "    </tr>\n",
              "    <tr>\n",
              "      <th>674</th>\n",
              "      <td>0</td>\n",
              "      <td>0.0</td>\n",
              "    </tr>\n",
              "    <tr>\n",
              "      <th>470</th>\n",
              "      <td>0</td>\n",
              "      <td>0.0</td>\n",
              "    </tr>\n",
              "    <tr>\n",
              "      <th>800</th>\n",
              "      <td>0</td>\n",
              "      <td>0.0</td>\n",
              "    </tr>\n",
              "    <tr>\n",
              "      <th>550</th>\n",
              "      <td>0</td>\n",
              "      <td>0.0</td>\n",
              "    </tr>\n",
              "  </tbody>\n",
              "</table>\n",
              "<p>167 rows × 2 columns</p>\n",
              "</div>\n",
              "      <button class=\"colab-df-convert\" onclick=\"convertToInteractive('df-992a4f0f-e350-4d87-8d69-6fbbb38b6588')\"\n",
              "              title=\"Convert this dataframe to an interactive table.\"\n",
              "              style=\"display:none;\">\n",
              "        \n",
              "  <svg xmlns=\"http://www.w3.org/2000/svg\" height=\"24px\"viewBox=\"0 0 24 24\"\n",
              "       width=\"24px\">\n",
              "    <path d=\"M0 0h24v24H0V0z\" fill=\"none\"/>\n",
              "    <path d=\"M18.56 5.44l.94 2.06.94-2.06 2.06-.94-2.06-.94-.94-2.06-.94 2.06-2.06.94zm-11 1L8.5 8.5l.94-2.06 2.06-.94-2.06-.94L8.5 2.5l-.94 2.06-2.06.94zm10 10l.94 2.06.94-2.06 2.06-.94-2.06-.94-.94-2.06-.94 2.06-2.06.94z\"/><path d=\"M17.41 7.96l-1.37-1.37c-.4-.4-.92-.59-1.43-.59-.52 0-1.04.2-1.43.59L10.3 9.45l-7.72 7.72c-.78.78-.78 2.05 0 2.83L4 21.41c.39.39.9.59 1.41.59.51 0 1.02-.2 1.41-.59l7.78-7.78 2.81-2.81c.8-.78.8-2.07 0-2.86zM5.41 20L4 18.59l7.72-7.72 1.47 1.35L5.41 20z\"/>\n",
              "  </svg>\n",
              "      </button>\n",
              "      \n",
              "  <style>\n",
              "    .colab-df-container {\n",
              "      display:flex;\n",
              "      flex-wrap:wrap;\n",
              "      gap: 12px;\n",
              "    }\n",
              "\n",
              "    .colab-df-convert {\n",
              "      background-color: #E8F0FE;\n",
              "      border: none;\n",
              "      border-radius: 50%;\n",
              "      cursor: pointer;\n",
              "      display: none;\n",
              "      fill: #1967D2;\n",
              "      height: 32px;\n",
              "      padding: 0 0 0 0;\n",
              "      width: 32px;\n",
              "    }\n",
              "\n",
              "    .colab-df-convert:hover {\n",
              "      background-color: #E2EBFA;\n",
              "      box-shadow: 0px 1px 2px rgba(60, 64, 67, 0.3), 0px 1px 3px 1px rgba(60, 64, 67, 0.15);\n",
              "      fill: #174EA6;\n",
              "    }\n",
              "\n",
              "    [theme=dark] .colab-df-convert {\n",
              "      background-color: #3B4455;\n",
              "      fill: #D2E3FC;\n",
              "    }\n",
              "\n",
              "    [theme=dark] .colab-df-convert:hover {\n",
              "      background-color: #434B5C;\n",
              "      box-shadow: 0px 1px 3px 1px rgba(0, 0, 0, 0.15);\n",
              "      filter: drop-shadow(0px 1px 2px rgba(0, 0, 0, 0.3));\n",
              "      fill: #FFFFFF;\n",
              "    }\n",
              "  </style>\n",
              "\n",
              "      <script>\n",
              "        const buttonEl =\n",
              "          document.querySelector('#df-992a4f0f-e350-4d87-8d69-6fbbb38b6588 button.colab-df-convert');\n",
              "        buttonEl.style.display =\n",
              "          google.colab.kernel.accessAllowed ? 'block' : 'none';\n",
              "\n",
              "        async function convertToInteractive(key) {\n",
              "          const element = document.querySelector('#df-992a4f0f-e350-4d87-8d69-6fbbb38b6588');\n",
              "          const dataTable =\n",
              "            await google.colab.kernel.invokeFunction('convertToInteractive',\n",
              "                                                     [key], {});\n",
              "          if (!dataTable) return;\n",
              "\n",
              "          const docLinkHtml = 'Like what you see? Visit the ' +\n",
              "            '<a target=\"_blank\" href=https://colab.research.google.com/notebooks/data_table.ipynb>data table notebook</a>'\n",
              "            + ' to learn more about interactive tables.';\n",
              "          element.innerHTML = '';\n",
              "          dataTable['output_type'] = 'display_data';\n",
              "          await google.colab.output.renderOutput(dataTable, element);\n",
              "          const docLink = document.createElement('div');\n",
              "          docLink.innerHTML = docLinkHtml;\n",
              "          element.appendChild(docLink);\n",
              "        }\n",
              "      </script>\n",
              "    </div>\n",
              "  </div>\n",
              "  "
            ]
          },
          "metadata": {},
          "execution_count": 21
        }
      ]
    },
    {
      "cell_type": "code",
      "source": [
        "data_ans[data_ans['Biopsy'] != data_ans['Prediction']]"
      ],
      "metadata": {
        "colab": {
          "base_uri": "https://localhost:8080/",
          "height": 269
        },
        "id": "fpNcD1lnPYrg",
        "outputId": "b29a4fb7-9f3e-421c-9429-a535bc514a3b"
      },
      "execution_count": 22,
      "outputs": [
        {
          "output_type": "execute_result",
          "data": {
            "text/plain": [
              "     Biopsy  Prediction\n",
              "646       0         1.0\n",
              "644       0         1.0\n",
              "686       1         0.0\n",
              "434       1         0.0\n",
              "750       0         1.0\n",
              "688       1         0.0\n",
              "693       1         0.0"
            ],
            "text/html": [
              "\n",
              "  <div id=\"df-58fc1c4e-9d9a-4079-a252-3e0c3a5d5b85\">\n",
              "    <div class=\"colab-df-container\">\n",
              "      <div>\n",
              "<style scoped>\n",
              "    .dataframe tbody tr th:only-of-type {\n",
              "        vertical-align: middle;\n",
              "    }\n",
              "\n",
              "    .dataframe tbody tr th {\n",
              "        vertical-align: top;\n",
              "    }\n",
              "\n",
              "    .dataframe thead th {\n",
              "        text-align: right;\n",
              "    }\n",
              "</style>\n",
              "<table border=\"1\" class=\"dataframe\">\n",
              "  <thead>\n",
              "    <tr style=\"text-align: right;\">\n",
              "      <th></th>\n",
              "      <th>Biopsy</th>\n",
              "      <th>Prediction</th>\n",
              "    </tr>\n",
              "  </thead>\n",
              "  <tbody>\n",
              "    <tr>\n",
              "      <th>646</th>\n",
              "      <td>0</td>\n",
              "      <td>1.0</td>\n",
              "    </tr>\n",
              "    <tr>\n",
              "      <th>644</th>\n",
              "      <td>0</td>\n",
              "      <td>1.0</td>\n",
              "    </tr>\n",
              "    <tr>\n",
              "      <th>686</th>\n",
              "      <td>1</td>\n",
              "      <td>0.0</td>\n",
              "    </tr>\n",
              "    <tr>\n",
              "      <th>434</th>\n",
              "      <td>1</td>\n",
              "      <td>0.0</td>\n",
              "    </tr>\n",
              "    <tr>\n",
              "      <th>750</th>\n",
              "      <td>0</td>\n",
              "      <td>1.0</td>\n",
              "    </tr>\n",
              "    <tr>\n",
              "      <th>688</th>\n",
              "      <td>1</td>\n",
              "      <td>0.0</td>\n",
              "    </tr>\n",
              "    <tr>\n",
              "      <th>693</th>\n",
              "      <td>1</td>\n",
              "      <td>0.0</td>\n",
              "    </tr>\n",
              "  </tbody>\n",
              "</table>\n",
              "</div>\n",
              "      <button class=\"colab-df-convert\" onclick=\"convertToInteractive('df-58fc1c4e-9d9a-4079-a252-3e0c3a5d5b85')\"\n",
              "              title=\"Convert this dataframe to an interactive table.\"\n",
              "              style=\"display:none;\">\n",
              "        \n",
              "  <svg xmlns=\"http://www.w3.org/2000/svg\" height=\"24px\"viewBox=\"0 0 24 24\"\n",
              "       width=\"24px\">\n",
              "    <path d=\"M0 0h24v24H0V0z\" fill=\"none\"/>\n",
              "    <path d=\"M18.56 5.44l.94 2.06.94-2.06 2.06-.94-2.06-.94-.94-2.06-.94 2.06-2.06.94zm-11 1L8.5 8.5l.94-2.06 2.06-.94-2.06-.94L8.5 2.5l-.94 2.06-2.06.94zm10 10l.94 2.06.94-2.06 2.06-.94-2.06-.94-.94-2.06-.94 2.06-2.06.94z\"/><path d=\"M17.41 7.96l-1.37-1.37c-.4-.4-.92-.59-1.43-.59-.52 0-1.04.2-1.43.59L10.3 9.45l-7.72 7.72c-.78.78-.78 2.05 0 2.83L4 21.41c.39.39.9.59 1.41.59.51 0 1.02-.2 1.41-.59l7.78-7.78 2.81-2.81c.8-.78.8-2.07 0-2.86zM5.41 20L4 18.59l7.72-7.72 1.47 1.35L5.41 20z\"/>\n",
              "  </svg>\n",
              "      </button>\n",
              "      \n",
              "  <style>\n",
              "    .colab-df-container {\n",
              "      display:flex;\n",
              "      flex-wrap:wrap;\n",
              "      gap: 12px;\n",
              "    }\n",
              "\n",
              "    .colab-df-convert {\n",
              "      background-color: #E8F0FE;\n",
              "      border: none;\n",
              "      border-radius: 50%;\n",
              "      cursor: pointer;\n",
              "      display: none;\n",
              "      fill: #1967D2;\n",
              "      height: 32px;\n",
              "      padding: 0 0 0 0;\n",
              "      width: 32px;\n",
              "    }\n",
              "\n",
              "    .colab-df-convert:hover {\n",
              "      background-color: #E2EBFA;\n",
              "      box-shadow: 0px 1px 2px rgba(60, 64, 67, 0.3), 0px 1px 3px 1px rgba(60, 64, 67, 0.15);\n",
              "      fill: #174EA6;\n",
              "    }\n",
              "\n",
              "    [theme=dark] .colab-df-convert {\n",
              "      background-color: #3B4455;\n",
              "      fill: #D2E3FC;\n",
              "    }\n",
              "\n",
              "    [theme=dark] .colab-df-convert:hover {\n",
              "      background-color: #434B5C;\n",
              "      box-shadow: 0px 1px 3px 1px rgba(0, 0, 0, 0.15);\n",
              "      filter: drop-shadow(0px 1px 2px rgba(0, 0, 0, 0.3));\n",
              "      fill: #FFFFFF;\n",
              "    }\n",
              "  </style>\n",
              "\n",
              "      <script>\n",
              "        const buttonEl =\n",
              "          document.querySelector('#df-58fc1c4e-9d9a-4079-a252-3e0c3a5d5b85 button.colab-df-convert');\n",
              "        buttonEl.style.display =\n",
              "          google.colab.kernel.accessAllowed ? 'block' : 'none';\n",
              "\n",
              "        async function convertToInteractive(key) {\n",
              "          const element = document.querySelector('#df-58fc1c4e-9d9a-4079-a252-3e0c3a5d5b85');\n",
              "          const dataTable =\n",
              "            await google.colab.kernel.invokeFunction('convertToInteractive',\n",
              "                                                     [key], {});\n",
              "          if (!dataTable) return;\n",
              "\n",
              "          const docLinkHtml = 'Like what you see? Visit the ' +\n",
              "            '<a target=\"_blank\" href=https://colab.research.google.com/notebooks/data_table.ipynb>data table notebook</a>'\n",
              "            + ' to learn more about interactive tables.';\n",
              "          element.innerHTML = '';\n",
              "          dataTable['output_type'] = 'display_data';\n",
              "          await google.colab.output.renderOutput(dataTable, element);\n",
              "          const docLink = document.createElement('div');\n",
              "          docLink.innerHTML = docLinkHtml;\n",
              "          element.appendChild(docLink);\n",
              "        }\n",
              "      </script>\n",
              "    </div>\n",
              "  </div>\n",
              "  "
            ]
          },
          "metadata": {},
          "execution_count": 22
        }
      ]
    },
    {
      "cell_type": "code",
      "source": [
        "data_ans['Prediction'].value_counts()"
      ],
      "metadata": {
        "colab": {
          "base_uri": "https://localhost:8080/"
        },
        "id": "NqBkB6ZuPkxh",
        "outputId": "048daf0e-91e0-4950-80ea-3c02de6a3e97"
      },
      "execution_count": 23,
      "outputs": [
        {
          "output_type": "execute_result",
          "data": {
            "text/plain": [
              "0.0    158\n",
              "1.0      9\n",
              "Name: Prediction, dtype: int64"
            ]
          },
          "metadata": {},
          "execution_count": 23
        }
      ]
    },
    {
      "cell_type": "code",
      "source": [
        "data_ans['Biopsy'].value_counts()"
      ],
      "metadata": {
        "id": "KTwecZ2WPwYd",
        "outputId": "895c6daa-7143-4e33-be58-3b752b97e2cd",
        "colab": {
          "base_uri": "https://localhost:8080/"
        }
      },
      "execution_count": 24,
      "outputs": [
        {
          "output_type": "execute_result",
          "data": {
            "text/plain": [
              "0    157\n",
              "1     10\n",
              "Name: Biopsy, dtype: int64"
            ]
          },
          "metadata": {},
          "execution_count": 24
        }
      ]
    },
    {
      "cell_type": "code",
      "source": [
        "from sklearn.metrics import precision_recall_fscore_support\n",
        "y_true = y_test\n",
        "y_pred = model.predict(X_test)\n",
        "\n",
        "# Make the confusion matrix\n",
        "import seaborn as sns\n",
        "import matplotlib.pyplot as plt\n",
        "from sklearn.metrics import confusion_matrix\n",
        "cf_matrix = confusion_matrix(np.round_(y_true), np.round_(y_pred))\n",
        "print(\"\\nConfusion Matrix\")\n",
        "sns.heatmap(cf_matrix, annot=True, cmap='Blues', fmt = \".1f\" )\n",
        "plt.xlabel('Predicted', fontsize=12)\n",
        "plt.ylabel('True', fontsize=12)"
      ],
      "metadata": {
        "colab": {
          "base_uri": "https://localhost:8080/",
          "height": 522
        },
        "id": "j3YH8eYHM1No",
        "outputId": "7fcdb22f-04ea-4a04-fb4f-4f698c3e7554"
      },
      "execution_count": 25,
      "outputs": [
        {
          "output_type": "stream",
          "name": "stdout",
          "text": [
            "6/6 [==============================] - 0s 2ms/step\n",
            "\n",
            "Confusion Matrix\n"
          ]
        },
        {
          "output_type": "execute_result",
          "data": {
            "text/plain": [
              "Text(50.722222222222214, 0.5, 'True')"
            ]
          },
          "metadata": {},
          "execution_count": 25
        },
        {
          "output_type": "display_data",
          "data": {
            "text/plain": [
              "<Figure size 640x480 with 2 Axes>"
            ],
            "image/png": "[encoded data removed]"
          },
          "metadata": {}
        }
      ]
    },
    {
      "cell_type": "code",
      "source": [
        "print(classification_report(np.round_(y_true),np.round_(y_pred)))"
      ],
      "metadata": {
        "colab": {
          "base_uri": "https://localhost:8080/"
        },
        "id": "MxE0sdIIOH13",
        "outputId": "40e76336-29c8-477d-f161-44923e63f794"
      },
      "execution_count": null,
      "outputs": [
        {
          "output_type": "stream",
          "name": "stdout",
          "text": [
            "              precision    recall  f1-score   support\n",
            "\n",
            "           0       0.98      0.98      0.98       161\n",
            "           1       0.64      0.64      0.64        11\n",
            "\n",
            "    accuracy                           0.95       172\n",
            "   macro avg       0.81      0.81      0.81       172\n",
            "weighted avg       0.95      0.95      0.95       172\n",
            "\n"
          ]
        }
      ]
    },
    {
      "cell_type": "code",
      "source": [
        "print(model.trainable_variables) "
      ],
      "metadata": {
        "colab": {
          "base_uri": "https://localhost:8080/"
        },
        "id": "jY4Z25QZ_bD3",
        "outputId": "e158c31a-6955-4ada-9c9a-e6a8f56702cc"
      },
      "execution_count": 26,
      "outputs": [
        {
          "output_type": "stream",
          "name": "stdout",
          "text": [
            "[<tf.Variable 'dense/kernel:0' shape=(35, 32) dtype=float32, numpy=\n",
            "array([[-0.41921964, -0.03654774, -0.10225754, ...,  0.18136787,\n",
            "        -0.16871737,  0.25554395],\n",
            "       [ 0.27701342, -0.24846016,  0.05168537, ..., -0.38341153,\n",
            "         0.24458382, -0.5072635 ],\n",
            "       [-0.00822609,  0.44177103,  0.43007094, ..., -0.3503801 ,\n",
            "         0.10430947, -0.12654656],\n",
            "       ...,\n",
            "       [-0.498925  , -0.19764857,  0.38835287, ..., -0.19332056,\n",
            "         0.09292083,  0.20616907],\n",
            "       [-0.35197097, -0.5093212 , -0.59002995, ..., -0.2918647 ,\n",
            "         0.45806667,  0.4249243 ],\n",
            "       [-0.20433447,  0.15156266,  0.01883392, ..., -0.18229134,\n",
            "        -0.0133652 ,  0.25522837]], dtype=float32)>, <tf.Variable 'dense/bias:0' shape=(32,) dtype=float32, numpy=\n",
            "array([ 0.04741788,  0.16307282,  0.11996597, -0.07990157,  0.01054116,\n",
            "        0.17654668,  0.21099994, -0.0567039 ,  0.21472032,  0.02045832,\n",
            "        0.17151105,  0.03289949,  0.23015158,  0.05052894,  0.1429071 ,\n",
            "        0.11199766,  0.00616861,  0.15649714,  0.14281571, -0.01684896,\n",
            "        0.17057794,  0.13299902,  0.12308812,  0.05291428,  0.02666331,\n",
            "       -0.06161249,  0.07091346, -0.06411386,  0.10460559,  0.02001319,\n",
            "       -0.01802707,  0.01676611], dtype=float32)>, <tf.Variable 'dense_1/kernel:0' shape=(32, 16) dtype=float32, numpy=\n",
            "array([[-4.65419173e-01, -9.93382335e-02, -2.21280277e-01,\n",
            "         1.45525858e-01, -3.23018879e-02, -3.98451462e-02,\n",
            "        -2.60236859e-01,  1.91276595e-01,  4.48855758e-01,\n",
            "         4.42828722e-02,  8.83119479e-02,  1.45164832e-01,\n",
            "        -1.42975003e-01, -4.67244945e-02, -1.54104352e-01,\n",
            "         2.28026599e-01],\n",
            "       [ 1.98062733e-01,  2.15472415e-01, -3.55713576e-01,\n",
            "        -1.76102936e-01,  3.60354304e-01, -2.07719296e-01,\n",
            "         3.54961783e-01,  4.75439340e-01, -3.57651174e-01,\n",
            "         4.96082664e-01,  2.80406147e-01,  2.43906513e-01,\n",
            "        -2.57618409e-02,  1.32346794e-01, -5.52745815e-03,\n",
            "         3.89452040e-01],\n",
            "       [ 2.33311608e-01, -1.87985316e-01, -1.42629489e-01,\n",
            "        -1.65221006e-01, -1.72499176e-02, -1.81392506e-01,\n",
            "        -3.90952438e-01,  2.84000874e-01,  2.60661870e-01,\n",
            "         2.99827576e-01, -1.53764263e-01,  4.97440621e-02,\n",
            "        -5.94829917e-01, -1.52178928e-01,  5.22567213e-01,\n",
            "         2.77872443e-01],\n",
            "       [-1.73693538e-01,  1.61716521e-01, -1.44678745e-02,\n",
            "        -3.39073598e-01,  2.07491349e-02,  2.58362889e-01,\n",
            "         4.17637050e-01,  1.91553652e-01, -2.92096943e-01,\n",
            "        -1.44790217e-01,  2.96446651e-01, -1.72237903e-01,\n",
            "         9.63113923e-03, -4.26611871e-01,  2.78037906e-01,\n",
            "        -5.35156846e-01],\n",
            "       [-7.32493252e-02,  2.74340898e-01,  4.10624146e-01,\n",
            "        -1.10882528e-01, -3.93726289e-01,  6.04105651e-01,\n",
            "         1.94479197e-01,  1.74485758e-01, -3.11722159e-01,\n",
            "        -2.81057596e-01,  3.18326540e-02, -2.40822583e-01,\n",
            "         7.43197054e-02, -1.10573031e-01, -3.80851068e-02,\n",
            "        -3.52484941e-01],\n",
            "       [ 6.51141405e-02,  2.43070468e-01,  6.11757487e-02,\n",
            "         2.66590893e-01, -1.25327244e-01,  3.05296630e-02,\n",
            "         2.24208057e-01,  7.79492036e-02, -1.22245543e-01,\n",
            "         5.17656505e-01,  1.18587554e-01,  2.60155827e-01,\n",
            "         8.46223533e-02, -4.23950702e-01,  2.12630853e-01,\n",
            "        -7.26713054e-03],\n",
            "       [-2.60616094e-01,  1.21453598e-01, -2.51352727e-01,\n",
            "         5.92145622e-01,  1.29351735e-01, -2.43574038e-01,\n",
            "        -1.08902358e-01,  4.16952342e-01, -4.05725062e-01,\n",
            "        -7.21035302e-02, -1.52375456e-02,  1.49979144e-01,\n",
            "        -2.62392551e-01,  4.14741002e-02,  2.83143401e-01,\n",
            "         2.50117749e-01],\n",
            "       [ 5.93860075e-02, -3.53585958e-01, -1.75911322e-01,\n",
            "        -1.53491959e-01,  2.81668544e-01, -2.90092111e-01,\n",
            "         1.83711126e-01, -9.52607170e-02, -1.25901863e-01,\n",
            "         2.78216928e-01,  2.55656153e-01, -2.14538783e-01,\n",
            "         2.74097055e-01,  4.62867580e-02,  8.57188106e-02,\n",
            "        -2.02712923e-01],\n",
            "       [ 1.26699090e-01, -1.82356030e-01, -1.78586319e-01,\n",
            "         3.10286343e-01,  5.33490889e-02, -2.69639760e-01,\n",
            "        -3.14287037e-01,  5.19992054e-01, -2.11544484e-01,\n",
            "        -1.53626027e-02, -2.05479443e-01,  1.24898605e-01,\n",
            "        -2.71484941e-01,  8.44933093e-02,  1.82210878e-01,\n",
            "         2.94195235e-01],\n",
            "       [-4.79167432e-01, -2.65630661e-03,  1.72323376e-01,\n",
            "        -1.65505335e-01, -1.38386726e-01,  1.92611009e-01,\n",
            "        -5.47392219e-02, -3.69288735e-02, -5.69363177e-01,\n",
            "         2.07934305e-02,  3.92763883e-01,  5.06376906e-04,\n",
            "        -1.21838920e-01,  1.13679759e-01,  1.68313295e-01,\n",
            "         2.91936308e-01],\n",
            "       [ 6.47198968e-03,  1.45415649e-01,  4.49668169e-02,\n",
            "         3.38253796e-01,  6.32256687e-01,  2.61820287e-01,\n",
            "         7.36727146e-03,  5.40548146e-01,  1.94077760e-01,\n",
            "         3.63175064e-01, -3.13190550e-01,  4.10680801e-01,\n",
            "         2.10475698e-01, -3.45701188e-01,  7.19556957e-02,\n",
            "         6.97428137e-02],\n",
            "       [ 3.76913361e-02, -1.62319228e-01, -3.97322893e-01,\n",
            "        -1.39713854e-01,  1.73363015e-01,  4.39897388e-01,\n",
            "        -8.54101852e-02,  2.18571629e-03, -9.68469828e-02,\n",
            "         9.34378728e-02,  1.82444721e-01,  5.49441352e-02,\n",
            "         6.64403737e-01, -1.25313818e-01,  3.65484089e-01,\n",
            "        -8.62880424e-02],\n",
            "       [ 1.23475462e-01,  8.70164186e-02,  3.44875306e-01,\n",
            "         2.22268075e-01,  1.24588042e-01, -3.76490578e-02,\n",
            "         4.81320918e-01,  3.03539246e-01,  1.63150057e-01,\n",
            "         1.63584247e-01, -1.05985776e-01,  1.57345116e-01,\n",
            "        -1.62922308e-01, -4.66337562e-01,  4.32107747e-01,\n",
            "         2.84830481e-01],\n",
            "       [ 2.77042359e-01, -4.14573461e-01,  2.04447612e-01,\n",
            "         1.69209495e-01,  1.93479761e-01,  3.14422160e-01,\n",
            "         2.56232801e-03,  1.90244943e-01,  4.40725416e-01,\n",
            "        -4.03192222e-01,  1.00982878e-02, -2.69948691e-01,\n",
            "         2.66330272e-01, -2.80165017e-01, -3.35456997e-01,\n",
            "         1.20874077e-01],\n",
            "       [ 2.28586853e-01,  8.41510743e-02, -7.44936913e-02,\n",
            "         6.90667629e-02, -4.81970102e-01,  2.40479350e-01,\n",
            "        -1.07935309e-01, -1.11823410e-01, -1.96300268e-01,\n",
            "         1.50797263e-01, -4.55130607e-01,  2.15061218e-01,\n",
            "        -3.00642371e-01, -4.37693715e-01,  4.42894459e-01,\n",
            "         4.16767895e-01],\n",
            "       [ 1.23603359e-01, -9.26654413e-02,  2.87488222e-01,\n",
            "         2.81952322e-01, -8.84981826e-02,  7.06774145e-02,\n",
            "        -1.28135666e-01, -4.89813894e-01,  2.08901111e-02,\n",
            "         2.32564062e-01, -3.22823435e-01, -1.17277382e-02,\n",
            "         7.89010003e-02,  2.85039693e-01, -2.62808472e-01,\n",
            "         3.73958737e-01],\n",
            "       [ 2.19672188e-01,  2.02390283e-01, -1.60980567e-01,\n",
            "        -1.45304039e-01, -1.35331586e-01, -2.54991315e-02,\n",
            "        -5.60752392e-01,  5.30771613e-01, -1.27470791e-01,\n",
            "         2.53773052e-02, -2.14042559e-01,  2.45709300e-01,\n",
            "         2.00840123e-02,  1.98046118e-01,  2.39994943e-01,\n",
            "        -1.71208918e-01],\n",
            "       [ 3.87332946e-01, -1.64675280e-01,  1.88211590e-01,\n",
            "         1.85338780e-01,  1.32648319e-01, -1.84125453e-01,\n",
            "        -3.23037624e-01, -1.05318367e-01,  3.84351641e-01,\n",
            "         6.82782114e-01, -9.88419428e-02,  4.03796047e-01,\n",
            "         1.63497880e-01,  2.73883045e-01,  2.25580409e-01,\n",
            "        -4.40562218e-02],\n",
            "       [ 1.59544840e-01,  2.62628257e-01, -3.92996259e-02,\n",
            "         9.47633758e-02, -4.32370961e-01,  2.83887565e-01,\n",
            "         1.48185626e-01,  3.67050655e-02,  1.15321644e-01,\n",
            "         5.31645119e-01, -2.38960132e-01,  1.47393182e-01,\n",
            "        -7.12925494e-02, -2.95664996e-01,  1.61625817e-01,\n",
            "         2.73967385e-01],\n",
            "       [-1.58244193e-01,  1.56296894e-01,  5.31019032e-01,\n",
            "        -5.88754952e-01,  3.70506942e-01,  4.51338768e-01,\n",
            "         5.05731344e-01, -8.64912048e-02, -8.87916982e-02,\n",
            "        -2.64425308e-01, -1.56264290e-01, -3.65886480e-01,\n",
            "         6.52879402e-02, -1.46980613e-01, -1.43444926e-01,\n",
            "        -4.28670421e-02],\n",
            "       [ 1.31588176e-01,  1.03434417e-02, -3.65398228e-02,\n",
            "         5.11403024e-01,  3.94270197e-03, -1.97469094e-03,\n",
            "        -2.30367303e-01,  4.36332189e-02, -1.43624738e-01,\n",
            "         4.24812883e-01,  6.65753037e-02,  1.74987286e-01,\n",
            "         2.20760286e-01,  1.34543777e-01,  6.93583563e-02,\n",
            "         4.31524441e-02],\n",
            "       [-6.25876784e-02, -3.01679999e-01,  1.87021464e-01,\n",
            "         7.60893971e-02,  1.56669036e-01, -3.75365674e-01,\n",
            "         1.03305457e-02, -8.45530257e-02, -1.15466967e-01,\n",
            "         7.57194236e-02,  9.93126258e-02, -7.68803731e-02,\n",
            "        -3.42429504e-02, -3.84380557e-02,  2.57831156e-01,\n",
            "         6.50493741e-01],\n",
            "       [ 3.10919341e-02,  2.04230443e-01, -1.12280630e-01,\n",
            "         3.87254059e-02, -2.35839024e-01, -4.08855557e-01,\n",
            "         7.54046962e-02,  2.87703723e-01, -2.08926320e-01,\n",
            "        -1.59803703e-01, -1.02004923e-01, -1.45324022e-01,\n",
            "         8.47612787e-03,  4.34823066e-01,  5.78194559e-02,\n",
            "         3.34143877e-01],\n",
            "       [ 3.78361978e-02,  8.30684751e-02,  2.20041722e-01,\n",
            "        -2.10201025e-01,  1.10227264e-01, -4.10275429e-01,\n",
            "        -2.79936552e-01,  1.86556846e-01, -2.47945949e-01,\n",
            "         1.52399957e-01,  2.86919139e-02,  4.37997840e-02,\n",
            "         3.32598418e-01, -4.49166782e-02, -7.21084997e-02,\n",
            "         3.50565732e-01],\n",
            "       [ 2.45128065e-01,  3.72542590e-01, -1.21143527e-01,\n",
            "        -5.34691572e-01,  1.55458316e-01, -1.08365551e-01,\n",
            "        -3.04781437e-01, -3.35615814e-01, -3.71004015e-01,\n",
            "        -3.44993532e-01,  6.78775087e-02, -4.30098455e-03,\n",
            "        -3.46467942e-01,  2.91356653e-01, -1.99041039e-01,\n",
            "         1.17672697e-01],\n",
            "       [ 2.91063696e-01, -3.40474337e-01, -3.84693861e-01,\n",
            "         4.04308550e-02, -2.05281019e-01,  6.09521531e-02,\n",
            "        -4.17655796e-01, -4.25134301e-01,  2.60141551e-01,\n",
            "         1.70782208e-01,  3.64075005e-02,  4.32232738e-01,\n",
            "        -1.40250146e-01, -5.75506210e-01, -3.29154283e-01,\n",
            "        -2.65797168e-01],\n",
            "       [ 1.70674622e-01,  1.79709777e-01,  1.01629570e-01,\n",
            "         1.52998716e-01, -2.78268337e-01,  3.23569775e-01,\n",
            "        -2.02515677e-01,  5.90295531e-02,  4.34449613e-02,\n",
            "         2.03186855e-01, -6.85463175e-02,  4.08102900e-01,\n",
            "         3.10817007e-02,  3.45417559e-02,  4.27485675e-01,\n",
            "        -2.25723907e-01],\n",
            "       [ 2.02729106e-01,  4.08578753e-01, -1.94231823e-01,\n",
            "         1.82560738e-02, -4.03373212e-01,  1.93896860e-01,\n",
            "         8.01593736e-02, -4.01029037e-03,  1.89747825e-01,\n",
            "         9.95347351e-02,  5.12923717e-01,  5.67726158e-02,\n",
            "        -8.26922208e-02,  4.49722826e-01,  3.52482885e-01,\n",
            "        -3.28486174e-01],\n",
            "       [-3.86205226e-01,  1.18476175e-01, -3.67981613e-01,\n",
            "         9.95174199e-02, -1.55018926e-01,  1.91736519e-01,\n",
            "        -4.27254379e-01,  7.04793558e-02, -1.33952990e-01,\n",
            "        -1.87091324e-02, -3.95198226e-01,  5.07332027e-01,\n",
            "         4.22325581e-02, -3.20823759e-01,  9.36687067e-02,\n",
            "         1.30164474e-01],\n",
            "       [-1.21249102e-01,  3.56021285e-01,  4.99132499e-02,\n",
            "         4.75958496e-01, -2.82896403e-02, -9.96083096e-02,\n",
            "         3.48057777e-01,  3.16252150e-02,  1.71290293e-01,\n",
            "        -4.33907658e-01,  2.11214557e-01,  4.50104445e-01,\n",
            "        -3.13469887e-01,  7.05747753e-02,  1.73263609e-01,\n",
            "        -3.45788300e-01],\n",
            "       [-4.45629545e-02,  2.28542909e-02,  3.42422605e-01,\n",
            "        -1.60680979e-01, -3.90612215e-01, -1.19050242e-01,\n",
            "         4.10683066e-01,  3.07920072e-02,  1.02478772e-01,\n",
            "        -4.29109663e-01,  2.85865635e-01, -1.43734649e-01,\n",
            "        -2.45993659e-01, -1.15860283e-01,  6.51420802e-02,\n",
            "         4.25761342e-01],\n",
            "       [-2.40807950e-01,  2.79953349e-02, -9.92963836e-03,\n",
            "        -1.23159125e-01, -9.60413739e-02,  6.48134291e-01,\n",
            "        -2.16552377e-01, -2.63016880e-01,  9.77914594e-03,\n",
            "        -2.12241672e-02,  9.81698111e-02, -3.05475771e-01,\n",
            "         4.87233937e-01, -1.86284989e-01, -6.42476603e-02,\n",
            "         1.11128978e-01]], dtype=float32)>, <tf.Variable 'dense_1/bias:0' shape=(16,) dtype=float32, numpy=\n",
            "array([-0.02395128,  0.06048168, -0.0184844 ,  0.1582288 ,  0.023991  ,\n",
            "       -0.01866063, -0.0114142 ,  0.0599817 , -0.0145514 ,  0.10649434,\n",
            "       -0.01953099,  0.07503694,  0.07218465, -0.03672082,  0.06016529,\n",
            "        0.15061957], dtype=float32)>, <tf.Variable 'dense_2/kernel:0' shape=(16, 8) dtype=float32, numpy=\n",
            "array([[-0.6933411 , -0.20476861, -0.1360659 ,  0.0168189 ,  0.01737767,\n",
            "         0.01385399, -0.38479564,  0.33526134],\n",
            "       [ 0.70587915, -0.03668672,  0.2632847 ,  0.17873573, -0.12963559,\n",
            "        -0.02416715, -0.23364593,  0.18851905],\n",
            "       [ 0.36872342,  0.13347958, -0.47279894, -0.56485987,  0.33658206,\n",
            "        -0.14809616,  0.6049384 ,  0.5081812 ],\n",
            "       [-0.4594994 ,  0.36467952,  0.62873006,  0.10522711,  0.24458265,\n",
            "         0.20474942, -0.31280205,  0.30217463],\n",
            "       [ 0.3443314 , -0.51656437,  0.01534746, -0.5479852 , -0.05148415,\n",
            "        -0.06398597, -0.60409945,  0.1330719 ],\n",
            "       [ 0.37110025,  0.15302967, -0.22593206, -0.20259279, -0.8210736 ,\n",
            "        -0.19643958,  0.6358242 ,  0.17655496],\n",
            "       [-0.24058314,  0.2598276 , -0.13997513, -0.53450584,  0.04469766,\n",
            "         0.32947022,  0.6100869 ,  0.32617486],\n",
            "       [-0.4500082 , -0.23553891,  0.6134322 , -0.25901052,  0.19143836,\n",
            "        -0.59117234,  0.2847081 , -0.8370272 ],\n",
            "       [-0.08437446,  0.46010947,  0.47954178, -0.1425929 , -0.44481534,\n",
            "         0.7492169 ,  0.14227067,  0.26654816],\n",
            "       [-0.42509788, -0.37788925,  0.1486197 , -0.33171302,  0.22650076,\n",
            "        -0.16549492, -0.13241218, -0.31994128],\n",
            "       [ 0.18673699,  0.26091626,  0.06606716,  0.16540337, -0.1581002 ,\n",
            "         0.06434419,  0.25488588, -0.08204725],\n",
            "       [-0.15814202,  0.49930397,  0.32303727,  0.19715531,  0.17618972,\n",
            "        -0.5732895 ,  0.14198408, -0.18940443],\n",
            "       [-0.29727077,  0.01274746, -0.5386152 ,  0.49469602, -0.02506845,\n",
            "        -0.25559044, -0.23819189,  0.4026573 ],\n",
            "       [-0.534295  , -0.3656224 , -0.01443307, -0.05014826, -0.22859311,\n",
            "         0.09898683,  0.16628227,  0.02435062],\n",
            "       [ 0.08692967, -0.536634  , -0.07851242, -0.38558507,  0.55427724,\n",
            "        -0.41811535,  0.26735076, -0.01093134],\n",
            "       [-0.12248751,  0.30985746,  0.5337859 , -0.31003985,  0.47836322,\n",
            "         0.11376115,  0.08666959, -0.30243105]], dtype=float32)>, <tf.Variable 'dense_2/bias:0' shape=(8,) dtype=float32, numpy=\n",
            "array([ 0.01155346, -0.00535603,  0.11289479, -0.01952693,  0.11787886,\n",
            "       -0.01855442, -0.02472472,  0.05707725], dtype=float32)>, <tf.Variable 'dense_3/kernel:0' shape=(8, 4) dtype=float32, numpy=\n",
            "array([[-1.037405  , -0.19678591, -0.32697746,  0.09024812],\n",
            "       [-0.13277736,  0.07653163, -0.46672735,  0.4346619 ],\n",
            "       [ 1.1540496 , -0.08893745,  0.21195202,  0.252335  ],\n",
            "       [-0.3336133 ,  0.01909296, -0.27519044,  0.23532858],\n",
            "       [ 0.71347284,  0.06264318, -0.5815184 , -0.7609014 ],\n",
            "       [ 0.5560595 , -0.18343842,  0.757547  ,  0.5885857 ],\n",
            "       [-0.7239531 ,  0.63928604,  0.6318251 ,  0.18875624],\n",
            "       [-0.00316981,  0.40981546, -0.23923811,  0.44860455]],\n",
            "      dtype=float32)>, <tf.Variable 'dense_3/bias:0' shape=(4,) dtype=float32, numpy=array([ 0.10981721, -0.02374757, -0.00630297, -0.00340529], dtype=float32)>, <tf.Variable 'dense_4/kernel:0' shape=(4, 1) dtype=float32, numpy=\n",
            "array([[-0.8502505],\n",
            "       [ 0.4832873],\n",
            "       [ 0.6630867],\n",
            "       [ 0.6175591]], dtype=float32)>, <tf.Variable 'dense_4/bias:0' shape=(1,) dtype=float32, numpy=array([-0.07775315], dtype=float32)>]\n"
          ]
        }
      ]
    },
    {
      "cell_type": "code",
      "source": [
        "!mkdir -p saved_model\n",
        "model.save('saved_model/my_model')"
      ],
      "metadata": {
        "colab": {
          "base_uri": "https://localhost:8080/"
        },
        "id": "iQgq37FL_fQh",
        "outputId": "0632769b-c9e8-407b-c097-edc5d6a72e92"
      },
      "execution_count": 27,
      "outputs": [
        {
          "output_type": "stream",
          "name": "stderr",
          "text": [
            "WARNING:absl:Found untraced functions such as _update_step_xla while saving (showing 1 of 1). These functions will not be directly callable after loading.\n"
          ]
        }
      ]
    },
    {
      "cell_type": "code",
      "source": [
        "model.save('my_model.h5')"
      ],
      "metadata": {
        "id": "Bh2oWtGS_heV"
      },
      "execution_count": 28,
      "outputs": []
    },
    {
      "cell_type": "code",
      "source": [
        "from google.colab import files\n",
        "\n",
        "files.download('saved_model/my_model/variables/variables.data-00000-of-00001')\n",
        "files.download('saved_model/my_model/variables/variables.index')\n",
        "files.download('saved_model/my_model/fingerprint.pb')\n",
        "files.download('saved_model/my_model/keras_metadata.pb')\n",
        "files.download('saved_model/my_model/saved_model.pb')"
      ],
      "metadata": {
        "colab": {
          "base_uri": "https://localhost:8080/",
          "height": 17
        },
        "id": "JS8BJeLl_j0H",
        "outputId": "36048919-8601-4f0a-91e9-275abe26a610"
      },
      "execution_count": 29,
      "outputs": [
        {
          "output_type": "display_data",
          "data": {
            "text/plain": [
              "<IPython.core.display.Javascript object>"
            ],
            "application/javascript": [
              "\n",
              "    async function download(id, filename, size) {\n",
              "      if (!google.colab.kernel.accessAllowed) {\n",
              "        return;\n",
              "      }\n",
              "      const div = document.createElement('div');\n",
              "      const label = document.createElement('label');\n",
              "      label.textContent = `Downloading \"${filename}\": `;\n",
              "      div.appendChild(label);\n",
              "      const progress = document.createElement('progress');\n",
              "      progress.max = size;\n",
              "      div.appendChild(progress);\n",
              "      document.body.appendChild(div);\n",
              "\n",
              "      const buffers = [];\n",
              "      let downloaded = 0;\n",
              "\n",
              "      const channel = await google.colab.kernel.comms.open(id);\n",
              "      // Send a message to notify the kernel that we're ready.\n",
              "      channel.send({})\n",
              "\n",
              "      for await (const message of channel.messages) {\n",
              "        // Send a message to notify the kernel that we're ready.\n",
              "        channel.send({})\n",
              "        if (message.buffers) {\n",
              "          for (const buffer of message.buffers) {\n",
              "            buffers.push(buffer);\n",
              "            downloaded += buffer.byteLength;\n",
              "            progress.value = downloaded;\n",
              "          }\n",
              "        }\n",
              "      }\n",
              "      const blob = new Blob(buffers, {type: 'application/binary'});\n",
              "      const a = document.createElement('a');\n",
              "      a.href = window.URL.createObjectURL(blob);\n",
              "      a.download = filename;\n",
              "      div.appendChild(a);\n",
              "      a.click();\n",
              "      div.remove();\n",
              "    }\n",
              "  "
            ]
          },
          "metadata": {}
        },
        {
          "output_type": "display_data",
          "data": {
            "text/plain": [
              "<IPython.core.display.Javascript object>"
            ],
            "application/javascript": [
              "download(\"download_965ef404-09b3-4c32-9868-5424a971fd18\", \"variables.data-00000-of-00001\", 30294)"
            ]
          },
          "metadata": {}
        },
        {
          "output_type": "display_data",
          "data": {
            "text/plain": [
              "<IPython.core.display.Javascript object>"
            ],
            "application/javascript": [
              "\n",
              "    async function download(id, filename, size) {\n",
              "      if (!google.colab.kernel.accessAllowed) {\n",
              "        return;\n",
              "      }\n",
              "      const div = document.createElement('div');\n",
              "      const label = document.createElement('label');\n",
              "      label.textContent = `Downloading \"${filename}\": `;\n",
              "      div.appendChild(label);\n",
              "      const progress = document.createElement('progress');\n",
              "      progress.max = size;\n",
              "      div.appendChild(progress);\n",
              "      document.body.appendChild(div);\n",
              "\n",
              "      const buffers = [];\n",
              "      let downloaded = 0;\n",
              "\n",
              "      const channel = await google.colab.kernel.comms.open(id);\n",
              "      // Send a message to notify the kernel that we're ready.\n",
              "      channel.send({})\n",
              "\n",
              "      for await (const message of channel.messages) {\n",
              "        // Send a message to notify the kernel that we're ready.\n",
              "        channel.send({})\n",
              "        if (message.buffers) {\n",
              "          for (const buffer of message.buffers) {\n",
              "            buffers.push(buffer);\n",
              "            downloaded += buffer.byteLength;\n",
              "            progress.value = downloaded;\n",
              "          }\n",
              "        }\n",
              "      }\n",
              "      const blob = new Blob(buffers, {type: 'application/binary'});\n",
              "      const a = document.createElement('a');\n",
              "      a.href = window.URL.createObjectURL(blob);\n",
              "      a.download = filename;\n",
              "      div.appendChild(a);\n",
              "      a.click();\n",
              "      div.remove();\n",
              "    }\n",
              "  "
            ]
          },
          "metadata": {}
        },
        {
          "output_type": "display_data",
          "data": {
            "text/plain": [
              "<IPython.core.display.Javascript object>"
            ],
            "application/javascript": [
              "download(\"download_fb842d4f-c909-4e69-ac1f-521a03f96f2f\", \"variables.index\", 2162)"
            ]
          },
          "metadata": {}
        },
        {
          "output_type": "display_data",
          "data": {
            "text/plain": [
              "<IPython.core.display.Javascript object>"
            ],
            "application/javascript": [
              "\n",
              "    async function download(id, filename, size) {\n",
              "      if (!google.colab.kernel.accessAllowed) {\n",
              "        return;\n",
              "      }\n",
              "      const div = document.createElement('div');\n",
              "      const label = document.createElement('label');\n",
              "      label.textContent = `Downloading \"${filename}\": `;\n",
              "      div.appendChild(label);\n",
              "      const progress = document.createElement('progress');\n",
              "      progress.max = size;\n",
              "      div.appendChild(progress);\n",
              "      document.body.appendChild(div);\n",
              "\n",
              "      const buffers = [];\n",
              "      let downloaded = 0;\n",
              "\n",
              "      const channel = await google.colab.kernel.comms.open(id);\n",
              "      // Send a message to notify the kernel that we're ready.\n",
              "      channel.send({})\n",
              "\n",
              "      for await (const message of channel.messages) {\n",
              "        // Send a message to notify the kernel that we're ready.\n",
              "        channel.send({})\n",
              "        if (message.buffers) {\n",
              "          for (const buffer of message.buffers) {\n",
              "            buffers.push(buffer);\n",
              "            downloaded += buffer.byteLength;\n",
              "            progress.value = downloaded;\n",
              "          }\n",
              "        }\n",
              "      }\n",
              "      const blob = new Blob(buffers, {type: 'application/binary'});\n",
              "      const a = document.createElement('a');\n",
              "      a.href = window.URL.createObjectURL(blob);\n",
              "      a.download = filename;\n",
              "      div.appendChild(a);\n",
              "      a.click();\n",
              "      div.remove();\n",
              "    }\n",
              "  "
            ]
          },
          "metadata": {}
        },
        {
          "output_type": "display_data",
          "data": {
            "text/plain": [
              "<IPython.core.display.Javascript object>"
            ],
            "application/javascript": [
              "download(\"download_fd78723f-b2b0-45d9-974a-49ca3561a33c\", \"fingerprint.pb\", 56)"
            ]
          },
          "metadata": {}
        },
        {
          "output_type": "display_data",
          "data": {
            "text/plain": [
              "<IPython.core.display.Javascript object>"
            ],
            "application/javascript": [
              "\n",
              "    async function download(id, filename, size) {\n",
              "      if (!google.colab.kernel.accessAllowed) {\n",
              "        return;\n",
              "      }\n",
              "      const div = document.createElement('div');\n",
              "      const label = document.createElement('label');\n",
              "      label.textContent = `Downloading \"${filename}\": `;\n",
              "      div.appendChild(label);\n",
              "      const progress = document.createElement('progress');\n",
              "      progress.max = size;\n",
              "      div.appendChild(progress);\n",
              "      document.body.appendChild(div);\n",
              "\n",
              "      const buffers = [];\n",
              "      let downloaded = 0;\n",
              "\n",
              "      const channel = await google.colab.kernel.comms.open(id);\n",
              "      // Send a message to notify the kernel that we're ready.\n",
              "      channel.send({})\n",
              "\n",
              "      for await (const message of channel.messages) {\n",
              "        // Send a message to notify the kernel that we're ready.\n",
              "        channel.send({})\n",
              "        if (message.buffers) {\n",
              "          for (const buffer of message.buffers) {\n",
              "            buffers.push(buffer);\n",
              "            downloaded += buffer.byteLength;\n",
              "            progress.value = downloaded;\n",
              "          }\n",
              "        }\n",
              "      }\n",
              "      const blob = new Blob(buffers, {type: 'application/binary'});\n",
              "      const a = document.createElement('a');\n",
              "      a.href = window.URL.createObjectURL(blob);\n",
              "      a.download = filename;\n",
              "      div.appendChild(a);\n",
              "      a.click();\n",
              "      div.remove();\n",
              "    }\n",
              "  "
            ]
          },
          "metadata": {}
        },
        {
          "output_type": "display_data",
          "data": {
            "text/plain": [
              "<IPython.core.display.Javascript object>"
            ],
            "application/javascript": [
              "download(\"download_46de322c-7cca-407e-a896-ad6f26ec2a00\", \"keras_metadata.pb\", 12782)"
            ]
          },
          "metadata": {}
        },
        {
          "output_type": "display_data",
          "data": {
            "text/plain": [
              "<IPython.core.display.Javascript object>"
            ],
            "application/javascript": [
              "\n",
              "    async function download(id, filename, size) {\n",
              "      if (!google.colab.kernel.accessAllowed) {\n",
              "        return;\n",
              "      }\n",
              "      const div = document.createElement('div');\n",
              "      const label = document.createElement('label');\n",
              "      label.textContent = `Downloading \"${filename}\": `;\n",
              "      div.appendChild(label);\n",
              "      const progress = document.createElement('progress');\n",
              "      progress.max = size;\n",
              "      div.appendChild(progress);\n",
              "      document.body.appendChild(div);\n",
              "\n",
              "      const buffers = [];\n",
              "      let downloaded = 0;\n",
              "\n",
              "      const channel = await google.colab.kernel.comms.open(id);\n",
              "      // Send a message to notify the kernel that we're ready.\n",
              "      channel.send({})\n",
              "\n",
              "      for await (const message of channel.messages) {\n",
              "        // Send a message to notify the kernel that we're ready.\n",
              "        channel.send({})\n",
              "        if (message.buffers) {\n",
              "          for (const buffer of message.buffers) {\n",
              "            buffers.push(buffer);\n",
              "            downloaded += buffer.byteLength;\n",
              "            progress.value = downloaded;\n",
              "          }\n",
              "        }\n",
              "      }\n",
              "      const blob = new Blob(buffers, {type: 'application/binary'});\n",
              "      const a = document.createElement('a');\n",
              "      a.href = window.URL.createObjectURL(blob);\n",
              "      a.download = filename;\n",
              "      div.appendChild(a);\n",
              "      a.click();\n",
              "      div.remove();\n",
              "    }\n",
              "  "
            ]
          },
          "metadata": {}
        },
        {
          "output_type": "display_data",
          "data": {
            "text/plain": [
              "<IPython.core.display.Javascript object>"
            ],
            "application/javascript": [
              "download(\"download_09194f26-9a10-4406-85de-5bb64a4ef777\", \"saved_model.pb\", 149051)"
            ]
          },
          "metadata": {}
        }
      ]
    },
    {
      "cell_type": "code",
      "source": [
        "files.download('my_model.h5')"
      ],
      "metadata": {
        "colab": {
          "base_uri": "https://localhost:8080/",
          "height": 17
        },
        "id": "bMoMghTqAa41",
        "outputId": "595519e7-0479-4d82-eb4d-1f039c5f97b7"
      },
      "execution_count": 30,
      "outputs": [
        {
          "output_type": "display_data",
          "data": {
            "text/plain": [
              "<IPython.core.display.Javascript object>"
            ],
            "application/javascript": [
              "\n",
              "    async function download(id, filename, size) {\n",
              "      if (!google.colab.kernel.accessAllowed) {\n",
              "        return;\n",
              "      }\n",
              "      const div = document.createElement('div');\n",
              "      const label = document.createElement('label');\n",
              "      label.textContent = `Downloading \"${filename}\": `;\n",
              "      div.appendChild(label);\n",
              "      const progress = document.createElement('progress');\n",
              "      progress.max = size;\n",
              "      div.appendChild(progress);\n",
              "      document.body.appendChild(div);\n",
              "\n",
              "      const buffers = [];\n",
              "      let downloaded = 0;\n",
              "\n",
              "      const channel = await google.colab.kernel.comms.open(id);\n",
              "      // Send a message to notify the kernel that we're ready.\n",
              "      channel.send({})\n",
              "\n",
              "      for await (const message of channel.messages) {\n",
              "        // Send a message to notify the kernel that we're ready.\n",
              "        channel.send({})\n",
              "        if (message.buffers) {\n",
              "          for (const buffer of message.buffers) {\n",
              "            buffers.push(buffer);\n",
              "            downloaded += buffer.byteLength;\n",
              "            progress.value = downloaded;\n",
              "          }\n",
              "        }\n",
              "      }\n",
              "      const blob = new Blob(buffers, {type: 'application/binary'});\n",
              "      const a = document.createElement('a');\n",
              "      a.href = window.URL.createObjectURL(blob);\n",
              "      a.download = filename;\n",
              "      div.appendChild(a);\n",
              "      a.click();\n",
              "      div.remove();\n",
              "    }\n",
              "  "
            ]
          },
          "metadata": {}
        },
        {
          "output_type": "display_data",
          "data": {
            "text/plain": [
              "<IPython.core.display.Javascript object>"
            ],
            "application/javascript": [
              "download(\"download_21d7f185-c03f-4dff-82af-def7b1410e58\", \"my_model.h5\", 69920)"
            ]
          },
          "metadata": {}
        }
      ]
    },
    {
      "cell_type": "code",
      "source": [
        "new_model = tf.keras.models.load_model('saved_model/my_model')"
      ],
      "metadata": {
        "id": "EwUb_qBrAfJH"
      },
      "execution_count": 31,
      "outputs": []
    },
    {
      "cell_type": "code",
      "source": [
        "loss, acc = new_model.evaluate(X_test, y_test)\n",
        "print('Restored model, accuracy: {:5.2f}%'.format(100 * acc))"
      ],
      "metadata": {
        "colab": {
          "base_uri": "https://localhost:8080/"
        },
        "id": "eok-sRHMAh6y",
        "outputId": "c8f529c0-300d-4a16-d102-3bd26529984b"
      },
      "execution_count": 32,
      "outputs": [
        {
          "output_type": "stream",
          "name": "stdout",
          "text": [
            "6/6 [==============================] - 0s 4ms/step - loss: 0.0913 - accuracy: 0.9581\n",
            "Restored model, accuracy: 95.81%\n"
          ]
        }
      ]
    }
  ]
}