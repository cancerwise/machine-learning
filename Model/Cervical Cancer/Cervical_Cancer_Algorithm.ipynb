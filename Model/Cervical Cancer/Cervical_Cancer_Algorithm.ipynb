{
  "nbformat": 4,
  "nbformat_minor": 0,
  "metadata": {
    "colab": {
      "provenance": []
    },
    "kernelspec": {
      "name": "python3",
      "display_name": "Python 3"
    },
    "language_info": {
      "name": "python"
    }
  },
  "cells": [
    {
      "cell_type": "code",
      "execution_count": 61,
      "metadata": {
        "id": "IZO-Q4xgQbxE"
      },
      "outputs": [],
      "source": [
        "import numpy as np\n",
        "import matplotlib.pyplot as plt\n",
        "import pandas as pd\n",
        "import tensorflow as tf\n",
        "\n",
        "from tensorflow import keras\n",
        "from tensorflow.keras import layers\n",
        "from tensorflow.keras.models import Sequential\n",
        "from tensorflow.keras.layers import Dense\n",
        "\n",
        "from imblearn.over_sampling import RandomOverSampler\n",
        "\n",
        "from collections import Counter\n",
        "from sklearn.model_selection import train_test_split\n",
        "from sklearn.linear_model import LogisticRegression\n",
        "from sklearn.preprocessing import MinMaxScaler\n",
        "from sklearn.metrics import confusion_matrix, accuracy_score, classification_report, precision_recall_fscore_support"
      ]
    },
    {
      "cell_type": "code",
      "source": [
        "# load dataset\n",
        "from google.colab import drive\n",
        "\n",
        "drive.mount('/drive')\n",
        "data = pd.read_csv('/drive/My Drive/Colab Notebooks/Cervical Cancer.csv')\n",
        "data.head()"
      ],
      "metadata": {
        "colab": {
          "base_uri": "https://localhost:8080/",
          "height": 386
        },
        "id": "9PueFjQ-XagE",
        "outputId": "23090195-e938-4b0d-8360-fc41acbf2d60"
      },
      "execution_count": 62,
      "outputs": [
        {
          "output_type": "stream",
          "name": "stdout",
          "text": [
            "Drive already mounted at /drive; to attempt to forcibly remount, call drive.mount(\"/drive\", force_remount=True).\n"
          ]
        },
        {
          "output_type": "execute_result",
          "data": {
            "text/plain": [
              "   Age Number of sexual partners First sexual intercourse Num of pregnancies  \\\n",
              "0   18                       4.0                     15.0                1.0   \n",
              "1   15                       1.0                     14.0                1.0   \n",
              "2   34                       1.0                        ?                1.0   \n",
              "3   52                       5.0                     16.0                4.0   \n",
              "4   46                       3.0                     21.0                4.0   \n",
              "\n",
              "  Smokes Smokes (years) Smokes (packs/year) Hormonal Contraceptives  \\\n",
              "0    0.0            0.0                 0.0                     0.0   \n",
              "1    0.0            0.0                 0.0                     0.0   \n",
              "2    0.0            0.0                 0.0                     0.0   \n",
              "3    1.0           37.0                37.0                     1.0   \n",
              "4    0.0            0.0                 0.0                     1.0   \n",
              "\n",
              "  Hormonal Contraceptives (years)  IUD  ... STDs: Time since first diagnosis  \\\n",
              "0                             0.0  0.0  ...                                ?   \n",
              "1                             0.0  0.0  ...                                ?   \n",
              "2                             0.0  0.0  ...                                ?   \n",
              "3                             3.0  0.0  ...                                ?   \n",
              "4                            15.0  0.0  ...                                ?   \n",
              "\n",
              "  STDs: Time since last diagnosis Dx:Cancer Dx:CIN Dx:HPV Dx Hinselmann  \\\n",
              "0                               ?         0      0      0  0          0   \n",
              "1                               ?         0      0      0  0          0   \n",
              "2                               ?         0      0      0  0          0   \n",
              "3                               ?         1      0      1  0          0   \n",
              "4                               ?         0      0      0  0          0   \n",
              "\n",
              "  Schiller Citology Biopsy  \n",
              "0        0        0      0  \n",
              "1        0        0      0  \n",
              "2        0        0      0  \n",
              "3        0        0      0  \n",
              "4        0        0      0  \n",
              "\n",
              "[5 rows x 36 columns]"
            ],
            "text/html": [
              "\n",
              "  <div id=\"df-d35cf88f-6f0f-45d1-af50-841aac7447cd\">\n",
              "    <div class=\"colab-df-container\">\n",
              "      <div>\n",
              "<style scoped>\n",
              "    .dataframe tbody tr th:only-of-type {\n",
              "        vertical-align: middle;\n",
              "    }\n",
              "\n",
              "    .dataframe tbody tr th {\n",
              "        vertical-align: top;\n",
              "    }\n",
              "\n",
              "    .dataframe thead th {\n",
              "        text-align: right;\n",
              "    }\n",
              "</style>\n",
              "<table border=\"1\" class=\"dataframe\">\n",
              "  <thead>\n",
              "    <tr style=\"text-align: right;\">\n",
              "      <th></th>\n",
              "      <th>Age</th>\n",
              "      <th>Number of sexual partners</th>\n",
              "      <th>First sexual intercourse</th>\n",
              "      <th>Num of pregnancies</th>\n",
              "      <th>Smokes</th>\n",
              "      <th>Smokes (years)</th>\n",
              "      <th>Smokes (packs/year)</th>\n",
              "      <th>Hormonal Contraceptives</th>\n",
              "      <th>Hormonal Contraceptives (years)</th>\n",
              "      <th>IUD</th>\n",
              "      <th>...</th>\n",
              "      <th>STDs: Time since first diagnosis</th>\n",
              "      <th>STDs: Time since last diagnosis</th>\n",
              "      <th>Dx:Cancer</th>\n",
              "      <th>Dx:CIN</th>\n",
              "      <th>Dx:HPV</th>\n",
              "      <th>Dx</th>\n",
              "      <th>Hinselmann</th>\n",
              "      <th>Schiller</th>\n",
              "      <th>Citology</th>\n",
              "      <th>Biopsy</th>\n",
              "    </tr>\n",
              "  </thead>\n",
              "  <tbody>\n",
              "    <tr>\n",
              "      <th>0</th>\n",
              "      <td>18</td>\n",
              "      <td>4.0</td>\n",
              "      <td>15.0</td>\n",
              "      <td>1.0</td>\n",
              "      <td>0.0</td>\n",
              "      <td>0.0</td>\n",
              "      <td>0.0</td>\n",
              "      <td>0.0</td>\n",
              "      <td>0.0</td>\n",
              "      <td>0.0</td>\n",
              "      <td>...</td>\n",
              "      <td>?</td>\n",
              "      <td>?</td>\n",
              "      <td>0</td>\n",
              "      <td>0</td>\n",
              "      <td>0</td>\n",
              "      <td>0</td>\n",
              "      <td>0</td>\n",
              "      <td>0</td>\n",
              "      <td>0</td>\n",
              "      <td>0</td>\n",
              "    </tr>\n",
              "    <tr>\n",
              "      <th>1</th>\n",
              "      <td>15</td>\n",
              "      <td>1.0</td>\n",
              "      <td>14.0</td>\n",
              "      <td>1.0</td>\n",
              "      <td>0.0</td>\n",
              "      <td>0.0</td>\n",
              "      <td>0.0</td>\n",
              "      <td>0.0</td>\n",
              "      <td>0.0</td>\n",
              "      <td>0.0</td>\n",
              "      <td>...</td>\n",
              "      <td>?</td>\n",
              "      <td>?</td>\n",
              "      <td>0</td>\n",
              "      <td>0</td>\n",
              "      <td>0</td>\n",
              "      <td>0</td>\n",
              "      <td>0</td>\n",
              "      <td>0</td>\n",
              "      <td>0</td>\n",
              "      <td>0</td>\n",
              "    </tr>\n",
              "    <tr>\n",
              "      <th>2</th>\n",
              "      <td>34</td>\n",
              "      <td>1.0</td>\n",
              "      <td>?</td>\n",
              "      <td>1.0</td>\n",
              "      <td>0.0</td>\n",
              "      <td>0.0</td>\n",
              "      <td>0.0</td>\n",
              "      <td>0.0</td>\n",
              "      <td>0.0</td>\n",
              "      <td>0.0</td>\n",
              "      <td>...</td>\n",
              "      <td>?</td>\n",
              "      <td>?</td>\n",
              "      <td>0</td>\n",
              "      <td>0</td>\n",
              "      <td>0</td>\n",
              "      <td>0</td>\n",
              "      <td>0</td>\n",
              "      <td>0</td>\n",
              "      <td>0</td>\n",
              "      <td>0</td>\n",
              "    </tr>\n",
              "    <tr>\n",
              "      <th>3</th>\n",
              "      <td>52</td>\n",
              "      <td>5.0</td>\n",
              "      <td>16.0</td>\n",
              "      <td>4.0</td>\n",
              "      <td>1.0</td>\n",
              "      <td>37.0</td>\n",
              "      <td>37.0</td>\n",
              "      <td>1.0</td>\n",
              "      <td>3.0</td>\n",
              "      <td>0.0</td>\n",
              "      <td>...</td>\n",
              "      <td>?</td>\n",
              "      <td>?</td>\n",
              "      <td>1</td>\n",
              "      <td>0</td>\n",
              "      <td>1</td>\n",
              "      <td>0</td>\n",
              "      <td>0</td>\n",
              "      <td>0</td>\n",
              "      <td>0</td>\n",
              "      <td>0</td>\n",
              "    </tr>\n",
              "    <tr>\n",
              "      <th>4</th>\n",
              "      <td>46</td>\n",
              "      <td>3.0</td>\n",
              "      <td>21.0</td>\n",
              "      <td>4.0</td>\n",
              "      <td>0.0</td>\n",
              "      <td>0.0</td>\n",
              "      <td>0.0</td>\n",
              "      <td>1.0</td>\n",
              "      <td>15.0</td>\n",
              "      <td>0.0</td>\n",
              "      <td>...</td>\n",
              "      <td>?</td>\n",
              "      <td>?</td>\n",
              "      <td>0</td>\n",
              "      <td>0</td>\n",
              "      <td>0</td>\n",
              "      <td>0</td>\n",
              "      <td>0</td>\n",
              "      <td>0</td>\n",
              "      <td>0</td>\n",
              "      <td>0</td>\n",
              "    </tr>\n",
              "  </tbody>\n",
              "</table>\n",
              "<p>5 rows × 36 columns</p>\n",
              "</div>\n",
              "      <button class=\"colab-df-convert\" onclick=\"convertToInteractive('df-d35cf88f-6f0f-45d1-af50-841aac7447cd')\"\n",
              "              title=\"Convert this dataframe to an interactive table.\"\n",
              "              style=\"display:none;\">\n",
              "        \n",
              "  <svg xmlns=\"http://www.w3.org/2000/svg\" height=\"24px\"viewBox=\"0 0 24 24\"\n",
              "       width=\"24px\">\n",
              "    <path d=\"M0 0h24v24H0V0z\" fill=\"none\"/>\n",
              "    <path d=\"M18.56 5.44l.94 2.06.94-2.06 2.06-.94-2.06-.94-.94-2.06-.94 2.06-2.06.94zm-11 1L8.5 8.5l.94-2.06 2.06-.94-2.06-.94L8.5 2.5l-.94 2.06-2.06.94zm10 10l.94 2.06.94-2.06 2.06-.94-2.06-.94-.94-2.06-.94 2.06-2.06.94z\"/><path d=\"M17.41 7.96l-1.37-1.37c-.4-.4-.92-.59-1.43-.59-.52 0-1.04.2-1.43.59L10.3 9.45l-7.72 7.72c-.78.78-.78 2.05 0 2.83L4 21.41c.39.39.9.59 1.41.59.51 0 1.02-.2 1.41-.59l7.78-7.78 2.81-2.81c.8-.78.8-2.07 0-2.86zM5.41 20L4 18.59l7.72-7.72 1.47 1.35L5.41 20z\"/>\n",
              "  </svg>\n",
              "      </button>\n",
              "      \n",
              "  <style>\n",
              "    .colab-df-container {\n",
              "      display:flex;\n",
              "      flex-wrap:wrap;\n",
              "      gap: 12px;\n",
              "    }\n",
              "\n",
              "    .colab-df-convert {\n",
              "      background-color: #E8F0FE;\n",
              "      border: none;\n",
              "      border-radius: 50%;\n",
              "      cursor: pointer;\n",
              "      display: none;\n",
              "      fill: #1967D2;\n",
              "      height: 32px;\n",
              "      padding: 0 0 0 0;\n",
              "      width: 32px;\n",
              "    }\n",
              "\n",
              "    .colab-df-convert:hover {\n",
              "      background-color: #E2EBFA;\n",
              "      box-shadow: 0px 1px 2px rgba(60, 64, 67, 0.3), 0px 1px 3px 1px rgba(60, 64, 67, 0.15);\n",
              "      fill: #174EA6;\n",
              "    }\n",
              "\n",
              "    [theme=dark] .colab-df-convert {\n",
              "      background-color: #3B4455;\n",
              "      fill: #D2E3FC;\n",
              "    }\n",
              "\n",
              "    [theme=dark] .colab-df-convert:hover {\n",
              "      background-color: #434B5C;\n",
              "      box-shadow: 0px 1px 3px 1px rgba(0, 0, 0, 0.15);\n",
              "      filter: drop-shadow(0px 1px 2px rgba(0, 0, 0, 0.3));\n",
              "      fill: #FFFFFF;\n",
              "    }\n",
              "  </style>\n",
              "\n",
              "      <script>\n",
              "        const buttonEl =\n",
              "          document.querySelector('#df-d35cf88f-6f0f-45d1-af50-841aac7447cd button.colab-df-convert');\n",
              "        buttonEl.style.display =\n",
              "          google.colab.kernel.accessAllowed ? 'block' : 'none';\n",
              "\n",
              "        async function convertToInteractive(key) {\n",
              "          const element = document.querySelector('#df-d35cf88f-6f0f-45d1-af50-841aac7447cd');\n",
              "          const dataTable =\n",
              "            await google.colab.kernel.invokeFunction('convertToInteractive',\n",
              "                                                     [key], {});\n",
              "          if (!dataTable) return;\n",
              "\n",
              "          const docLinkHtml = 'Like what you see? Visit the ' +\n",
              "            '<a target=\"_blank\" href=https://colab.research.google.com/notebooks/data_table.ipynb>data table notebook</a>'\n",
              "            + ' to learn more about interactive tables.';\n",
              "          element.innerHTML = '';\n",
              "          dataTable['output_type'] = 'display_data';\n",
              "          await google.colab.output.renderOutput(dataTable, element);\n",
              "          const docLink = document.createElement('div');\n",
              "          docLink.innerHTML = docLinkHtml;\n",
              "          element.appendChild(docLink);\n",
              "        }\n",
              "      </script>\n",
              "    </div>\n",
              "  </div>\n",
              "  "
            ]
          },
          "metadata": {},
          "execution_count": 62
        }
      ]
    },
    {
      "cell_type": "code",
      "source": [
        "data = data.replace('?', np.nan)"
      ],
      "metadata": {
        "id": "yq-TBFwKosLY"
      },
      "execution_count": 63,
      "outputs": []
    },
    {
      "cell_type": "code",
      "source": [
        "data = data.apply(pd.to_numeric, axis=0)"
      ],
      "metadata": {
        "id": "2_rqlLKHs52h"
      },
      "execution_count": 64,
      "outputs": []
    },
    {
      "cell_type": "code",
      "source": [
        "# Generating list of categorical factors:\n",
        "temp=data.drop(columns=['Biopsy']).nunique()\n",
        "cat=temp.loc[temp.values < 4].index.to_list()\n",
        "\n",
        "# Updating null values to the most dominant category:\n",
        "for factor in cat:\n",
        "    data[factor] = data[factor].fillna(1)"
      ],
      "metadata": {
        "id": "50OxAyrToDIg"
      },
      "execution_count": 65,
      "outputs": []
    },
    {
      "cell_type": "code",
      "source": [
        "# Generating list of non-categorical factors:\n",
        "temp=data.drop(columns=['Biopsy']).nunique()\n",
        "non_cat=temp.loc[temp.values > 3].index.to_list()\n",
        "\n",
        "# Implementing interpolation (with linear method), on known data for null values:\n",
        "for factor in non_cat:\n",
        "  if (factor == ('STDs: Time since first diagnosis') or factor == ('STDs: Time since last diagnosis')):\n",
        "    data[factor] = data[factor].fillna(data[factor].median())\n",
        "  else:\n",
        "    data[factor]=data[factor].interpolate(method='linear')"
      ],
      "metadata": {
        "id": "_Laze_Hsrmsl"
      },
      "execution_count": 66,
      "outputs": []
    },
    {
      "cell_type": "code",
      "source": [
        "y = data['Biopsy']\n",
        "X = data.drop('Biopsy',axis=1)"
      ],
      "metadata": {
        "id": "61xGvfwZxvUL"
      },
      "execution_count": 67,
      "outputs": []
    },
    {
      "cell_type": "code",
      "source": [
        "X_train, X_test, y_train, y_test = train_test_split(X, y, random_state = 42, test_size=0.2)\n",
        "X_train, X_val, y_train, y_val = train_test_split(X_train, y_train, test_size=0.25, random_state = 42)"
      ],
      "metadata": {
        "id": "fgzitZg10LU6"
      },
      "execution_count": 68,
      "outputs": []
    },
    {
      "cell_type": "code",
      "source": [
        "minmax_scale = MinMaxScaler(feature_range=(0, 1))\n",
        "X_train = minmax_scale.fit_transform(X_train)\n",
        "X_val = minmax_scale.fit_transform(X_val)\n",
        "X_test = minmax_scale.fit_transform(X_test)"
      ],
      "metadata": {
        "id": "tt4VWv3t3N6Y"
      },
      "execution_count": 69,
      "outputs": []
    },
    {
      "cell_type": "code",
      "source": [
        "from tensorflow.keras import initializers\n",
        "initializer = tf.keras.initializers.HeNormal(seed=0)\n",
        "\n",
        "model = Sequential(\n",
        "    [\n",
        "        Dense(32, activation = 'relu', input_shape=[35], kernel_initializer=initializer),\n",
        "        Dense(16, activation = 'relu', kernel_initializer=initializer),\n",
        "        Dense(8, activation = 'relu', kernel_initializer=initializer),\n",
        "        Dense(4, activation = 'relu', kernel_initializer=initializer),\n",
        "        Dense(1, activation = 'sigmoid', kernel_initializer=tf.keras.initializers.GlorotUniform(seed=0)),\n",
        "    ]\n",
        ")"
      ],
      "metadata": {
        "id": "fbeS84ca6t8E"
      },
      "execution_count": 70,
      "outputs": []
    },
    {
      "cell_type": "code",
      "source": [
        "model.build()"
      ],
      "metadata": {
        "id": "5Xjtmx_-KbXC"
      },
      "execution_count": 71,
      "outputs": []
    },
    {
      "cell_type": "code",
      "source": [
        "model.summary()"
      ],
      "metadata": {
        "colab": {
          "base_uri": "https://localhost:8080/"
        },
        "id": "hv3aSG8fKvSW",
        "outputId": "1f8e218c-4393-45d6-f42d-6b8c47832913"
      },
      "execution_count": 13,
      "outputs": [
        {
          "output_type": "stream",
          "name": "stdout",
          "text": [
            "Model: \"sequential\"\n",
            "_________________________________________________________________\n",
            " Layer (type)                Output Shape              Param #   \n",
            "=================================================================\n",
            " dense (Dense)               (None, 32)                1152      \n",
            "                                                                 \n",
            " dense_1 (Dense)             (None, 16)                528       \n",
            "                                                                 \n",
            " dense_2 (Dense)             (None, 8)                 136       \n",
            "                                                                 \n",
            " dense_3 (Dense)             (None, 4)                 36        \n",
            "                                                                 \n",
            " dense_4 (Dense)             (None, 1)                 5         \n",
            "                                                                 \n",
            "=================================================================\n",
            "Total params: 1,857\n",
            "Trainable params: 1,857\n",
            "Non-trainable params: 0\n",
            "_________________________________________________________________\n"
          ]
        }
      ]
    },
    {
      "cell_type": "code",
      "source": [
        "model.compile(\n",
        "    loss=tf.keras.losses.BinaryCrossentropy(),\n",
        "    optimizer=tf.keras.optimizers.Adam(learning_rate=0.0001),\n",
        "    metrics=['accuracy']\n",
        ")\n",
        "\n",
        "history = model.fit(X_train, y_train, \n",
        "                        epochs=150, batch_size=32,\n",
        "                        validation_data=(X_val, y_val), \n",
        "                        shuffle=True)"
      ],
      "metadata": {
        "colab": {
          "base_uri": "https://localhost:8080/"
        },
        "id": "CDDbRDHsKwcB",
        "outputId": "7c009529-d1c7-4190-b339-a5564cd10697"
      },
      "execution_count": 72,
      "outputs": [
        {
          "output_type": "stream",
          "name": "stdout",
          "text": [
            "Epoch 1/150\n",
            "17/17 [==============================] - 1s 14ms/step - loss: 0.6809 - accuracy: 0.7023 - val_loss: 0.6687 - val_accuracy: 0.8198\n",
            "Epoch 2/150\n",
            "17/17 [==============================] - 0s 5ms/step - loss: 0.6713 - accuracy: 0.8268 - val_loss: 0.6593 - val_accuracy: 0.9128\n",
            "Epoch 3/150\n",
            "17/17 [==============================] - 0s 4ms/step - loss: 0.6605 - accuracy: 0.9047 - val_loss: 0.6499 - val_accuracy: 0.9244\n",
            "Epoch 4/150\n",
            "17/17 [==============================] - 0s 5ms/step - loss: 0.6504 - accuracy: 0.9066 - val_loss: 0.6396 - val_accuracy: 0.9244\n",
            "Epoch 5/150\n",
            "17/17 [==============================] - 0s 5ms/step - loss: 0.6388 - accuracy: 0.9144 - val_loss: 0.6284 - val_accuracy: 0.9360\n",
            "Epoch 6/150\n",
            "17/17 [==============================] - 0s 4ms/step - loss: 0.6266 - accuracy: 0.9319 - val_loss: 0.6154 - val_accuracy: 0.9302\n",
            "Epoch 7/150\n",
            "17/17 [==============================] - 0s 4ms/step - loss: 0.6136 - accuracy: 0.9339 - val_loss: 0.6023 - val_accuracy: 0.9302\n",
            "Epoch 8/150\n",
            "17/17 [==============================] - 0s 4ms/step - loss: 0.5991 - accuracy: 0.9339 - val_loss: 0.5864 - val_accuracy: 0.9360\n",
            "Epoch 9/150\n",
            "17/17 [==============================] - 0s 5ms/step - loss: 0.5827 - accuracy: 0.9319 - val_loss: 0.5704 - val_accuracy: 0.9360\n",
            "Epoch 10/150\n",
            "17/17 [==============================] - 0s 5ms/step - loss: 0.5672 - accuracy: 0.9339 - val_loss: 0.5549 - val_accuracy: 0.9360\n",
            "Epoch 11/150\n",
            "17/17 [==============================] - 0s 4ms/step - loss: 0.5516 - accuracy: 0.9358 - val_loss: 0.5397 - val_accuracy: 0.9360\n",
            "Epoch 12/150\n",
            "17/17 [==============================] - 0s 4ms/step - loss: 0.5361 - accuracy: 0.9358 - val_loss: 0.5242 - val_accuracy: 0.9360\n",
            "Epoch 13/150\n",
            "17/17 [==============================] - 0s 7ms/step - loss: 0.5200 - accuracy: 0.9358 - val_loss: 0.5084 - val_accuracy: 0.9360\n",
            "Epoch 14/150\n",
            "17/17 [==============================] - 0s 6ms/step - loss: 0.5038 - accuracy: 0.9358 - val_loss: 0.4930 - val_accuracy: 0.9360\n",
            "Epoch 15/150\n",
            "17/17 [==============================] - 0s 6ms/step - loss: 0.4879 - accuracy: 0.9358 - val_loss: 0.4776 - val_accuracy: 0.9360\n",
            "Epoch 16/150\n",
            "17/17 [==============================] - 0s 7ms/step - loss: 0.4727 - accuracy: 0.9358 - val_loss: 0.4628 - val_accuracy: 0.9360\n",
            "Epoch 17/150\n",
            "17/17 [==============================] - 0s 6ms/step - loss: 0.4579 - accuracy: 0.9358 - val_loss: 0.4479 - val_accuracy: 0.9360\n",
            "Epoch 18/150\n",
            "17/17 [==============================] - 0s 6ms/step - loss: 0.4431 - accuracy: 0.9358 - val_loss: 0.4333 - val_accuracy: 0.9360\n",
            "Epoch 19/150\n",
            "17/17 [==============================] - 0s 5ms/step - loss: 0.4292 - accuracy: 0.9358 - val_loss: 0.4199 - val_accuracy: 0.9360\n",
            "Epoch 20/150\n",
            "17/17 [==============================] - 0s 6ms/step - loss: 0.4153 - accuracy: 0.9358 - val_loss: 0.4058 - val_accuracy: 0.9360\n",
            "Epoch 21/150\n",
            "17/17 [==============================] - 0s 6ms/step - loss: 0.4012 - accuracy: 0.9358 - val_loss: 0.3922 - val_accuracy: 0.9360\n",
            "Epoch 22/150\n",
            "17/17 [==============================] - 0s 5ms/step - loss: 0.3877 - accuracy: 0.9358 - val_loss: 0.3794 - val_accuracy: 0.9360\n",
            "Epoch 23/150\n",
            "17/17 [==============================] - 0s 5ms/step - loss: 0.3752 - accuracy: 0.9358 - val_loss: 0.3668 - val_accuracy: 0.9360\n",
            "Epoch 24/150\n",
            "17/17 [==============================] - 0s 6ms/step - loss: 0.3631 - accuracy: 0.9358 - val_loss: 0.3549 - val_accuracy: 0.9360\n",
            "Epoch 25/150\n",
            "17/17 [==============================] - 0s 6ms/step - loss: 0.3517 - accuracy: 0.9358 - val_loss: 0.3439 - val_accuracy: 0.9360\n",
            "Epoch 26/150\n",
            "17/17 [==============================] - 0s 6ms/step - loss: 0.3413 - accuracy: 0.9358 - val_loss: 0.3332 - val_accuracy: 0.9360\n",
            "Epoch 27/150\n",
            "17/17 [==============================] - 0s 6ms/step - loss: 0.3312 - accuracy: 0.9358 - val_loss: 0.3234 - val_accuracy: 0.9360\n",
            "Epoch 28/150\n",
            "17/17 [==============================] - 0s 6ms/step - loss: 0.3217 - accuracy: 0.9358 - val_loss: 0.3142 - val_accuracy: 0.9360\n",
            "Epoch 29/150\n",
            "17/17 [==============================] - 0s 6ms/step - loss: 0.3127 - accuracy: 0.9358 - val_loss: 0.3055 - val_accuracy: 0.9360\n",
            "Epoch 30/150\n",
            "17/17 [==============================] - 0s 6ms/step - loss: 0.3045 - accuracy: 0.9358 - val_loss: 0.2975 - val_accuracy: 0.9360\n",
            "Epoch 31/150\n",
            "17/17 [==============================] - 0s 5ms/step - loss: 0.2967 - accuracy: 0.9358 - val_loss: 0.2898 - val_accuracy: 0.9360\n",
            "Epoch 32/150\n",
            "17/17 [==============================] - 0s 6ms/step - loss: 0.2893 - accuracy: 0.9358 - val_loss: 0.2824 - val_accuracy: 0.9360\n",
            "Epoch 33/150\n",
            "17/17 [==============================] - 0s 6ms/step - loss: 0.2821 - accuracy: 0.9358 - val_loss: 0.2755 - val_accuracy: 0.9360\n",
            "Epoch 34/150\n",
            "17/17 [==============================] - 0s 6ms/step - loss: 0.2753 - accuracy: 0.9358 - val_loss: 0.2691 - val_accuracy: 0.9360\n",
            "Epoch 35/150\n",
            "17/17 [==============================] - 0s 6ms/step - loss: 0.2692 - accuracy: 0.9358 - val_loss: 0.2631 - val_accuracy: 0.9360\n",
            "Epoch 36/150\n",
            "17/17 [==============================] - 0s 7ms/step - loss: 0.2634 - accuracy: 0.9358 - val_loss: 0.2574 - val_accuracy: 0.9360\n",
            "Epoch 37/150\n",
            "17/17 [==============================] - 0s 7ms/step - loss: 0.2579 - accuracy: 0.9358 - val_loss: 0.2521 - val_accuracy: 0.9360\n",
            "Epoch 38/150\n",
            "17/17 [==============================] - 0s 6ms/step - loss: 0.2527 - accuracy: 0.9358 - val_loss: 0.2472 - val_accuracy: 0.9360\n",
            "Epoch 39/150\n",
            "17/17 [==============================] - 0s 6ms/step - loss: 0.2479 - accuracy: 0.9358 - val_loss: 0.2425 - val_accuracy: 0.9360\n",
            "Epoch 40/150\n",
            "17/17 [==============================] - 0s 5ms/step - loss: 0.2435 - accuracy: 0.9358 - val_loss: 0.2377 - val_accuracy: 0.9360\n",
            "Epoch 41/150\n",
            "17/17 [==============================] - 0s 6ms/step - loss: 0.2389 - accuracy: 0.9358 - val_loss: 0.2335 - val_accuracy: 0.9360\n",
            "Epoch 42/150\n",
            "17/17 [==============================] - 0s 6ms/step - loss: 0.2349 - accuracy: 0.9358 - val_loss: 0.2293 - val_accuracy: 0.9360\n",
            "Epoch 43/150\n",
            "17/17 [==============================] - 0s 7ms/step - loss: 0.2310 - accuracy: 0.9358 - val_loss: 0.2252 - val_accuracy: 0.9360\n",
            "Epoch 44/150\n",
            "17/17 [==============================] - 0s 6ms/step - loss: 0.2272 - accuracy: 0.9358 - val_loss: 0.2214 - val_accuracy: 0.9360\n",
            "Epoch 45/150\n",
            "17/17 [==============================] - 0s 7ms/step - loss: 0.2241 - accuracy: 0.9358 - val_loss: 0.2185 - val_accuracy: 0.9360\n",
            "Epoch 46/150\n",
            "17/17 [==============================] - 0s 7ms/step - loss: 0.2213 - accuracy: 0.9358 - val_loss: 0.2152 - val_accuracy: 0.9360\n",
            "Epoch 47/150\n",
            "17/17 [==============================] - 0s 6ms/step - loss: 0.2184 - accuracy: 0.9358 - val_loss: 0.2118 - val_accuracy: 0.9360\n",
            "Epoch 48/150\n",
            "17/17 [==============================] - 0s 7ms/step - loss: 0.2153 - accuracy: 0.9358 - val_loss: 0.2084 - val_accuracy: 0.9360\n",
            "Epoch 49/150\n",
            "17/17 [==============================] - 0s 6ms/step - loss: 0.2122 - accuracy: 0.9358 - val_loss: 0.2052 - val_accuracy: 0.9360\n",
            "Epoch 50/150\n",
            "17/17 [==============================] - 0s 6ms/step - loss: 0.2094 - accuracy: 0.9358 - val_loss: 0.2021 - val_accuracy: 0.9360\n",
            "Epoch 51/150\n",
            "17/17 [==============================] - 0s 7ms/step - loss: 0.2066 - accuracy: 0.9358 - val_loss: 0.1992 - val_accuracy: 0.9360\n",
            "Epoch 52/150\n",
            "17/17 [==============================] - 0s 6ms/step - loss: 0.2039 - accuracy: 0.9358 - val_loss: 0.1963 - val_accuracy: 0.9360\n",
            "Epoch 53/150\n",
            "17/17 [==============================] - 0s 4ms/step - loss: 0.2013 - accuracy: 0.9358 - val_loss: 0.1935 - val_accuracy: 0.9360\n",
            "Epoch 54/150\n",
            "17/17 [==============================] - 0s 5ms/step - loss: 0.1990 - accuracy: 0.9358 - val_loss: 0.1909 - val_accuracy: 0.9360\n",
            "Epoch 55/150\n",
            "17/17 [==============================] - 0s 4ms/step - loss: 0.1967 - accuracy: 0.9358 - val_loss: 0.1883 - val_accuracy: 0.9360\n",
            "Epoch 56/150\n",
            "17/17 [==============================] - 0s 4ms/step - loss: 0.1945 - accuracy: 0.9358 - val_loss: 0.1859 - val_accuracy: 0.9360\n",
            "Epoch 57/150\n",
            "17/17 [==============================] - 0s 4ms/step - loss: 0.1925 - accuracy: 0.9358 - val_loss: 0.1835 - val_accuracy: 0.9360\n",
            "Epoch 58/150\n",
            "17/17 [==============================] - 0s 4ms/step - loss: 0.1904 - accuracy: 0.9358 - val_loss: 0.1807 - val_accuracy: 0.9360\n",
            "Epoch 59/150\n",
            "17/17 [==============================] - 0s 5ms/step - loss: 0.1884 - accuracy: 0.9358 - val_loss: 0.1785 - val_accuracy: 0.9360\n",
            "Epoch 60/150\n",
            "17/17 [==============================] - 0s 4ms/step - loss: 0.1865 - accuracy: 0.9358 - val_loss: 0.1764 - val_accuracy: 0.9360\n",
            "Epoch 61/150\n",
            "17/17 [==============================] - 0s 5ms/step - loss: 0.1845 - accuracy: 0.9358 - val_loss: 0.1743 - val_accuracy: 0.9360\n",
            "Epoch 62/150\n",
            "17/17 [==============================] - 0s 4ms/step - loss: 0.1827 - accuracy: 0.9358 - val_loss: 0.1722 - val_accuracy: 0.9360\n",
            "Epoch 63/150\n",
            "17/17 [==============================] - 0s 4ms/step - loss: 0.1809 - accuracy: 0.9358 - val_loss: 0.1703 - val_accuracy: 0.9360\n",
            "Epoch 64/150\n",
            "17/17 [==============================] - 0s 4ms/step - loss: 0.1792 - accuracy: 0.9358 - val_loss: 0.1682 - val_accuracy: 0.9360\n",
            "Epoch 65/150\n",
            "17/17 [==============================] - 0s 4ms/step - loss: 0.1775 - accuracy: 0.9358 - val_loss: 0.1664 - val_accuracy: 0.9360\n",
            "Epoch 66/150\n",
            "17/17 [==============================] - 0s 4ms/step - loss: 0.1760 - accuracy: 0.9358 - val_loss: 0.1645 - val_accuracy: 0.9360\n",
            "Epoch 67/150\n",
            "17/17 [==============================] - 0s 5ms/step - loss: 0.1744 - accuracy: 0.9358 - val_loss: 0.1626 - val_accuracy: 0.9360\n",
            "Epoch 68/150\n",
            "17/17 [==============================] - 0s 4ms/step - loss: 0.1729 - accuracy: 0.9358 - val_loss: 0.1606 - val_accuracy: 0.9360\n",
            "Epoch 69/150\n",
            "17/17 [==============================] - 0s 4ms/step - loss: 0.1713 - accuracy: 0.9358 - val_loss: 0.1588 - val_accuracy: 0.9360\n",
            "Epoch 70/150\n",
            "17/17 [==============================] - 0s 4ms/step - loss: 0.1697 - accuracy: 0.9358 - val_loss: 0.1564 - val_accuracy: 0.9360\n",
            "Epoch 71/150\n",
            "17/17 [==============================] - 0s 4ms/step - loss: 0.1680 - accuracy: 0.9358 - val_loss: 0.1545 - val_accuracy: 0.9360\n",
            "Epoch 72/150\n",
            "17/17 [==============================] - 0s 4ms/step - loss: 0.1665 - accuracy: 0.9358 - val_loss: 0.1525 - val_accuracy: 0.9360\n",
            "Epoch 73/150\n",
            "17/17 [==============================] - 0s 4ms/step - loss: 0.1649 - accuracy: 0.9358 - val_loss: 0.1507 - val_accuracy: 0.9360\n",
            "Epoch 74/150\n",
            "17/17 [==============================] - 0s 4ms/step - loss: 0.1634 - accuracy: 0.9358 - val_loss: 0.1488 - val_accuracy: 0.9360\n",
            "Epoch 75/150\n",
            "17/17 [==============================] - 0s 4ms/step - loss: 0.1619 - accuracy: 0.9358 - val_loss: 0.1471 - val_accuracy: 0.9360\n",
            "Epoch 76/150\n",
            "17/17 [==============================] - 0s 4ms/step - loss: 0.1605 - accuracy: 0.9358 - val_loss: 0.1454 - val_accuracy: 0.9360\n",
            "Epoch 77/150\n",
            "17/17 [==============================] - 0s 4ms/step - loss: 0.1592 - accuracy: 0.9358 - val_loss: 0.1435 - val_accuracy: 0.9360\n",
            "Epoch 78/150\n",
            "17/17 [==============================] - 0s 5ms/step - loss: 0.1577 - accuracy: 0.9358 - val_loss: 0.1419 - val_accuracy: 0.9360\n",
            "Epoch 79/150\n",
            "17/17 [==============================] - 0s 5ms/step - loss: 0.1564 - accuracy: 0.9358 - val_loss: 0.1405 - val_accuracy: 0.9360\n",
            "Epoch 80/150\n",
            "17/17 [==============================] - 0s 5ms/step - loss: 0.1550 - accuracy: 0.9358 - val_loss: 0.1389 - val_accuracy: 0.9360\n",
            "Epoch 81/150\n",
            "17/17 [==============================] - 0s 5ms/step - loss: 0.1536 - accuracy: 0.9358 - val_loss: 0.1372 - val_accuracy: 0.9360\n",
            "Epoch 82/150\n",
            "17/17 [==============================] - 0s 4ms/step - loss: 0.1521 - accuracy: 0.9358 - val_loss: 0.1355 - val_accuracy: 0.9360\n",
            "Epoch 83/150\n",
            "17/17 [==============================] - 0s 5ms/step - loss: 0.1507 - accuracy: 0.9358 - val_loss: 0.1338 - val_accuracy: 0.9360\n",
            "Epoch 84/150\n",
            "17/17 [==============================] - 0s 4ms/step - loss: 0.1494 - accuracy: 0.9358 - val_loss: 0.1321 - val_accuracy: 0.9360\n",
            "Epoch 85/150\n",
            "17/17 [==============================] - 0s 4ms/step - loss: 0.1480 - accuracy: 0.9358 - val_loss: 0.1302 - val_accuracy: 0.9360\n",
            "Epoch 86/150\n",
            "17/17 [==============================] - 0s 5ms/step - loss: 0.1465 - accuracy: 0.9358 - val_loss: 0.1284 - val_accuracy: 0.9360\n",
            "Epoch 87/150\n",
            "17/17 [==============================] - 0s 5ms/step - loss: 0.1450 - accuracy: 0.9358 - val_loss: 0.1266 - val_accuracy: 0.9360\n",
            "Epoch 88/150\n",
            "17/17 [==============================] - 0s 4ms/step - loss: 0.1436 - accuracy: 0.9358 - val_loss: 0.1248 - val_accuracy: 0.9360\n",
            "Epoch 89/150\n",
            "17/17 [==============================] - 0s 6ms/step - loss: 0.1424 - accuracy: 0.9358 - val_loss: 0.1229 - val_accuracy: 0.9360\n",
            "Epoch 90/150\n",
            "17/17 [==============================] - 0s 5ms/step - loss: 0.1410 - accuracy: 0.9358 - val_loss: 0.1213 - val_accuracy: 0.9360\n",
            "Epoch 91/150\n",
            "17/17 [==============================] - 0s 6ms/step - loss: 0.1397 - accuracy: 0.9377 - val_loss: 0.1195 - val_accuracy: 0.9360\n",
            "Epoch 92/150\n",
            "17/17 [==============================] - 0s 4ms/step - loss: 0.1384 - accuracy: 0.9377 - val_loss: 0.1178 - val_accuracy: 0.9360\n",
            "Epoch 93/150\n",
            "17/17 [==============================] - 0s 5ms/step - loss: 0.1372 - accuracy: 0.9377 - val_loss: 0.1162 - val_accuracy: 0.9360\n",
            "Epoch 94/150\n",
            "17/17 [==============================] - 0s 4ms/step - loss: 0.1361 - accuracy: 0.9377 - val_loss: 0.1153 - val_accuracy: 0.9360\n",
            "Epoch 95/150\n",
            "17/17 [==============================] - 0s 5ms/step - loss: 0.1350 - accuracy: 0.9397 - val_loss: 0.1139 - val_accuracy: 0.9419\n",
            "Epoch 96/150\n",
            "17/17 [==============================] - 0s 5ms/step - loss: 0.1339 - accuracy: 0.9416 - val_loss: 0.1126 - val_accuracy: 0.9419\n",
            "Epoch 97/150\n",
            "17/17 [==============================] - 0s 5ms/step - loss: 0.1327 - accuracy: 0.9416 - val_loss: 0.1111 - val_accuracy: 0.9360\n",
            "Epoch 98/150\n",
            "17/17 [==============================] - 0s 5ms/step - loss: 0.1315 - accuracy: 0.9455 - val_loss: 0.1097 - val_accuracy: 0.9419\n",
            "Epoch 99/150\n",
            "17/17 [==============================] - 0s 4ms/step - loss: 0.1303 - accuracy: 0.9494 - val_loss: 0.1083 - val_accuracy: 0.9360\n",
            "Epoch 100/150\n",
            "17/17 [==============================] - 0s 4ms/step - loss: 0.1292 - accuracy: 0.9494 - val_loss: 0.1070 - val_accuracy: 0.9360\n",
            "Epoch 101/150\n",
            "17/17 [==============================] - 0s 5ms/step - loss: 0.1281 - accuracy: 0.9514 - val_loss: 0.1057 - val_accuracy: 0.9360\n",
            "Epoch 102/150\n",
            "17/17 [==============================] - 0s 6ms/step - loss: 0.1269 - accuracy: 0.9514 - val_loss: 0.1047 - val_accuracy: 0.9302\n",
            "Epoch 103/150\n",
            "17/17 [==============================] - 0s 4ms/step - loss: 0.1257 - accuracy: 0.9514 - val_loss: 0.1036 - val_accuracy: 0.9302\n",
            "Epoch 104/150\n",
            "17/17 [==============================] - 0s 5ms/step - loss: 0.1247 - accuracy: 0.9514 - val_loss: 0.1024 - val_accuracy: 0.9302\n",
            "Epoch 105/150\n",
            "17/17 [==============================] - 0s 5ms/step - loss: 0.1237 - accuracy: 0.9494 - val_loss: 0.1015 - val_accuracy: 0.9302\n",
            "Epoch 106/150\n",
            "17/17 [==============================] - 0s 5ms/step - loss: 0.1227 - accuracy: 0.9494 - val_loss: 0.1005 - val_accuracy: 0.9302\n",
            "Epoch 107/150\n",
            "17/17 [==============================] - 0s 5ms/step - loss: 0.1217 - accuracy: 0.9494 - val_loss: 0.0994 - val_accuracy: 0.9302\n",
            "Epoch 108/150\n",
            "17/17 [==============================] - 0s 5ms/step - loss: 0.1208 - accuracy: 0.9494 - val_loss: 0.0984 - val_accuracy: 0.9302\n",
            "Epoch 109/150\n",
            "17/17 [==============================] - 0s 5ms/step - loss: 0.1199 - accuracy: 0.9514 - val_loss: 0.0975 - val_accuracy: 0.9302\n",
            "Epoch 110/150\n",
            "17/17 [==============================] - 0s 5ms/step - loss: 0.1188 - accuracy: 0.9514 - val_loss: 0.0965 - val_accuracy: 0.9360\n",
            "Epoch 111/150\n",
            "17/17 [==============================] - 0s 4ms/step - loss: 0.1178 - accuracy: 0.9533 - val_loss: 0.0957 - val_accuracy: 0.9419\n",
            "Epoch 112/150\n",
            "17/17 [==============================] - 0s 5ms/step - loss: 0.1169 - accuracy: 0.9553 - val_loss: 0.0948 - val_accuracy: 0.9419\n",
            "Epoch 113/150\n",
            "17/17 [==============================] - 0s 4ms/step - loss: 0.1159 - accuracy: 0.9533 - val_loss: 0.0943 - val_accuracy: 0.9477\n",
            "Epoch 114/150\n",
            "17/17 [==============================] - 0s 5ms/step - loss: 0.1152 - accuracy: 0.9553 - val_loss: 0.0935 - val_accuracy: 0.9477\n",
            "Epoch 115/150\n",
            "17/17 [==============================] - 0s 4ms/step - loss: 0.1144 - accuracy: 0.9553 - val_loss: 0.0927 - val_accuracy: 0.9535\n",
            "Epoch 116/150\n",
            "17/17 [==============================] - 0s 5ms/step - loss: 0.1135 - accuracy: 0.9572 - val_loss: 0.0920 - val_accuracy: 0.9477\n",
            "Epoch 117/150\n",
            "17/17 [==============================] - 0s 4ms/step - loss: 0.1127 - accuracy: 0.9572 - val_loss: 0.0911 - val_accuracy: 0.9477\n",
            "Epoch 118/150\n",
            "17/17 [==============================] - 0s 4ms/step - loss: 0.1119 - accuracy: 0.9572 - val_loss: 0.0903 - val_accuracy: 0.9535\n",
            "Epoch 119/150\n",
            "17/17 [==============================] - 0s 5ms/step - loss: 0.1113 - accuracy: 0.9572 - val_loss: 0.0895 - val_accuracy: 0.9535\n",
            "Epoch 120/150\n",
            "17/17 [==============================] - 0s 5ms/step - loss: 0.1106 - accuracy: 0.9572 - val_loss: 0.0889 - val_accuracy: 0.9593\n",
            "Epoch 121/150\n",
            "17/17 [==============================] - 0s 4ms/step - loss: 0.1100 - accuracy: 0.9572 - val_loss: 0.0882 - val_accuracy: 0.9593\n",
            "Epoch 122/150\n",
            "17/17 [==============================] - 0s 4ms/step - loss: 0.1093 - accuracy: 0.9572 - val_loss: 0.0875 - val_accuracy: 0.9593\n",
            "Epoch 123/150\n",
            "17/17 [==============================] - 0s 5ms/step - loss: 0.1088 - accuracy: 0.9572 - val_loss: 0.0869 - val_accuracy: 0.9593\n",
            "Epoch 124/150\n",
            "17/17 [==============================] - 0s 4ms/step - loss: 0.1081 - accuracy: 0.9553 - val_loss: 0.0864 - val_accuracy: 0.9651\n",
            "Epoch 125/150\n",
            "17/17 [==============================] - 0s 5ms/step - loss: 0.1076 - accuracy: 0.9572 - val_loss: 0.0858 - val_accuracy: 0.9651\n",
            "Epoch 126/150\n",
            "17/17 [==============================] - 0s 4ms/step - loss: 0.1071 - accuracy: 0.9553 - val_loss: 0.0852 - val_accuracy: 0.9651\n",
            "Epoch 127/150\n",
            "17/17 [==============================] - 0s 4ms/step - loss: 0.1065 - accuracy: 0.9611 - val_loss: 0.0848 - val_accuracy: 0.9651\n",
            "Epoch 128/150\n",
            "17/17 [==============================] - 0s 5ms/step - loss: 0.1060 - accuracy: 0.9611 - val_loss: 0.0843 - val_accuracy: 0.9651\n",
            "Epoch 129/150\n",
            "17/17 [==============================] - 0s 4ms/step - loss: 0.1055 - accuracy: 0.9611 - val_loss: 0.0839 - val_accuracy: 0.9651\n",
            "Epoch 130/150\n",
            "17/17 [==============================] - 0s 4ms/step - loss: 0.1050 - accuracy: 0.9611 - val_loss: 0.0834 - val_accuracy: 0.9651\n",
            "Epoch 131/150\n",
            "17/17 [==============================] - 0s 4ms/step - loss: 0.1044 - accuracy: 0.9611 - val_loss: 0.0830 - val_accuracy: 0.9651\n",
            "Epoch 132/150\n",
            "17/17 [==============================] - 0s 4ms/step - loss: 0.1040 - accuracy: 0.9650 - val_loss: 0.0825 - val_accuracy: 0.9651\n",
            "Epoch 133/150\n",
            "17/17 [==============================] - 0s 5ms/step - loss: 0.1036 - accuracy: 0.9650 - val_loss: 0.0822 - val_accuracy: 0.9651\n",
            "Epoch 134/150\n",
            "17/17 [==============================] - 0s 4ms/step - loss: 0.1031 - accuracy: 0.9650 - val_loss: 0.0818 - val_accuracy: 0.9651\n",
            "Epoch 135/150\n",
            "17/17 [==============================] - 0s 4ms/step - loss: 0.1026 - accuracy: 0.9650 - val_loss: 0.0814 - val_accuracy: 0.9709\n",
            "Epoch 136/150\n",
            "17/17 [==============================] - 0s 4ms/step - loss: 0.1021 - accuracy: 0.9650 - val_loss: 0.0811 - val_accuracy: 0.9709\n",
            "Epoch 137/150\n",
            "17/17 [==============================] - 0s 4ms/step - loss: 0.1017 - accuracy: 0.9650 - val_loss: 0.0807 - val_accuracy: 0.9709\n",
            "Epoch 138/150\n",
            "17/17 [==============================] - 0s 4ms/step - loss: 0.1013 - accuracy: 0.9650 - val_loss: 0.0804 - val_accuracy: 0.9709\n",
            "Epoch 139/150\n",
            "17/17 [==============================] - 0s 5ms/step - loss: 0.1009 - accuracy: 0.9650 - val_loss: 0.0800 - val_accuracy: 0.9709\n",
            "Epoch 140/150\n",
            "17/17 [==============================] - 0s 5ms/step - loss: 0.1005 - accuracy: 0.9650 - val_loss: 0.0798 - val_accuracy: 0.9709\n",
            "Epoch 141/150\n",
            "17/17 [==============================] - 0s 4ms/step - loss: 0.1001 - accuracy: 0.9650 - val_loss: 0.0795 - val_accuracy: 0.9709\n",
            "Epoch 142/150\n",
            "17/17 [==============================] - 0s 5ms/step - loss: 0.0997 - accuracy: 0.9650 - val_loss: 0.0792 - val_accuracy: 0.9709\n",
            "Epoch 143/150\n",
            "17/17 [==============================] - 0s 4ms/step - loss: 0.0993 - accuracy: 0.9650 - val_loss: 0.0789 - val_accuracy: 0.9709\n",
            "Epoch 144/150\n",
            "17/17 [==============================] - 0s 5ms/step - loss: 0.0990 - accuracy: 0.9650 - val_loss: 0.0786 - val_accuracy: 0.9709\n",
            "Epoch 145/150\n",
            "17/17 [==============================] - 0s 5ms/step - loss: 0.0986 - accuracy: 0.9650 - val_loss: 0.0784 - val_accuracy: 0.9709\n",
            "Epoch 146/150\n",
            "17/17 [==============================] - 0s 4ms/step - loss: 0.0983 - accuracy: 0.9650 - val_loss: 0.0782 - val_accuracy: 0.9709\n",
            "Epoch 147/150\n",
            "17/17 [==============================] - 0s 5ms/step - loss: 0.0979 - accuracy: 0.9650 - val_loss: 0.0780 - val_accuracy: 0.9709\n",
            "Epoch 148/150\n",
            "17/17 [==============================] - 0s 4ms/step - loss: 0.0976 - accuracy: 0.9650 - val_loss: 0.0778 - val_accuracy: 0.9709\n",
            "Epoch 149/150\n",
            "17/17 [==============================] - 0s 4ms/step - loss: 0.0973 - accuracy: 0.9650 - val_loss: 0.0776 - val_accuracy: 0.9709\n",
            "Epoch 150/150\n",
            "17/17 [==============================] - 0s 4ms/step - loss: 0.0970 - accuracy: 0.9650 - val_loss: 0.0774 - val_accuracy: 0.9709\n"
          ]
        }
      ]
    },
    {
      "cell_type": "code",
      "source": [
        "plt.plot(history.history['accuracy'], label='Train')\n",
        "plt.plot(history.history['val_accuracy'], label='Validation')\n",
        "plt.ylabel('Accuracy')\n",
        "plt.xlabel('Epoch')\n",
        "plt.title('Model Accuracy')\n",
        "plt.legend(loc='upper left')"
      ],
      "metadata": {
        "colab": {
          "base_uri": "https://localhost:8080/",
          "height": 489
        },
        "id": "98OiyIXfMscl",
        "outputId": "97d10b8b-84b4-4c56-ba6f-dc203845b789"
      },
      "execution_count": 73,
      "outputs": [
        {
          "output_type": "execute_result",
          "data": {
            "text/plain": [
              "<matplotlib.legend.Legend at 0x7f6b878c3eb0>"
            ]
          },
          "metadata": {},
          "execution_count": 73
        },
        {
          "output_type": "display_data",
          "data": {
            "text/plain": [
              "<Figure size 640x480 with 1 Axes>"
            ],
            "image/png": "[encoded data removed]"
          },
          "metadata": {}
        }
      ]
    },
    {
      "cell_type": "code",
      "source": [
        "plt.plot(history.history['loss'], label='Train')\n",
        "plt.plot(history.history['val_loss'], label='Validation')\n",
        "plt.ylabel('Loss')\n",
        "plt.xlabel('Epoch')\n",
        "plt.title('Model Loss')\n",
        "plt.legend(loc='upper right')"
      ],
      "metadata": {
        "colab": {
          "base_uri": "https://localhost:8080/",
          "height": 489
        },
        "id": "1-jQ2D1_MvuP",
        "outputId": "49c28157-1be9-4261-eb6c-fa55cd1eaf49"
      },
      "execution_count": 74,
      "outputs": [
        {
          "output_type": "execute_result",
          "data": {
            "text/plain": [
              "<matplotlib.legend.Legend at 0x7f6b8113f5e0>"
            ]
          },
          "metadata": {},
          "execution_count": 74
        },
        {
          "output_type": "display_data",
          "data": {
            "text/plain": [
              "<Figure size 640x480 with 1 Axes>"
            ],
            "image/png": "[encoded data removed]"
          },
          "metadata": {}
        }
      ]
    },
    {
      "cell_type": "code",
      "source": [
        "test_loss, test_acc = model.evaluate(X_test, y_test)\n",
        "print(\"Test loss:\", test_loss)\n",
        "print(\"Test accuracy:\", test_acc)"
      ],
      "metadata": {
        "colab": {
          "base_uri": "https://localhost:8080/"
        },
        "id": "zvQEZe_pMyNM",
        "outputId": "10cce3f0-dc75-4bbf-8ac3-e27127071181"
      },
      "execution_count": 120,
      "outputs": [
        {
          "output_type": "stream",
          "name": "stdout",
          "text": [
            "6/6 [==============================] - 0s 3ms/step - loss: 0.1400 - accuracy: 0.9535\n",
            "Test loss: 0.14004087448120117\n",
            "Test accuracy: 0.9534883499145508\n"
          ]
        }
      ]
    },
    {
      "cell_type": "code",
      "source": [
        "prediction = model.predict(X_test)"
      ],
      "metadata": {
        "colab": {
          "base_uri": "https://localhost:8080/"
        },
        "id": "ANvrI_WIOmxp",
        "outputId": "e8b58e52-2c15-4356-fe9d-4e822f4dde5e"
      },
      "execution_count": 121,
      "outputs": [
        {
          "output_type": "stream",
          "name": "stdout",
          "text": [
            "6/6 [==============================] - 0s 2ms/step\n"
          ]
        }
      ]
    },
    {
      "cell_type": "code",
      "source": [
        "data_ans = pd.DataFrame({'Biopsy' :y_test})\n",
        "data_ans['Prediction'] = np.round_(prediction)"
      ],
      "metadata": {
        "id": "wiLxCL_3PDe0"
      },
      "execution_count": 122,
      "outputs": []
    },
    {
      "cell_type": "code",
      "source": [
        "data_ans"
      ],
      "metadata": {
        "colab": {
          "base_uri": "https://localhost:8080/",
          "height": 424
        },
        "id": "Hn0zPIlePIuh",
        "outputId": "301aa1b7-577f-489b-ce25-d4fc1444c544"
      },
      "execution_count": 123,
      "outputs": [
        {
          "output_type": "execute_result",
          "data": {
            "text/plain": [
              "     Biopsy  Prediction\n",
              "713       0         0.0\n",
              "604       0         0.0\n",
              "120       0         0.0\n",
              "208       0         0.0\n",
              "380       0         0.0\n",
              "..      ...         ...\n",
              "610       1         1.0\n",
              "235       0         0.0\n",
              "333       0         0.0\n",
              "215       0         0.0\n",
              "792       0         0.0\n",
              "\n",
              "[172 rows x 2 columns]"
            ],
            "text/html": [
              "\n",
              "  <div id=\"df-f6b74047-8fe3-4a8c-87e9-da4cd890528b\">\n",
              "    <div class=\"colab-df-container\">\n",
              "      <div>\n",
              "<style scoped>\n",
              "    .dataframe tbody tr th:only-of-type {\n",
              "        vertical-align: middle;\n",
              "    }\n",
              "\n",
              "    .dataframe tbody tr th {\n",
              "        vertical-align: top;\n",
              "    }\n",
              "\n",
              "    .dataframe thead th {\n",
              "        text-align: right;\n",
              "    }\n",
              "</style>\n",
              "<table border=\"1\" class=\"dataframe\">\n",
              "  <thead>\n",
              "    <tr style=\"text-align: right;\">\n",
              "      <th></th>\n",
              "      <th>Biopsy</th>\n",
              "      <th>Prediction</th>\n",
              "    </tr>\n",
              "  </thead>\n",
              "  <tbody>\n",
              "    <tr>\n",
              "      <th>713</th>\n",
              "      <td>0</td>\n",
              "      <td>0.0</td>\n",
              "    </tr>\n",
              "    <tr>\n",
              "      <th>604</th>\n",
              "      <td>0</td>\n",
              "      <td>0.0</td>\n",
              "    </tr>\n",
              "    <tr>\n",
              "      <th>120</th>\n",
              "      <td>0</td>\n",
              "      <td>0.0</td>\n",
              "    </tr>\n",
              "    <tr>\n",
              "      <th>208</th>\n",
              "      <td>0</td>\n",
              "      <td>0.0</td>\n",
              "    </tr>\n",
              "    <tr>\n",
              "      <th>380</th>\n",
              "      <td>0</td>\n",
              "      <td>0.0</td>\n",
              "    </tr>\n",
              "    <tr>\n",
              "      <th>...</th>\n",
              "      <td>...</td>\n",
              "      <td>...</td>\n",
              "    </tr>\n",
              "    <tr>\n",
              "      <th>610</th>\n",
              "      <td>1</td>\n",
              "      <td>1.0</td>\n",
              "    </tr>\n",
              "    <tr>\n",
              "      <th>235</th>\n",
              "      <td>0</td>\n",
              "      <td>0.0</td>\n",
              "    </tr>\n",
              "    <tr>\n",
              "      <th>333</th>\n",
              "      <td>0</td>\n",
              "      <td>0.0</td>\n",
              "    </tr>\n",
              "    <tr>\n",
              "      <th>215</th>\n",
              "      <td>0</td>\n",
              "      <td>0.0</td>\n",
              "    </tr>\n",
              "    <tr>\n",
              "      <th>792</th>\n",
              "      <td>0</td>\n",
              "      <td>0.0</td>\n",
              "    </tr>\n",
              "  </tbody>\n",
              "</table>\n",
              "<p>172 rows × 2 columns</p>\n",
              "</div>\n",
              "      <button class=\"colab-df-convert\" onclick=\"convertToInteractive('df-f6b74047-8fe3-4a8c-87e9-da4cd890528b')\"\n",
              "              title=\"Convert this dataframe to an interactive table.\"\n",
              "              style=\"display:none;\">\n",
              "        \n",
              "  <svg xmlns=\"http://www.w3.org/2000/svg\" height=\"24px\"viewBox=\"0 0 24 24\"\n",
              "       width=\"24px\">\n",
              "    <path d=\"M0 0h24v24H0V0z\" fill=\"none\"/>\n",
              "    <path d=\"M18.56 5.44l.94 2.06.94-2.06 2.06-.94-2.06-.94-.94-2.06-.94 2.06-2.06.94zm-11 1L8.5 8.5l.94-2.06 2.06-.94-2.06-.94L8.5 2.5l-.94 2.06-2.06.94zm10 10l.94 2.06.94-2.06 2.06-.94-2.06-.94-.94-2.06-.94 2.06-2.06.94z\"/><path d=\"M17.41 7.96l-1.37-1.37c-.4-.4-.92-.59-1.43-.59-.52 0-1.04.2-1.43.59L10.3 9.45l-7.72 7.72c-.78.78-.78 2.05 0 2.83L4 21.41c.39.39.9.59 1.41.59.51 0 1.02-.2 1.41-.59l7.78-7.78 2.81-2.81c.8-.78.8-2.07 0-2.86zM5.41 20L4 18.59l7.72-7.72 1.47 1.35L5.41 20z\"/>\n",
              "  </svg>\n",
              "      </button>\n",
              "      \n",
              "  <style>\n",
              "    .colab-df-container {\n",
              "      display:flex;\n",
              "      flex-wrap:wrap;\n",
              "      gap: 12px;\n",
              "    }\n",
              "\n",
              "    .colab-df-convert {\n",
              "      background-color: #E8F0FE;\n",
              "      border: none;\n",
              "      border-radius: 50%;\n",
              "      cursor: pointer;\n",
              "      display: none;\n",
              "      fill: #1967D2;\n",
              "      height: 32px;\n",
              "      padding: 0 0 0 0;\n",
              "      width: 32px;\n",
              "    }\n",
              "\n",
              "    .colab-df-convert:hover {\n",
              "      background-color: #E2EBFA;\n",
              "      box-shadow: 0px 1px 2px rgba(60, 64, 67, 0.3), 0px 1px 3px 1px rgba(60, 64, 67, 0.15);\n",
              "      fill: #174EA6;\n",
              "    }\n",
              "\n",
              "    [theme=dark] .colab-df-convert {\n",
              "      background-color: #3B4455;\n",
              "      fill: #D2E3FC;\n",
              "    }\n",
              "\n",
              "    [theme=dark] .colab-df-convert:hover {\n",
              "      background-color: #434B5C;\n",
              "      box-shadow: 0px 1px 3px 1px rgba(0, 0, 0, 0.15);\n",
              "      filter: drop-shadow(0px 1px 2px rgba(0, 0, 0, 0.3));\n",
              "      fill: #FFFFFF;\n",
              "    }\n",
              "  </style>\n",
              "\n",
              "      <script>\n",
              "        const buttonEl =\n",
              "          document.querySelector('#df-f6b74047-8fe3-4a8c-87e9-da4cd890528b button.colab-df-convert');\n",
              "        buttonEl.style.display =\n",
              "          google.colab.kernel.accessAllowed ? 'block' : 'none';\n",
              "\n",
              "        async function convertToInteractive(key) {\n",
              "          const element = document.querySelector('#df-f6b74047-8fe3-4a8c-87e9-da4cd890528b');\n",
              "          const dataTable =\n",
              "            await google.colab.kernel.invokeFunction('convertToInteractive',\n",
              "                                                     [key], {});\n",
              "          if (!dataTable) return;\n",
              "\n",
              "          const docLinkHtml = 'Like what you see? Visit the ' +\n",
              "            '<a target=\"_blank\" href=https://colab.research.google.com/notebooks/data_table.ipynb>data table notebook</a>'\n",
              "            + ' to learn more about interactive tables.';\n",
              "          element.innerHTML = '';\n",
              "          dataTable['output_type'] = 'display_data';\n",
              "          await google.colab.output.renderOutput(dataTable, element);\n",
              "          const docLink = document.createElement('div');\n",
              "          docLink.innerHTML = docLinkHtml;\n",
              "          element.appendChild(docLink);\n",
              "        }\n",
              "      </script>\n",
              "    </div>\n",
              "  </div>\n",
              "  "
            ]
          },
          "metadata": {},
          "execution_count": 123
        }
      ]
    },
    {
      "cell_type": "code",
      "source": [
        "data_ans[data_ans['Biopsy'] != data_ans['Prediction']]"
      ],
      "metadata": {
        "colab": {
          "base_uri": "https://localhost:8080/",
          "height": 300
        },
        "id": "fpNcD1lnPYrg",
        "outputId": "8677ca69-97a2-44c5-d46c-39b46b7e4872"
      },
      "execution_count": 124,
      "outputs": [
        {
          "output_type": "execute_result",
          "data": {
            "text/plain": [
              "     Biopsy  Prediction\n",
              "23        1         0.0\n",
              "704       0         1.0\n",
              "227       0         1.0\n",
              "377       1         0.0\n",
              "275       0         1.0\n",
              "687       1         0.0\n",
              "753       1         0.0\n",
              "411       0         1.0"
            ],
            "text/html": [
              "\n",
              "  <div id=\"df-9a4eb969-fc7c-4170-91d4-fe4ec4dfe939\">\n",
              "    <div class=\"colab-df-container\">\n",
              "      <div>\n",
              "<style scoped>\n",
              "    .dataframe tbody tr th:only-of-type {\n",
              "        vertical-align: middle;\n",
              "    }\n",
              "\n",
              "    .dataframe tbody tr th {\n",
              "        vertical-align: top;\n",
              "    }\n",
              "\n",
              "    .dataframe thead th {\n",
              "        text-align: right;\n",
              "    }\n",
              "</style>\n",
              "<table border=\"1\" class=\"dataframe\">\n",
              "  <thead>\n",
              "    <tr style=\"text-align: right;\">\n",
              "      <th></th>\n",
              "      <th>Biopsy</th>\n",
              "      <th>Prediction</th>\n",
              "    </tr>\n",
              "  </thead>\n",
              "  <tbody>\n",
              "    <tr>\n",
              "      <th>23</th>\n",
              "      <td>1</td>\n",
              "      <td>0.0</td>\n",
              "    </tr>\n",
              "    <tr>\n",
              "      <th>704</th>\n",
              "      <td>0</td>\n",
              "      <td>1.0</td>\n",
              "    </tr>\n",
              "    <tr>\n",
              "      <th>227</th>\n",
              "      <td>0</td>\n",
              "      <td>1.0</td>\n",
              "    </tr>\n",
              "    <tr>\n",
              "      <th>377</th>\n",
              "      <td>1</td>\n",
              "      <td>0.0</td>\n",
              "    </tr>\n",
              "    <tr>\n",
              "      <th>275</th>\n",
              "      <td>0</td>\n",
              "      <td>1.0</td>\n",
              "    </tr>\n",
              "    <tr>\n",
              "      <th>687</th>\n",
              "      <td>1</td>\n",
              "      <td>0.0</td>\n",
              "    </tr>\n",
              "    <tr>\n",
              "      <th>753</th>\n",
              "      <td>1</td>\n",
              "      <td>0.0</td>\n",
              "    </tr>\n",
              "    <tr>\n",
              "      <th>411</th>\n",
              "      <td>0</td>\n",
              "      <td>1.0</td>\n",
              "    </tr>\n",
              "  </tbody>\n",
              "</table>\n",
              "</div>\n",
              "      <button class=\"colab-df-convert\" onclick=\"convertToInteractive('df-9a4eb969-fc7c-4170-91d4-fe4ec4dfe939')\"\n",
              "              title=\"Convert this dataframe to an interactive table.\"\n",
              "              style=\"display:none;\">\n",
              "        \n",
              "  <svg xmlns=\"http://www.w3.org/2000/svg\" height=\"24px\"viewBox=\"0 0 24 24\"\n",
              "       width=\"24px\">\n",
              "    <path d=\"M0 0h24v24H0V0z\" fill=\"none\"/>\n",
              "    <path d=\"M18.56 5.44l.94 2.06.94-2.06 2.06-.94-2.06-.94-.94-2.06-.94 2.06-2.06.94zm-11 1L8.5 8.5l.94-2.06 2.06-.94-2.06-.94L8.5 2.5l-.94 2.06-2.06.94zm10 10l.94 2.06.94-2.06 2.06-.94-2.06-.94-.94-2.06-.94 2.06-2.06.94z\"/><path d=\"M17.41 7.96l-1.37-1.37c-.4-.4-.92-.59-1.43-.59-.52 0-1.04.2-1.43.59L10.3 9.45l-7.72 7.72c-.78.78-.78 2.05 0 2.83L4 21.41c.39.39.9.59 1.41.59.51 0 1.02-.2 1.41-.59l7.78-7.78 2.81-2.81c.8-.78.8-2.07 0-2.86zM5.41 20L4 18.59l7.72-7.72 1.47 1.35L5.41 20z\"/>\n",
              "  </svg>\n",
              "      </button>\n",
              "      \n",
              "  <style>\n",
              "    .colab-df-container {\n",
              "      display:flex;\n",
              "      flex-wrap:wrap;\n",
              "      gap: 12px;\n",
              "    }\n",
              "\n",
              "    .colab-df-convert {\n",
              "      background-color: #E8F0FE;\n",
              "      border: none;\n",
              "      border-radius: 50%;\n",
              "      cursor: pointer;\n",
              "      display: none;\n",
              "      fill: #1967D2;\n",
              "      height: 32px;\n",
              "      padding: 0 0 0 0;\n",
              "      width: 32px;\n",
              "    }\n",
              "\n",
              "    .colab-df-convert:hover {\n",
              "      background-color: #E2EBFA;\n",
              "      box-shadow: 0px 1px 2px rgba(60, 64, 67, 0.3), 0px 1px 3px 1px rgba(60, 64, 67, 0.15);\n",
              "      fill: #174EA6;\n",
              "    }\n",
              "\n",
              "    [theme=dark] .colab-df-convert {\n",
              "      background-color: #3B4455;\n",
              "      fill: #D2E3FC;\n",
              "    }\n",
              "\n",
              "    [theme=dark] .colab-df-convert:hover {\n",
              "      background-color: #434B5C;\n",
              "      box-shadow: 0px 1px 3px 1px rgba(0, 0, 0, 0.15);\n",
              "      filter: drop-shadow(0px 1px 2px rgba(0, 0, 0, 0.3));\n",
              "      fill: #FFFFFF;\n",
              "    }\n",
              "  </style>\n",
              "\n",
              "      <script>\n",
              "        const buttonEl =\n",
              "          document.querySelector('#df-9a4eb969-fc7c-4170-91d4-fe4ec4dfe939 button.colab-df-convert');\n",
              "        buttonEl.style.display =\n",
              "          google.colab.kernel.accessAllowed ? 'block' : 'none';\n",
              "\n",
              "        async function convertToInteractive(key) {\n",
              "          const element = document.querySelector('#df-9a4eb969-fc7c-4170-91d4-fe4ec4dfe939');\n",
              "          const dataTable =\n",
              "            await google.colab.kernel.invokeFunction('convertToInteractive',\n",
              "                                                     [key], {});\n",
              "          if (!dataTable) return;\n",
              "\n",
              "          const docLinkHtml = 'Like what you see? Visit the ' +\n",
              "            '<a target=\"_blank\" href=https://colab.research.google.com/notebooks/data_table.ipynb>data table notebook</a>'\n",
              "            + ' to learn more about interactive tables.';\n",
              "          element.innerHTML = '';\n",
              "          dataTable['output_type'] = 'display_data';\n",
              "          await google.colab.output.renderOutput(dataTable, element);\n",
              "          const docLink = document.createElement('div');\n",
              "          docLink.innerHTML = docLinkHtml;\n",
              "          element.appendChild(docLink);\n",
              "        }\n",
              "      </script>\n",
              "    </div>\n",
              "  </div>\n",
              "  "
            ]
          },
          "metadata": {},
          "execution_count": 124
        }
      ]
    },
    {
      "cell_type": "code",
      "source": [
        "data_ans['Prediction'].value_counts()"
      ],
      "metadata": {
        "colab": {
          "base_uri": "https://localhost:8080/"
        },
        "id": "NqBkB6ZuPkxh",
        "outputId": "42b8f731-2418-44ff-d634-49890a9b0eaa"
      },
      "execution_count": 104,
      "outputs": [
        {
          "output_type": "execute_result",
          "data": {
            "text/plain": [
              "0.0    161\n",
              "1.0     11\n",
              "Name: Prediction, dtype: int64"
            ]
          },
          "metadata": {},
          "execution_count": 104
        }
      ]
    },
    {
      "cell_type": "code",
      "source": [
        "data_ans['Biopsy'].value_counts()"
      ],
      "metadata": {
        "id": "KTwecZ2WPwYd",
        "outputId": "07e9c60d-35d9-48b8-a943-74600108f63c",
        "colab": {
          "base_uri": "https://localhost:8080/"
        }
      },
      "execution_count": 105,
      "outputs": [
        {
          "output_type": "execute_result",
          "data": {
            "text/plain": [
              "0    161\n",
              "1     11\n",
              "Name: Biopsy, dtype: int64"
            ]
          },
          "metadata": {},
          "execution_count": 105
        }
      ]
    },
    {
      "cell_type": "code",
      "source": [
        "from sklearn.metrics import precision_recall_fscore_support\n",
        "y_true = y_test\n",
        "y_pred = model.predict(X_test)\n",
        "\n",
        "# Make the confusion matrix\n",
        "import seaborn as sns\n",
        "import matplotlib.pyplot as plt\n",
        "from sklearn.metrics import confusion_matrix\n",
        "cf_matrix = confusion_matrix(np.round_(y_true), np.round_(y_pred))\n",
        "print(\"\\nConfusion Matrix\")\n",
        "sns.heatmap(cf_matrix, annot=True, cmap='Blues', fmt = \".1f\" )\n",
        "plt.xlabel('Predicted', fontsize=12)\n",
        "plt.ylabel('True', fontsize=12)"
      ],
      "metadata": {
        "colab": {
          "base_uri": "https://localhost:8080/",
          "height": 522
        },
        "id": "j3YH8eYHM1No",
        "outputId": "cb81705d-951c-447d-c5a4-e6a394048f5b"
      },
      "execution_count": 108,
      "outputs": [
        {
          "output_type": "stream",
          "name": "stdout",
          "text": [
            "6/6 [==============================] - 0s 2ms/step\n",
            "\n",
            "Confusion Matrix\n"
          ]
        },
        {
          "output_type": "execute_result",
          "data": {
            "text/plain": [
              "Text(50.722222222222214, 0.5, 'True')"
            ]
          },
          "metadata": {},
          "execution_count": 108
        },
        {
          "output_type": "display_data",
          "data": {
            "text/plain": [
              "<Figure size 640x480 with 2 Axes>"
            ],
            "image/png": "[encoded data removed]"
          },
          "metadata": {}
        }
      ]
    },
    {
      "cell_type": "code",
      "source": [
        "print(classification_report(np.round_(y_true),np.round_(y_pred)))"
      ],
      "metadata": {
        "colab": {
          "base_uri": "https://localhost:8080/"
        },
        "id": "MxE0sdIIOH13",
        "outputId": "40e76336-29c8-477d-f161-44923e63f794"
      },
      "execution_count": 116,
      "outputs": [
        {
          "output_type": "stream",
          "name": "stdout",
          "text": [
            "              precision    recall  f1-score   support\n",
            "\n",
            "           0       0.98      0.98      0.98       161\n",
            "           1       0.64      0.64      0.64        11\n",
            "\n",
            "    accuracy                           0.95       172\n",
            "   macro avg       0.81      0.81      0.81       172\n",
            "weighted avg       0.95      0.95      0.95       172\n",
            "\n"
          ]
        }
      ]
    },
    {
      "cell_type": "code",
      "source": [
        "print(model.trainable_variables) "
      ],
      "metadata": {
        "colab": {
          "base_uri": "https://localhost:8080/"
        },
        "id": "jY4Z25QZ_bD3",
        "outputId": "c65c9e91-9afd-434d-bd54-cb19b3f67c15"
      },
      "execution_count": 111,
      "outputs": [
        {
          "output_type": "stream",
          "name": "stdout",
          "text": [
            "[<tf.Variable 'dense_15/kernel:0' shape=(35, 32) dtype=float32, numpy=\n",
            "array([[-0.39646775, -0.18243872, -0.23124786, ...,  0.23832975,\n",
            "         0.01703444,  0.24194553],\n",
            "       [ 0.30696884, -0.4051976 , -0.07834373, ..., -0.31045043,\n",
            "         0.37527305, -0.48295003],\n",
            "       [ 0.02751844,  0.25490656,  0.25228393, ..., -0.2702271 ,\n",
            "         0.24313758, -0.04577189],\n",
            "       ...,\n",
            "       [-0.48219892, -0.1610781 ,  0.44581565, ..., -0.12160721,\n",
            "         0.16118304,  0.03237481],\n",
            "       [-0.39159155, -0.34967113, -0.508761  , ..., -0.40453166,\n",
            "         0.5773201 ,  0.1642428 ],\n",
            "       [-0.22106604,  0.23673473, -0.01845114, ..., -0.2186211 ,\n",
            "         0.05304373,  0.10436219]], dtype=float32)>, <tf.Variable 'dense_15/bias:0' shape=(32,) dtype=float32, numpy=\n",
            "array([ 0.086653  , -0.03117102, -0.06168848, -0.06589296, -0.07343485,\n",
            "        0.08459612,  0.07289849, -0.07014773, -0.04058735, -0.01646656,\n",
            "        0.19045596,  0.01883662,  0.02836936, -0.01312324, -0.06390081,\n",
            "        0.08940387, -0.07174616,  0.13021673,  0.09879722, -0.01388157,\n",
            "        0.14640571, -0.01822072, -0.02995463,  0.0329025 ,  0.04841694,\n",
            "        0.09330956,  0.11575501,  0.16181715,  0.09179629,  0.10951791,\n",
            "        0.11172443,  0.1221031 ], dtype=float32)>, <tf.Variable 'dense_16/kernel:0' shape=(32, 16) dtype=float32, numpy=\n",
            "array([[-5.20862520e-01, -9.14962813e-02, -2.10742548e-01,\n",
            "         8.71419534e-02, -9.42538157e-02,  7.09794760e-02,\n",
            "        -2.64752150e-01,  1.97603613e-01,  5.02212942e-01,\n",
            "        -8.81545395e-02,  1.47548676e-01,  1.65075094e-01,\n",
            "        -1.52651191e-01, -2.24021394e-02, -1.90244764e-01,\n",
            "         1.60250738e-01],\n",
            "       [ 2.33263686e-01,  1.00358032e-01, -2.96856761e-01,\n",
            "        -3.39061111e-01,  2.52151221e-01, -6.75025955e-02,\n",
            "         3.85072142e-01,  2.38962337e-01, -3.24545950e-01,\n",
            "         2.83723652e-01,  3.38047266e-01,  1.16691500e-01,\n",
            "         1.59006063e-02,  1.55690387e-01, -1.54405400e-01,\n",
            "         2.21905768e-01],\n",
            "       [ 2.12379634e-01, -3.19944680e-01, -2.06992552e-02,\n",
            "        -3.21161032e-01, -7.95306265e-02,  2.26645172e-02,\n",
            "        -3.66045207e-01,  8.71918201e-02,  3.29028189e-01,\n",
            "         4.69223224e-02, -6.47063851e-02, -7.30534717e-02,\n",
            "        -4.78308767e-01, -1.42703712e-01,  3.73494953e-01,\n",
            "         5.02901375e-02],\n",
            "       [-2.11142406e-01,  2.60058284e-01, -6.10591397e-02,\n",
            "        -2.76403844e-01,  4.67230268e-02,  3.14960659e-01,\n",
            "         4.01043355e-01,  1.83834329e-01, -2.22318888e-01,\n",
            "        -2.19969749e-01,  3.86838317e-01, -1.12095490e-01,\n",
            "         3.12231071e-02, -4.24176455e-01,  2.11450636e-01,\n",
            "        -5.67167282e-01],\n",
            "       [-6.33144081e-02,  2.38317460e-01,  2.99902797e-01,\n",
            "        -5.87978661e-02, -3.26064289e-01,  4.66790944e-01,\n",
            "         7.83636719e-02,  1.98270902e-01, -3.54325056e-01,\n",
            "        -2.40965948e-01, -4.10435311e-02, -2.77343988e-01,\n",
            "         6.96405545e-02, -1.05424240e-01, -2.06558537e-02,\n",
            "        -2.53249735e-01],\n",
            "       [ 8.41867998e-02,  3.07931572e-01,  1.60554036e-01,\n",
            "         2.54631937e-01, -1.12837613e-01,  1.66576833e-01,\n",
            "         1.71991706e-01, -1.22107551e-01, -9.93755064e-04,\n",
            "         2.77233422e-01,  2.73869485e-01,  2.59020239e-01,\n",
            "         1.42018691e-01, -4.13415700e-01,  6.26411811e-02,\n",
            "        -1.08984560e-01],\n",
            "       [-2.35036016e-01, -2.88636778e-02, -3.19461524e-01,\n",
            "         4.58882064e-01,  6.26523197e-02, -1.69975668e-01,\n",
            "        -2.98486710e-01,  2.19819695e-01, -3.29382956e-01,\n",
            "        -4.30890203e-01,  1.96313597e-02, -3.48974466e-02,\n",
            "        -2.93683377e-04,  6.93993494e-02,  1.18118495e-01,\n",
            "         8.13246518e-02],\n",
            "       [ 2.41391407e-03, -3.53058904e-01, -1.36017472e-01,\n",
            "        -2.17043072e-01,  2.84551829e-01, -2.79221594e-01,\n",
            "         2.05020890e-01, -5.95492981e-02, -9.58257169e-02,\n",
            "         1.85551375e-01,  2.74117589e-01, -2.15785861e-01,\n",
            "         2.57575452e-01,  8.48047882e-02,  3.62284295e-02,\n",
            "        -1.97304621e-01],\n",
            "       [ 7.11369291e-02, -3.65454972e-01, -2.91282148e-03,\n",
            "         8.54038820e-02, -7.74335787e-02, -4.52082492e-02,\n",
            "        -3.30385566e-01,  3.12387556e-01, -1.57389432e-01,\n",
            "        -2.82363147e-01, -1.69668674e-01, -6.28858656e-02,\n",
            "        -1.29576728e-01,  9.44429785e-02,  2.30860594e-03,\n",
            "         2.41480004e-02],\n",
            "       [-4.74193275e-01, -2.56712437e-02,  1.47111699e-01,\n",
            "        -1.77605003e-01, -1.54821917e-01,  2.19614089e-01,\n",
            "        -1.47953764e-01, -1.21308990e-01, -5.13395786e-01,\n",
            "        -9.49290842e-02,  4.39737469e-01, -1.04023877e-03,\n",
            "        -8.61791447e-02,  1.12370998e-01,  1.31992668e-01,\n",
            "         2.54604191e-01],\n",
            "       [-1.08488403e-01,  2.21198931e-01,  1.99983060e-01,\n",
            "         3.41828942e-01,  5.16858220e-01,  5.59399962e-01,\n",
            "         6.25579432e-02,  2.47052833e-01,  4.29065049e-01,\n",
            "         4.10004854e-02, -8.35274681e-02,  4.17404801e-01,\n",
            "         4.87025559e-01, -4.15352225e-01, -1.94397509e-01,\n",
            "        -1.38554916e-01],\n",
            "       [ 2.58036852e-02, -1.21199295e-01, -3.77382874e-01,\n",
            "        -1.05195045e-01,  1.31153330e-01,  3.90804708e-01,\n",
            "        -5.01393043e-02,  4.15987372e-02, -5.99015355e-02,\n",
            "         7.33224973e-02,  1.95565015e-01,  1.10743314e-01,\n",
            "         5.83589733e-01, -1.00762375e-01,  3.45083982e-01,\n",
            "        -2.37358920e-02],\n",
            "       [ 1.26378685e-01, -1.05248414e-01,  2.69932806e-01,\n",
            "         9.82973054e-02,  5.11888303e-02, -1.31265774e-01,\n",
            "         3.74823779e-01,  8.20789635e-02,  1.43698394e-01,\n",
            "         6.94035888e-02, -1.44152433e-01, -4.32171039e-02,\n",
            "        -6.86953589e-02, -4.18738633e-01,  3.43748033e-01,\n",
            "         1.76057696e-01],\n",
            "       [ 2.51169056e-01, -3.92682195e-01,  1.59607038e-01,\n",
            "         1.63682669e-01,  1.26165807e-01,  2.21132010e-01,\n",
            "         6.29759803e-02,  2.48929396e-01,  3.74745518e-01,\n",
            "        -3.73119354e-01, -6.34149387e-02, -2.87573099e-01,\n",
            "         2.64017195e-01, -2.84701735e-01, -3.22748363e-01,\n",
            "         2.34083995e-01],\n",
            "       [ 2.35984087e-01,  8.03487375e-02, -1.21090129e-01,\n",
            "        -9.42489505e-03, -4.96249914e-01,  3.20429653e-01,\n",
            "        -1.81002110e-01, -2.04384059e-01, -1.10138029e-01,\n",
            "        -3.45522128e-02, -3.42879593e-01,  1.75767496e-01,\n",
            "        -3.06513309e-01, -4.05098230e-01,  3.39534342e-01,\n",
            "         3.12010854e-01],\n",
            "       [ 1.36162996e-01, -8.77923742e-02,  2.32459366e-01,\n",
            "         2.09836185e-01, -1.10937558e-01,  1.20351329e-01,\n",
            "        -8.97490010e-02, -5.35735548e-01,  4.68386747e-02,\n",
            "         6.93598017e-02, -2.63692170e-01, -7.24037513e-02,\n",
            "         8.40524584e-02,  2.63480812e-01, -3.81410182e-01,\n",
            "         3.43468755e-01],\n",
            "       [ 2.34407410e-01,  2.36850575e-01, -1.60961211e-01,\n",
            "        -1.66048825e-01, -1.94549441e-01, -1.33917257e-02,\n",
            "        -5.40745139e-01,  4.60850328e-01, -9.04046670e-02,\n",
            "        -6.61515594e-02, -1.61531702e-01,  2.22609505e-01,\n",
            "        -4.55813631e-02,  2.02102214e-01,  1.64448515e-01,\n",
            "        -1.82349980e-01],\n",
            "       [ 3.40172350e-01, -1.73751473e-01,  2.38606319e-01,\n",
            "         1.18290216e-01,  9.76894274e-02, -5.45779988e-02,\n",
            "        -3.68178546e-01, -1.49088964e-01,  4.82292324e-01,\n",
            "         4.33964193e-01,  7.29309348e-03,  4.01709676e-01,\n",
            "         2.08742946e-01,  3.01146895e-01,  1.44141898e-01,\n",
            "        -2.71734655e-01],\n",
            "       [ 1.81731686e-01,  3.16183627e-01,  9.42771733e-02,\n",
            "         8.39069635e-02, -5.07925749e-01,  4.16395515e-01,\n",
            "         1.59920722e-01, -4.98537272e-02,  2.68178105e-01,\n",
            "         2.97271580e-01, -1.06625371e-01,  1.51486754e-01,\n",
            "        -9.30936262e-02, -2.54029632e-01,  3.57737429e-02,\n",
            "         1.76977724e-01],\n",
            "       [-1.62226200e-01,  6.09538108e-02,  4.11058426e-01,\n",
            "        -6.02357626e-01,  3.62507880e-01,  2.40182504e-01,\n",
            "         4.25667316e-01, -1.68395489e-02, -1.63986459e-01,\n",
            "        -2.32269749e-01, -2.51326919e-01, -4.21667457e-01,\n",
            "         4.46413346e-02, -8.15607831e-02, -1.22210160e-01,\n",
            "         9.96204093e-02],\n",
            "       [ 1.28232032e-01,  8.76989365e-02,  6.24596328e-02,\n",
            "         5.37263274e-01, -3.34779918e-02,  6.56025037e-02,\n",
            "        -2.04671755e-01, -6.09512664e-02,  2.67753247e-02,\n",
            "         2.12537885e-01,  1.59093454e-01,  2.02303112e-01,\n",
            "         2.65810013e-01,  1.73537850e-01, -9.79504287e-02,\n",
            "         2.38392781e-02],\n",
            "       [-4.27327901e-02, -3.83763909e-01,  2.41258249e-01,\n",
            "        -7.13432133e-02,  1.68618798e-01, -3.96716088e-01,\n",
            "         8.28585774e-02, -1.24321751e-01, -1.27996311e-01,\n",
            "        -1.11628294e-01,  7.14349970e-02, -1.91298634e-01,\n",
            "        -6.11107908e-02, -1.94897018e-02,  1.30221695e-01,\n",
            "         6.20579958e-01],\n",
            "       [-1.09171937e-03,  1.49180353e-01, -1.43305361e-01,\n",
            "        -1.64758526e-02, -2.75654554e-01, -4.97879952e-01,\n",
            "         4.21890579e-02,  3.19755286e-01, -2.03910932e-01,\n",
            "        -2.79095650e-01, -1.19472682e-01, -1.77292109e-01,\n",
            "        -3.22153382e-02,  4.63687301e-01,  1.64675936e-02,\n",
            "         3.62527758e-01],\n",
            "       [ 1.53808855e-02, -2.11040955e-02,  1.71330586e-01,\n",
            "        -2.78483838e-01,  7.55100995e-02, -4.92969036e-01,\n",
            "        -2.72451758e-01,  1.84857517e-01, -3.46022755e-01,\n",
            "         7.61269480e-02, -7.17012957e-02, -8.95416290e-02,\n",
            "         4.67312098e-01, -6.05717041e-02, -1.56157166e-01,\n",
            "         4.61601853e-01],\n",
            "       [ 2.03245297e-01,  2.70514220e-01, -1.82763830e-01,\n",
            "        -5.57168305e-01,  1.49979547e-01, -2.26384789e-01,\n",
            "        -3.65533531e-01, -2.78781235e-01, -4.04956818e-01,\n",
            "        -3.21975410e-01,  1.89034548e-02, -2.56709047e-02,\n",
            "        -3.96615744e-01,  3.52793366e-01, -1.59581617e-01,\n",
            "         1.82724848e-01],\n",
            "       [ 2.75647402e-01, -2.58102268e-01, -3.97815824e-01,\n",
            "         8.83131921e-02, -2.44212538e-01,  7.66348168e-02,\n",
            "        -4.68598694e-01, -4.12517428e-01,  3.22524697e-01,\n",
            "         7.11050630e-02,  7.19719827e-02,  4.57097977e-01,\n",
            "        -1.39277592e-01, -5.71296751e-01, -4.37999755e-01,\n",
            "        -2.01258585e-01],\n",
            "       [ 9.64583084e-02,  2.14081109e-01,  1.06618367e-01,\n",
            "         1.33500740e-01, -3.04002941e-01,  3.63806278e-01,\n",
            "        -2.17822492e-01,  7.03192875e-02,  1.02935471e-01,\n",
            "         4.14852574e-02,  5.76025015e-03,  4.30222452e-01,\n",
            "         8.74138102e-02,  6.11919723e-02,  3.60620737e-01,\n",
            "        -2.34254852e-01],\n",
            "       [ 1.05180964e-01,  5.91761529e-01, -1.76275373e-02,\n",
            "         1.21182531e-01, -4.90187347e-01,  4.65923458e-01,\n",
            "         1.39506698e-01, -8.94369557e-02,  3.98755908e-01,\n",
            "        -1.38286978e-01,  7.49059796e-01,  2.09327161e-01,\n",
            "         1.17971867e-01,  4.23423558e-01,  2.03227356e-01,\n",
            "        -4.20614451e-01],\n",
            "       [-3.68060559e-01,  1.70353323e-01, -4.26608175e-01,\n",
            "         1.28273129e-01, -1.16490029e-01,  1.44492492e-01,\n",
            "        -4.95794266e-01, -2.81372089e-02, -1.07224129e-01,\n",
            "        -1.31915957e-01, -4.06978190e-01,  4.70522195e-01,\n",
            "         5.79793230e-02, -3.50262493e-01, -7.14474320e-02,\n",
            "         1.90052003e-01],\n",
            "       [-1.75182521e-01,  3.76522750e-01,  8.19947496e-02,\n",
            "         4.23176140e-01, -8.78361613e-02,  5.80282137e-02,\n",
            "         3.42808902e-01,  2.06600260e-02,  2.57722259e-01,\n",
            "        -6.12405181e-01,  3.00059587e-01,  4.73394722e-01,\n",
            "        -3.02950859e-01,  9.38869268e-02,  1.24350019e-01,\n",
            "        -4.37021106e-01],\n",
            "       [-7.51560554e-02,  2.98603605e-02,  3.27505082e-01,\n",
            "        -8.95875245e-02, -3.75714630e-01, -2.78161436e-01,\n",
            "         3.81969661e-01,  9.82248187e-02,  3.76841351e-02,\n",
            "        -4.90204245e-01,  1.97115272e-01, -1.72310084e-01,\n",
            "        -2.13447765e-01, -1.38073072e-01, -3.05450112e-02,\n",
            "         5.96098900e-01],\n",
            "       [-2.48952076e-01,  1.55574203e-01, -1.01332068e-01,\n",
            "         2.59794127e-02, -7.99181163e-02,  5.77232301e-01,\n",
            "        -2.46716008e-01, -1.48726672e-01,  2.24262569e-02,\n",
            "        -2.87376568e-02,  8.95250738e-02, -1.91406846e-01,\n",
            "         4.29511517e-01, -2.22683817e-01, -1.00151382e-01,\n",
            "         2.90783763e-01]], dtype=float32)>, <tf.Variable 'dense_16/bias:0' shape=(16,) dtype=float32, numpy=\n",
            "array([-0.04812154,  0.10745457,  0.03403857,  0.1237402 , -0.01701957,\n",
            "        0.0787227 , -0.03461788,  0.00300058,  0.10024232, -0.0938365 ,\n",
            "        0.09933694,  0.07213788,  0.11322441, -0.01342711, -0.05936251,\n",
            "        0.10668024], dtype=float32)>, <tf.Variable 'dense_17/kernel:0' shape=(16, 8) dtype=float32, numpy=\n",
            "array([[-6.8138671e-01, -1.4131415e-01, -1.7892911e-01,  1.2741141e-01,\n",
            "        -1.0659677e-01,  3.8561560e-02, -2.6137173e-01,  3.8442165e-01],\n",
            "       [ 6.3419008e-01,  6.6265456e-02,  3.1291184e-01,  3.3827317e-01,\n",
            "        -1.4651811e-01, -5.0556376e-03, -1.0640421e-01,  2.8309566e-01],\n",
            "       [ 3.3603010e-01,  3.1991087e-02, -4.4662777e-01, -5.2504498e-01,\n",
            "         5.0853992e-01, -1.8305326e-01,  4.2850831e-01,  3.7483510e-01],\n",
            "       [-5.7147080e-01,  5.8040929e-01,  6.2213624e-01,  2.8679547e-01,\n",
            "         8.1211805e-02,  2.4113512e-01, -1.7980469e-02,  4.3837440e-01],\n",
            "       [ 3.6378914e-01, -5.2948159e-01, -3.9184786e-02, -5.2019680e-01,\n",
            "        -7.5109765e-02, -3.8063057e-02, -5.0065839e-01,  1.7083326e-01],\n",
            "       [ 3.7626332e-01,  2.2198009e-01, -4.0384565e-02, -3.3362061e-02,\n",
            "        -7.2862810e-01, -1.8711297e-01,  7.0335245e-01,  2.1033671e-01],\n",
            "       [-2.7367032e-01,  2.1764845e-01, -1.3084166e-01, -5.6845158e-01,\n",
            "         1.0141653e-01,  3.4436643e-01,  5.0736928e-01,  2.5415924e-01],\n",
            "       [-4.7708553e-01, -2.3384249e-01,  4.5100906e-01, -2.3671019e-01,\n",
            "         7.9676613e-02, -5.9371221e-01,  3.2921982e-01, -8.1849968e-01],\n",
            "       [-1.3078310e-01,  4.9948961e-01,  6.1666971e-01, -2.4363518e-02,\n",
            "        -4.1132408e-01,  7.5633967e-01,  2.8939304e-01,  3.5269618e-01],\n",
            "       [-4.4046509e-01, -2.7529892e-01,  6.8604127e-02, -2.1478458e-01,\n",
            "         6.6089757e-02, -1.6140093e-01,  2.1737718e-04, -2.8569290e-01],\n",
            "       [ 1.4951618e-01,  3.3967105e-01,  2.7313784e-01,  2.8726646e-01,\n",
            "        -1.0621759e-01,  8.2111366e-02,  4.1091365e-01,  6.0429800e-02],\n",
            "       [-2.2773500e-01,  6.1538422e-01,  3.1978458e-01,  3.2668597e-01,\n",
            "         7.1368009e-02, -5.6201059e-01,  2.9104841e-01, -1.0654875e-01],\n",
            "       [-2.7552605e-01, -3.4300640e-02, -3.4256661e-01,  5.8844405e-01,\n",
            "         2.0577231e-01, -2.3014492e-01, -3.2703036e-01,  4.0209809e-01],\n",
            "       [-5.6568885e-01, -3.6274490e-01, -2.0241158e-02, -2.6443422e-02,\n",
            "        -2.6667255e-01,  1.3036576e-01,  2.0354994e-01,  3.5811633e-02],\n",
            "       [ 6.5165788e-02, -4.7860956e-01, -1.5011317e-01, -2.8892148e-01,\n",
            "         4.0155923e-01, -3.6982366e-01,  3.6484626e-01, -3.4973867e-02],\n",
            "       [-1.5150474e-01,  1.9175725e-01,  3.6665472e-01, -4.2201924e-01,\n",
            "         4.4156539e-01,  7.3036857e-02, -4.9813293e-02, -5.0750643e-01]],\n",
            "      dtype=float32)>, <tf.Variable 'dense_17/bias:0' shape=(8,) dtype=float32, numpy=\n",
            "array([-0.00895999,  0.05431153,  0.11600144,  0.09462337,  0.07752659,\n",
            "       -0.0268891 ,  0.06755896,  0.09774633], dtype=float32)>, <tf.Variable 'dense_18/kernel:0' shape=(8, 4) dtype=float32, numpy=\n",
            "array([[-0.93850905, -0.29906029, -0.35858694,  0.02631668],\n",
            "       [-0.14992423,  0.17679851, -0.49951392,  0.53512704],\n",
            "       [ 0.9468404 ,  0.04631259,  0.2061189 ,  0.37756094],\n",
            "       [-0.35653293,  0.17701946, -0.3835787 ,  0.3887164 ],\n",
            "       [ 0.66981876,  0.00492405, -0.62793505, -0.8628964 ],\n",
            "       [ 0.57295924, -0.20875293,  0.7809061 ,  0.5727615 ],\n",
            "       [-0.7174381 ,  0.7016124 ,  0.6098031 ,  0.26394716],\n",
            "       [ 0.01012685,  0.50316274, -0.22855493,  0.55120176]],\n",
            "      dtype=float32)>, <tf.Variable 'dense_18/bias:0' shape=(4,) dtype=float32, numpy=array([ 0.04778851,  0.04855245, -0.0084072 ,  0.06118781], dtype=float32)>, <tf.Variable 'dense_19/kernel:0' shape=(4, 1) dtype=float32, numpy=\n",
            "array([[ 0.3992429],\n",
            "       [-0.3259805],\n",
            "       [ 0.5272916],\n",
            "       [-1.0499012]], dtype=float32)>, <tf.Variable 'dense_19/bias:0' shape=(1,) dtype=float32, numpy=array([-0.04585803], dtype=float32)>]\n"
          ]
        }
      ]
    },
    {
      "cell_type": "code",
      "source": [
        "!mkdir -p saved_model\n",
        "model.save('saved_model/my_model')"
      ],
      "metadata": {
        "colab": {
          "base_uri": "https://localhost:8080/"
        },
        "id": "iQgq37FL_fQh",
        "outputId": "e1bed2eb-0680-4f84-9d85-886c4c9eff92"
      },
      "execution_count": 112,
      "outputs": [
        {
          "output_type": "stream",
          "name": "stderr",
          "text": [
            "WARNING:absl:Found untraced functions such as _update_step_xla while saving (showing 1 of 1). These functions will not be directly callable after loading.\n"
          ]
        }
      ]
    },
    {
      "cell_type": "code",
      "source": [
        "model.save('my_model.h5')"
      ],
      "metadata": {
        "id": "Bh2oWtGS_heV"
      },
      "execution_count": 113,
      "outputs": []
    },
    {
      "cell_type": "code",
      "source": [
        "from google.colab import files\n",
        "\n",
        "files.download('saved_model/my_model/variables/variables.data-00000-of-00001')\n",
        "files.download('saved_model/my_model/variables/variables.index')\n",
        "files.download('saved_model/my_model/fingerprint.pb')\n",
        "files.download('saved_model/my_model/keras_metadata.pb')\n",
        "files.download('saved_model/my_model/saved_model.pb')"
      ],
      "metadata": {
        "colab": {
          "base_uri": "https://localhost:8080/",
          "height": 17
        },
        "id": "JS8BJeLl_j0H",
        "outputId": "dcd14b02-4750-41c5-98f6-9769919c7e88"
      },
      "execution_count": 114,
      "outputs": [
        {
          "output_type": "display_data",
          "data": {
            "text/plain": [
              "<IPython.core.display.Javascript object>"
            ],
            "application/javascript": [
              "\n",
              "    async function download(id, filename, size) {\n",
              "      if (!google.colab.kernel.accessAllowed) {\n",
              "        return;\n",
              "      }\n",
              "      const div = document.createElement('div');\n",
              "      const label = document.createElement('label');\n",
              "      label.textContent = `Downloading \"${filename}\": `;\n",
              "      div.appendChild(label);\n",
              "      const progress = document.createElement('progress');\n",
              "      progress.max = size;\n",
              "      div.appendChild(progress);\n",
              "      document.body.appendChild(div);\n",
              "\n",
              "      const buffers = [];\n",
              "      let downloaded = 0;\n",
              "\n",
              "      const channel = await google.colab.kernel.comms.open(id);\n",
              "      // Send a message to notify the kernel that we're ready.\n",
              "      channel.send({})\n",
              "\n",
              "      for await (const message of channel.messages) {\n",
              "        // Send a message to notify the kernel that we're ready.\n",
              "        channel.send({})\n",
              "        if (message.buffers) {\n",
              "          for (const buffer of message.buffers) {\n",
              "            buffers.push(buffer);\n",
              "            downloaded += buffer.byteLength;\n",
              "            progress.value = downloaded;\n",
              "          }\n",
              "        }\n",
              "      }\n",
              "      const blob = new Blob(buffers, {type: 'application/binary'});\n",
              "      const a = document.createElement('a');\n",
              "      a.href = window.URL.createObjectURL(blob);\n",
              "      a.download = filename;\n",
              "      div.appendChild(a);\n",
              "      a.click();\n",
              "      div.remove();\n",
              "    }\n",
              "  "
            ]
          },
          "metadata": {}
        },
        {
          "output_type": "display_data",
          "data": {
            "text/plain": [
              "<IPython.core.display.Javascript object>"
            ],
            "application/javascript": [
              "download(\"download_2699f671-4de9-44a3-b6ff-ff3c0202c395\", \"variables.data-00000-of-00001\", 30336)"
            ]
          },
          "metadata": {}
        },
        {
          "output_type": "display_data",
          "data": {
            "text/plain": [
              "<IPython.core.display.Javascript object>"
            ],
            "application/javascript": [
              "\n",
              "    async function download(id, filename, size) {\n",
              "      if (!google.colab.kernel.accessAllowed) {\n",
              "        return;\n",
              "      }\n",
              "      const div = document.createElement('div');\n",
              "      const label = document.createElement('label');\n",
              "      label.textContent = `Downloading \"${filename}\": `;\n",
              "      div.appendChild(label);\n",
              "      const progress = document.createElement('progress');\n",
              "      progress.max = size;\n",
              "      div.appendChild(progress);\n",
              "      document.body.appendChild(div);\n",
              "\n",
              "      const buffers = [];\n",
              "      let downloaded = 0;\n",
              "\n",
              "      const channel = await google.colab.kernel.comms.open(id);\n",
              "      // Send a message to notify the kernel that we're ready.\n",
              "      channel.send({})\n",
              "\n",
              "      for await (const message of channel.messages) {\n",
              "        // Send a message to notify the kernel that we're ready.\n",
              "        channel.send({})\n",
              "        if (message.buffers) {\n",
              "          for (const buffer of message.buffers) {\n",
              "            buffers.push(buffer);\n",
              "            downloaded += buffer.byteLength;\n",
              "            progress.value = downloaded;\n",
              "          }\n",
              "        }\n",
              "      }\n",
              "      const blob = new Blob(buffers, {type: 'application/binary'});\n",
              "      const a = document.createElement('a');\n",
              "      a.href = window.URL.createObjectURL(blob);\n",
              "      a.download = filename;\n",
              "      div.appendChild(a);\n",
              "      a.click();\n",
              "      div.remove();\n",
              "    }\n",
              "  "
            ]
          },
          "metadata": {}
        },
        {
          "output_type": "display_data",
          "data": {
            "text/plain": [
              "<IPython.core.display.Javascript object>"
            ],
            "application/javascript": [
              "download(\"download_524321e4-2196-4e6a-b453-ccf81d793bf8\", \"variables.index\", 2162)"
            ]
          },
          "metadata": {}
        },
        {
          "output_type": "display_data",
          "data": {
            "text/plain": [
              "<IPython.core.display.Javascript object>"
            ],
            "application/javascript": [
              "\n",
              "    async function download(id, filename, size) {\n",
              "      if (!google.colab.kernel.accessAllowed) {\n",
              "        return;\n",
              "      }\n",
              "      const div = document.createElement('div');\n",
              "      const label = document.createElement('label');\n",
              "      label.textContent = `Downloading \"${filename}\": `;\n",
              "      div.appendChild(label);\n",
              "      const progress = document.createElement('progress');\n",
              "      progress.max = size;\n",
              "      div.appendChild(progress);\n",
              "      document.body.appendChild(div);\n",
              "\n",
              "      const buffers = [];\n",
              "      let downloaded = 0;\n",
              "\n",
              "      const channel = await google.colab.kernel.comms.open(id);\n",
              "      // Send a message to notify the kernel that we're ready.\n",
              "      channel.send({})\n",
              "\n",
              "      for await (const message of channel.messages) {\n",
              "        // Send a message to notify the kernel that we're ready.\n",
              "        channel.send({})\n",
              "        if (message.buffers) {\n",
              "          for (const buffer of message.buffers) {\n",
              "            buffers.push(buffer);\n",
              "            downloaded += buffer.byteLength;\n",
              "            progress.value = downloaded;\n",
              "          }\n",
              "        }\n",
              "      }\n",
              "      const blob = new Blob(buffers, {type: 'application/binary'});\n",
              "      const a = document.createElement('a');\n",
              "      a.href = window.URL.createObjectURL(blob);\n",
              "      a.download = filename;\n",
              "      div.appendChild(a);\n",
              "      a.click();\n",
              "      div.remove();\n",
              "    }\n",
              "  "
            ]
          },
          "metadata": {}
        },
        {
          "output_type": "display_data",
          "data": {
            "text/plain": [
              "<IPython.core.display.Javascript object>"
            ],
            "application/javascript": [
              "download(\"download_d6fc4554-761c-4e1d-a16a-67f89482ec39\", \"fingerprint.pb\", 56)"
            ]
          },
          "metadata": {}
        },
        {
          "output_type": "display_data",
          "data": {
            "text/plain": [
              "<IPython.core.display.Javascript object>"
            ],
            "application/javascript": [
              "\n",
              "    async function download(id, filename, size) {\n",
              "      if (!google.colab.kernel.accessAllowed) {\n",
              "        return;\n",
              "      }\n",
              "      const div = document.createElement('div');\n",
              "      const label = document.createElement('label');\n",
              "      label.textContent = `Downloading \"${filename}\": `;\n",
              "      div.appendChild(label);\n",
              "      const progress = document.createElement('progress');\n",
              "      progress.max = size;\n",
              "      div.appendChild(progress);\n",
              "      document.body.appendChild(div);\n",
              "\n",
              "      const buffers = [];\n",
              "      let downloaded = 0;\n",
              "\n",
              "      const channel = await google.colab.kernel.comms.open(id);\n",
              "      // Send a message to notify the kernel that we're ready.\n",
              "      channel.send({})\n",
              "\n",
              "      for await (const message of channel.messages) {\n",
              "        // Send a message to notify the kernel that we're ready.\n",
              "        channel.send({})\n",
              "        if (message.buffers) {\n",
              "          for (const buffer of message.buffers) {\n",
              "            buffers.push(buffer);\n",
              "            downloaded += buffer.byteLength;\n",
              "            progress.value = downloaded;\n",
              "          }\n",
              "        }\n",
              "      }\n",
              "      const blob = new Blob(buffers, {type: 'application/binary'});\n",
              "      const a = document.createElement('a');\n",
              "      a.href = window.URL.createObjectURL(blob);\n",
              "      a.download = filename;\n",
              "      div.appendChild(a);\n",
              "      a.click();\n",
              "      div.remove();\n",
              "    }\n",
              "  "
            ]
          },
          "metadata": {}
        },
        {
          "output_type": "display_data",
          "data": {
            "text/plain": [
              "<IPython.core.display.Javascript object>"
            ],
            "application/javascript": [
              "download(\"download_6197d103-e483-428c-94db-67add7e1bba0\", \"keras_metadata.pb\", 12837)"
            ]
          },
          "metadata": {}
        },
        {
          "output_type": "display_data",
          "data": {
            "text/plain": [
              "<IPython.core.display.Javascript object>"
            ],
            "application/javascript": [
              "\n",
              "    async function download(id, filename, size) {\n",
              "      if (!google.colab.kernel.accessAllowed) {\n",
              "        return;\n",
              "      }\n",
              "      const div = document.createElement('div');\n",
              "      const label = document.createElement('label');\n",
              "      label.textContent = `Downloading \"${filename}\": `;\n",
              "      div.appendChild(label);\n",
              "      const progress = document.createElement('progress');\n",
              "      progress.max = size;\n",
              "      div.appendChild(progress);\n",
              "      document.body.appendChild(div);\n",
              "\n",
              "      const buffers = [];\n",
              "      let downloaded = 0;\n",
              "\n",
              "      const channel = await google.colab.kernel.comms.open(id);\n",
              "      // Send a message to notify the kernel that we're ready.\n",
              "      channel.send({})\n",
              "\n",
              "      for await (const message of channel.messages) {\n",
              "        // Send a message to notify the kernel that we're ready.\n",
              "        channel.send({})\n",
              "        if (message.buffers) {\n",
              "          for (const buffer of message.buffers) {\n",
              "            buffers.push(buffer);\n",
              "            downloaded += buffer.byteLength;\n",
              "            progress.value = downloaded;\n",
              "          }\n",
              "        }\n",
              "      }\n",
              "      const blob = new Blob(buffers, {type: 'application/binary'});\n",
              "      const a = document.createElement('a');\n",
              "      a.href = window.URL.createObjectURL(blob);\n",
              "      a.download = filename;\n",
              "      div.appendChild(a);\n",
              "      a.click();\n",
              "      div.remove();\n",
              "    }\n",
              "  "
            ]
          },
          "metadata": {}
        },
        {
          "output_type": "display_data",
          "data": {
            "text/plain": [
              "<IPython.core.display.Javascript object>"
            ],
            "application/javascript": [
              "download(\"download_1a8c99e4-a36e-4dba-afd1-4b5cdbd1df62\", \"saved_model.pb\", 150881)"
            ]
          },
          "metadata": {}
        }
      ]
    },
    {
      "cell_type": "code",
      "source": [
        "files.download('my_model.h5')"
      ],
      "metadata": {
        "colab": {
          "base_uri": "https://localhost:8080/",
          "height": 17
        },
        "id": "bMoMghTqAa41",
        "outputId": "552f34a6-df89-413c-ecd8-35b1ade97ff4"
      },
      "execution_count": 117,
      "outputs": [
        {
          "output_type": "display_data",
          "data": {
            "text/plain": [
              "<IPython.core.display.Javascript object>"
            ],
            "application/javascript": [
              "\n",
              "    async function download(id, filename, size) {\n",
              "      if (!google.colab.kernel.accessAllowed) {\n",
              "        return;\n",
              "      }\n",
              "      const div = document.createElement('div');\n",
              "      const label = document.createElement('label');\n",
              "      label.textContent = `Downloading \"${filename}\": `;\n",
              "      div.appendChild(label);\n",
              "      const progress = document.createElement('progress');\n",
              "      progress.max = size;\n",
              "      div.appendChild(progress);\n",
              "      document.body.appendChild(div);\n",
              "\n",
              "      const buffers = [];\n",
              "      let downloaded = 0;\n",
              "\n",
              "      const channel = await google.colab.kernel.comms.open(id);\n",
              "      // Send a message to notify the kernel that we're ready.\n",
              "      channel.send({})\n",
              "\n",
              "      for await (const message of channel.messages) {\n",
              "        // Send a message to notify the kernel that we're ready.\n",
              "        channel.send({})\n",
              "        if (message.buffers) {\n",
              "          for (const buffer of message.buffers) {\n",
              "            buffers.push(buffer);\n",
              "            downloaded += buffer.byteLength;\n",
              "            progress.value = downloaded;\n",
              "          }\n",
              "        }\n",
              "      }\n",
              "      const blob = new Blob(buffers, {type: 'application/binary'});\n",
              "      const a = document.createElement('a');\n",
              "      a.href = window.URL.createObjectURL(blob);\n",
              "      a.download = filename;\n",
              "      div.appendChild(a);\n",
              "      a.click();\n",
              "      div.remove();\n",
              "    }\n",
              "  "
            ]
          },
          "metadata": {}
        },
        {
          "output_type": "display_data",
          "data": {
            "text/plain": [
              "<IPython.core.display.Javascript object>"
            ],
            "application/javascript": [
              "download(\"download_c28e2315-ddac-4128-bb93-b0ff1948fdc4\", \"my_model.h5\", 70016)"
            ]
          },
          "metadata": {}
        }
      ]
    },
    {
      "cell_type": "code",
      "source": [
        "new_model = tf.keras.models.load_model('saved_model/my_model')"
      ],
      "metadata": {
        "id": "EwUb_qBrAfJH"
      },
      "execution_count": 118,
      "outputs": []
    },
    {
      "cell_type": "code",
      "source": [
        "loss, acc = new_model.evaluate(X_test, y_test)\n",
        "print('Restored model, accuracy: {:5.2f}%'.format(100 * acc))"
      ],
      "metadata": {
        "colab": {
          "base_uri": "https://localhost:8080/"
        },
        "id": "eok-sRHMAh6y",
        "outputId": "fd4c78c1-d3b0-42c2-d0d6-32d3ab13c416"
      },
      "execution_count": 119,
      "outputs": [
        {
          "output_type": "stream",
          "name": "stdout",
          "text": [
            "6/6 [==============================] - 0s 3ms/step - loss: 0.1400 - accuracy: 0.9535\n",
            "Restored model, accuracy: 95.35%\n"
          ]
        }
      ]
    }
  ]
}